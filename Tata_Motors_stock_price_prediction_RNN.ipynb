{
  "nbformat": 4,
  "nbformat_minor": 0,
  "metadata": {
    "colab": {
      "provenance": [],
      "authorship_tag": "ABX9TyPeDHqwXZS8SCLbD9lvXyiK",
      "include_colab_link": true
    },
    "kernelspec": {
      "name": "python3",
      "display_name": "Python 3"
    },
    "language_info": {
      "name": "python"
    }
  },
  "cells": [
    {
      "cell_type": "markdown",
      "metadata": {
        "id": "view-in-github",
        "colab_type": "text"
      },
      "source": [
        "<a href=\"https://colab.research.google.com/github/jensontmathew/TATA-Motors-Stock-Price-Prediction/blob/main/Tata_Motors_stock_price_prediction_RNN.ipynb\" target=\"_parent\"><img src=\"https://colab.research.google.com/assets/colab-badge.svg\" alt=\"Open In Colab\"/></a>"
      ]
    },
    {
      "cell_type": "code",
      "execution_count": 52,
      "metadata": {
        "id": "09hi2R1rL-uH"
      },
      "outputs": [],
      "source": [
        "import pandas as pd\n",
        "import yfinance as yf\n",
        "import matplotlib.pyplot as plt\n",
        "import plotly.graph_objects as pl"
      ]
    },
    {
      "cell_type": "code",
      "source": [
        "# Get the stock data\n",
        "data = yf.download(\"TATAMOTORS.NS\", period=\"5y\")\n",
        "# Print the stock data\n",
        "# print(data)"
      ],
      "metadata": {
        "colab": {
          "base_uri": "https://localhost:8080/"
        },
        "id": "5aE4lWtkMAzi",
        "outputId": "279e9d09-f901-41e6-8bf0-9ccb847cfff1"
      },
      "execution_count": 38,
      "outputs": [
        {
          "output_type": "stream",
          "name": "stdout",
          "text": [
            "\r[*********************100%%**********************]  1 of 1 completed\n"
          ]
        }
      ]
    },
    {
      "cell_type": "code",
      "source": [
        "df=pd.DataFrame(data)"
      ],
      "metadata": {
        "id": "iFKyFqKeOTH7"
      },
      "execution_count": 39,
      "outputs": []
    },
    {
      "cell_type": "code",
      "source": [
        "df.head()"
      ],
      "metadata": {
        "colab": {
          "base_uri": "https://localhost:8080/",
          "height": 238
        },
        "id": "q7zP6bBVOYtb",
        "outputId": "8e97bed2-8fec-4c8e-c364-0402454b4b65"
      },
      "execution_count": 40,
      "outputs": [
        {
          "output_type": "execute_result",
          "data": {
            "text/plain": [
              "                  Open        High         Low       Close   Adj Close  \\\n",
              "Date                                                                     \n",
              "2018-12-05  173.000000  173.000000  168.600006  169.199997  168.674286   \n",
              "2018-12-06  168.500000  168.699997  161.600006  162.649994  162.144638   \n",
              "2018-12-07  162.250000  164.199997  160.800003  162.399994  161.895416   \n",
              "2018-12-10  159.899994  160.500000  156.500000  157.100006  156.611893   \n",
              "2018-12-11  155.000000  159.500000  154.649994  158.100006  157.608795   \n",
              "\n",
              "              Volume  \n",
              "Date                  \n",
              "2018-12-05  14960527  \n",
              "2018-12-06  15428019  \n",
              "2018-12-07  13545006  \n",
              "2018-12-10  13520495  \n",
              "2018-12-11  12094881  "
            ],
            "text/html": [
              "\n",
              "  <div id=\"df-5d5fd6b9-488e-48a3-9c6a-1ec7d55860c5\" class=\"colab-df-container\">\n",
              "    <div>\n",
              "<style scoped>\n",
              "    .dataframe tbody tr th:only-of-type {\n",
              "        vertical-align: middle;\n",
              "    }\n",
              "\n",
              "    .dataframe tbody tr th {\n",
              "        vertical-align: top;\n",
              "    }\n",
              "\n",
              "    .dataframe thead th {\n",
              "        text-align: right;\n",
              "    }\n",
              "</style>\n",
              "<table border=\"1\" class=\"dataframe\">\n",
              "  <thead>\n",
              "    <tr style=\"text-align: right;\">\n",
              "      <th></th>\n",
              "      <th>Open</th>\n",
              "      <th>High</th>\n",
              "      <th>Low</th>\n",
              "      <th>Close</th>\n",
              "      <th>Adj Close</th>\n",
              "      <th>Volume</th>\n",
              "    </tr>\n",
              "    <tr>\n",
              "      <th>Date</th>\n",
              "      <th></th>\n",
              "      <th></th>\n",
              "      <th></th>\n",
              "      <th></th>\n",
              "      <th></th>\n",
              "      <th></th>\n",
              "    </tr>\n",
              "  </thead>\n",
              "  <tbody>\n",
              "    <tr>\n",
              "      <th>2018-12-05</th>\n",
              "      <td>173.000000</td>\n",
              "      <td>173.000000</td>\n",
              "      <td>168.600006</td>\n",
              "      <td>169.199997</td>\n",
              "      <td>168.674286</td>\n",
              "      <td>14960527</td>\n",
              "    </tr>\n",
              "    <tr>\n",
              "      <th>2018-12-06</th>\n",
              "      <td>168.500000</td>\n",
              "      <td>168.699997</td>\n",
              "      <td>161.600006</td>\n",
              "      <td>162.649994</td>\n",
              "      <td>162.144638</td>\n",
              "      <td>15428019</td>\n",
              "    </tr>\n",
              "    <tr>\n",
              "      <th>2018-12-07</th>\n",
              "      <td>162.250000</td>\n",
              "      <td>164.199997</td>\n",
              "      <td>160.800003</td>\n",
              "      <td>162.399994</td>\n",
              "      <td>161.895416</td>\n",
              "      <td>13545006</td>\n",
              "    </tr>\n",
              "    <tr>\n",
              "      <th>2018-12-10</th>\n",
              "      <td>159.899994</td>\n",
              "      <td>160.500000</td>\n",
              "      <td>156.500000</td>\n",
              "      <td>157.100006</td>\n",
              "      <td>156.611893</td>\n",
              "      <td>13520495</td>\n",
              "    </tr>\n",
              "    <tr>\n",
              "      <th>2018-12-11</th>\n",
              "      <td>155.000000</td>\n",
              "      <td>159.500000</td>\n",
              "      <td>154.649994</td>\n",
              "      <td>158.100006</td>\n",
              "      <td>157.608795</td>\n",
              "      <td>12094881</td>\n",
              "    </tr>\n",
              "  </tbody>\n",
              "</table>\n",
              "</div>\n",
              "    <div class=\"colab-df-buttons\">\n",
              "\n",
              "  <div class=\"colab-df-container\">\n",
              "    <button class=\"colab-df-convert\" onclick=\"convertToInteractive('df-5d5fd6b9-488e-48a3-9c6a-1ec7d55860c5')\"\n",
              "            title=\"Convert this dataframe to an interactive table.\"\n",
              "            style=\"display:none;\">\n",
              "\n",
              "  <svg xmlns=\"http://www.w3.org/2000/svg\" height=\"24px\" viewBox=\"0 -960 960 960\">\n",
              "    <path d=\"M120-120v-720h720v720H120Zm60-500h600v-160H180v160Zm220 220h160v-160H400v160Zm0 220h160v-160H400v160ZM180-400h160v-160H180v160Zm440 0h160v-160H620v160ZM180-180h160v-160H180v160Zm440 0h160v-160H620v160Z\"/>\n",
              "  </svg>\n",
              "    </button>\n",
              "\n",
              "  <style>\n",
              "    .colab-df-container {\n",
              "      display:flex;\n",
              "      gap: 12px;\n",
              "    }\n",
              "\n",
              "    .colab-df-convert {\n",
              "      background-color: #E8F0FE;\n",
              "      border: none;\n",
              "      border-radius: 50%;\n",
              "      cursor: pointer;\n",
              "      display: none;\n",
              "      fill: #1967D2;\n",
              "      height: 32px;\n",
              "      padding: 0 0 0 0;\n",
              "      width: 32px;\n",
              "    }\n",
              "\n",
              "    .colab-df-convert:hover {\n",
              "      background-color: #E2EBFA;\n",
              "      box-shadow: 0px 1px 2px rgba(60, 64, 67, 0.3), 0px 1px 3px 1px rgba(60, 64, 67, 0.15);\n",
              "      fill: #174EA6;\n",
              "    }\n",
              "\n",
              "    .colab-df-buttons div {\n",
              "      margin-bottom: 4px;\n",
              "    }\n",
              "\n",
              "    [theme=dark] .colab-df-convert {\n",
              "      background-color: #3B4455;\n",
              "      fill: #D2E3FC;\n",
              "    }\n",
              "\n",
              "    [theme=dark] .colab-df-convert:hover {\n",
              "      background-color: #434B5C;\n",
              "      box-shadow: 0px 1px 3px 1px rgba(0, 0, 0, 0.15);\n",
              "      filter: drop-shadow(0px 1px 2px rgba(0, 0, 0, 0.3));\n",
              "      fill: #FFFFFF;\n",
              "    }\n",
              "  </style>\n",
              "\n",
              "    <script>\n",
              "      const buttonEl =\n",
              "        document.querySelector('#df-5d5fd6b9-488e-48a3-9c6a-1ec7d55860c5 button.colab-df-convert');\n",
              "      buttonEl.style.display =\n",
              "        google.colab.kernel.accessAllowed ? 'block' : 'none';\n",
              "\n",
              "      async function convertToInteractive(key) {\n",
              "        const element = document.querySelector('#df-5d5fd6b9-488e-48a3-9c6a-1ec7d55860c5');\n",
              "        const dataTable =\n",
              "          await google.colab.kernel.invokeFunction('convertToInteractive',\n",
              "                                                    [key], {});\n",
              "        if (!dataTable) return;\n",
              "\n",
              "        const docLinkHtml = 'Like what you see? Visit the ' +\n",
              "          '<a target=\"_blank\" href=https://colab.research.google.com/notebooks/data_table.ipynb>data table notebook</a>'\n",
              "          + ' to learn more about interactive tables.';\n",
              "        element.innerHTML = '';\n",
              "        dataTable['output_type'] = 'display_data';\n",
              "        await google.colab.output.renderOutput(dataTable, element);\n",
              "        const docLink = document.createElement('div');\n",
              "        docLink.innerHTML = docLinkHtml;\n",
              "        element.appendChild(docLink);\n",
              "      }\n",
              "    </script>\n",
              "  </div>\n",
              "\n",
              "\n",
              "<div id=\"df-8f207092-24f3-4aa2-8d26-9c794c78bea0\">\n",
              "  <button class=\"colab-df-quickchart\" onclick=\"quickchart('df-8f207092-24f3-4aa2-8d26-9c794c78bea0')\"\n",
              "            title=\"Suggest charts\"\n",
              "            style=\"display:none;\">\n",
              "\n",
              "<svg xmlns=\"http://www.w3.org/2000/svg\" height=\"24px\"viewBox=\"0 0 24 24\"\n",
              "     width=\"24px\">\n",
              "    <g>\n",
              "        <path d=\"M19 3H5c-1.1 0-2 .9-2 2v14c0 1.1.9 2 2 2h14c1.1 0 2-.9 2-2V5c0-1.1-.9-2-2-2zM9 17H7v-7h2v7zm4 0h-2V7h2v10zm4 0h-2v-4h2v4z\"/>\n",
              "    </g>\n",
              "</svg>\n",
              "  </button>\n",
              "\n",
              "<style>\n",
              "  .colab-df-quickchart {\n",
              "      --bg-color: #E8F0FE;\n",
              "      --fill-color: #1967D2;\n",
              "      --hover-bg-color: #E2EBFA;\n",
              "      --hover-fill-color: #174EA6;\n",
              "      --disabled-fill-color: #AAA;\n",
              "      --disabled-bg-color: #DDD;\n",
              "  }\n",
              "\n",
              "  [theme=dark] .colab-df-quickchart {\n",
              "      --bg-color: #3B4455;\n",
              "      --fill-color: #D2E3FC;\n",
              "      --hover-bg-color: #434B5C;\n",
              "      --hover-fill-color: #FFFFFF;\n",
              "      --disabled-bg-color: #3B4455;\n",
              "      --disabled-fill-color: #666;\n",
              "  }\n",
              "\n",
              "  .colab-df-quickchart {\n",
              "    background-color: var(--bg-color);\n",
              "    border: none;\n",
              "    border-radius: 50%;\n",
              "    cursor: pointer;\n",
              "    display: none;\n",
              "    fill: var(--fill-color);\n",
              "    height: 32px;\n",
              "    padding: 0;\n",
              "    width: 32px;\n",
              "  }\n",
              "\n",
              "  .colab-df-quickchart:hover {\n",
              "    background-color: var(--hover-bg-color);\n",
              "    box-shadow: 0 1px 2px rgba(60, 64, 67, 0.3), 0 1px 3px 1px rgba(60, 64, 67, 0.15);\n",
              "    fill: var(--button-hover-fill-color);\n",
              "  }\n",
              "\n",
              "  .colab-df-quickchart-complete:disabled,\n",
              "  .colab-df-quickchart-complete:disabled:hover {\n",
              "    background-color: var(--disabled-bg-color);\n",
              "    fill: var(--disabled-fill-color);\n",
              "    box-shadow: none;\n",
              "  }\n",
              "\n",
              "  .colab-df-spinner {\n",
              "    border: 2px solid var(--fill-color);\n",
              "    border-color: transparent;\n",
              "    border-bottom-color: var(--fill-color);\n",
              "    animation:\n",
              "      spin 1s steps(1) infinite;\n",
              "  }\n",
              "\n",
              "  @keyframes spin {\n",
              "    0% {\n",
              "      border-color: transparent;\n",
              "      border-bottom-color: var(--fill-color);\n",
              "      border-left-color: var(--fill-color);\n",
              "    }\n",
              "    20% {\n",
              "      border-color: transparent;\n",
              "      border-left-color: var(--fill-color);\n",
              "      border-top-color: var(--fill-color);\n",
              "    }\n",
              "    30% {\n",
              "      border-color: transparent;\n",
              "      border-left-color: var(--fill-color);\n",
              "      border-top-color: var(--fill-color);\n",
              "      border-right-color: var(--fill-color);\n",
              "    }\n",
              "    40% {\n",
              "      border-color: transparent;\n",
              "      border-right-color: var(--fill-color);\n",
              "      border-top-color: var(--fill-color);\n",
              "    }\n",
              "    60% {\n",
              "      border-color: transparent;\n",
              "      border-right-color: var(--fill-color);\n",
              "    }\n",
              "    80% {\n",
              "      border-color: transparent;\n",
              "      border-right-color: var(--fill-color);\n",
              "      border-bottom-color: var(--fill-color);\n",
              "    }\n",
              "    90% {\n",
              "      border-color: transparent;\n",
              "      border-bottom-color: var(--fill-color);\n",
              "    }\n",
              "  }\n",
              "</style>\n",
              "\n",
              "  <script>\n",
              "    async function quickchart(key) {\n",
              "      const quickchartButtonEl =\n",
              "        document.querySelector('#' + key + ' button');\n",
              "      quickchartButtonEl.disabled = true;  // To prevent multiple clicks.\n",
              "      quickchartButtonEl.classList.add('colab-df-spinner');\n",
              "      try {\n",
              "        const charts = await google.colab.kernel.invokeFunction(\n",
              "            'suggestCharts', [key], {});\n",
              "      } catch (error) {\n",
              "        console.error('Error during call to suggestCharts:', error);\n",
              "      }\n",
              "      quickchartButtonEl.classList.remove('colab-df-spinner');\n",
              "      quickchartButtonEl.classList.add('colab-df-quickchart-complete');\n",
              "    }\n",
              "    (() => {\n",
              "      let quickchartButtonEl =\n",
              "        document.querySelector('#df-8f207092-24f3-4aa2-8d26-9c794c78bea0 button');\n",
              "      quickchartButtonEl.style.display =\n",
              "        google.colab.kernel.accessAllowed ? 'block' : 'none';\n",
              "    })();\n",
              "  </script>\n",
              "</div>\n",
              "    </div>\n",
              "  </div>\n"
            ]
          },
          "metadata": {},
          "execution_count": 40
        }
      ]
    },
    {
      "cell_type": "code",
      "source": [
        "#saving the file\n",
        "tata_data=df.to_csv('tatastock.csv')"
      ],
      "metadata": {
        "id": "8Od_l41QMF0Z"
      },
      "execution_count": 41,
      "outputs": []
    },
    {
      "cell_type": "code",
      "source": [
        "df.info()"
      ],
      "metadata": {
        "colab": {
          "base_uri": "https://localhost:8080/"
        },
        "id": "AX9Z7t8hOMji",
        "outputId": "15568d61-0879-4c68-e981-3ba8fbc28e55"
      },
      "execution_count": 42,
      "outputs": [
        {
          "output_type": "stream",
          "name": "stdout",
          "text": [
            "<class 'pandas.core.frame.DataFrame'>\n",
            "DatetimeIndex: 1236 entries, 2018-12-05 to 2023-12-05\n",
            "Data columns (total 6 columns):\n",
            " #   Column     Non-Null Count  Dtype  \n",
            "---  ------     --------------  -----  \n",
            " 0   Open       1236 non-null   float64\n",
            " 1   High       1236 non-null   float64\n",
            " 2   Low        1236 non-null   float64\n",
            " 3   Close      1236 non-null   float64\n",
            " 4   Adj Close  1236 non-null   float64\n",
            " 5   Volume     1236 non-null   int64  \n",
            "dtypes: float64(5), int64(1)\n",
            "memory usage: 67.6 KB\n"
          ]
        }
      ]
    },
    {
      "cell_type": "code",
      "source": [
        "df.drop(['Open','High','Low','Adj Close','Volume'],axis=1,inplace=True)"
      ],
      "metadata": {
        "id": "pVnlsfFGXHx8"
      },
      "execution_count": 43,
      "outputs": []
    },
    {
      "cell_type": "code",
      "source": [
        "df.reset_index(inplace=True)"
      ],
      "metadata": {
        "id": "D0m6jmYnT4VW"
      },
      "execution_count": 47,
      "outputs": []
    },
    {
      "cell_type": "code",
      "source": [
        "df.info()"
      ],
      "metadata": {
        "colab": {
          "base_uri": "https://localhost:8080/"
        },
        "id": "0xYNz8mRZsIb",
        "outputId": "97c7761e-24a8-4d92-96b0-25aef1613232"
      },
      "execution_count": 48,
      "outputs": [
        {
          "output_type": "stream",
          "name": "stdout",
          "text": [
            "<class 'pandas.core.frame.DataFrame'>\n",
            "RangeIndex: 1236 entries, 0 to 1235\n",
            "Data columns (total 2 columns):\n",
            " #   Column  Non-Null Count  Dtype         \n",
            "---  ------  --------------  -----         \n",
            " 0   Date    1236 non-null   datetime64[ns]\n",
            " 1   Close   1236 non-null   float64       \n",
            "dtypes: datetime64[ns](1), float64(1)\n",
            "memory usage: 19.4 KB\n"
          ]
        }
      ]
    },
    {
      "cell_type": "code",
      "source": [
        "df['Date']=pd.to_datetime(df['Date'])"
      ],
      "metadata": {
        "id": "fxqqWUaXZHSA"
      },
      "execution_count": 50,
      "outputs": []
    },
    {
      "cell_type": "code",
      "source": [
        "#plotting\n",
        "plt.figure(figsize=(12,6))\n",
        "plt.plot(df['Date'],df['Close'])"
      ],
      "metadata": {
        "colab": {
          "base_uri": "https://localhost:8080/",
          "height": 540
        },
        "id": "Ladt1fLBZlP0",
        "outputId": "6a98fe80-534d-4fd8-bedb-bdc377be7cc6"
      },
      "execution_count": 55,
      "outputs": [
        {
          "output_type": "execute_result",
          "data": {
            "text/plain": [
              "[<matplotlib.lines.Line2D at 0x7ff18a7546a0>]"
            ]
          },
          "metadata": {},
          "execution_count": 55
        },
        {
          "output_type": "display_data",
          "data": {
            "text/plain": [
              "<Figure size 1200x600 with 1 Axes>"
            ],
            "image/png": "[encoded data removed]"
          },
          "metadata": {}
        }
      ]
    },
    {
      "cell_type": "code",
      "source": [
        "trace=pl.Scatter(\n",
        "    x=df['Date'],\n",
        "    y=df['Close'],\n",
        "    mode='lines',\n",
        "    name='Date'\n",
        ")\n",
        "\n",
        "layout=pl.Layout(\n",
        "    title='Tata Stock',\n",
        "    xaxis={'title':'Date'},\n",
        "    yaxis={'title':'Close'}\n",
        "\n",
        ")\n",
        "\n",
        "fig=pl.Figure(data=[trace],layout=layout)\n",
        "fig.show()"
      ],
      "metadata": {
        "colab": {
          "base_uri": "https://localhost:8080/",
          "height": 542
        },
        "id": "cYJnJBz5cn9K",
        "outputId": "3de3e40a-8289-4b0d-e837-4af3e1fe5fc8"
      },
      "execution_count": 61,
      "outputs": [
        {
          "output_type": "display_data",
          "data": {
            "text/html": [
              "<html>\n",
              "<head><meta charset=\"utf-8\" /></head>\n",
              "<body>\n",
              "    <div>            <script src=\"https://cdnjs.cloudflare.com/ajax/libs/mathjax/2.7.5/MathJax.js?config=TeX-AMS-MML_SVG\"></script><script type=\"text/javascript\">if (window.MathJax && window.MathJax.Hub && window.MathJax.Hub.Config) {window.MathJax.Hub.Config({SVG: {font: \"STIX-Web\"}});}</script>                <script type=\"text/javascript\">window.PlotlyConfig = {MathJaxConfig: 'local'};</script>\n",
              "        <script charset=\"utf-8\" src=\"https://cdn.plot.ly/plotly-2.24.1.min.js\"></script>                <div id=\"b9f457d1-af2e-49ec-975a-5341460ba79c\" class=\"plotly-graph-div\" style=\"height:525px; width:100%;\"></div>            <script type=\"text/javascript\">                                    window.PLOTLYENV=window.PLOTLYENV || {};                                    if (document.getElementById(\"b9f457d1-af2e-49ec-975a-5341460ba79c\")) {                    Plotly.newPlot(                        \"b9f457d1-af2e-49ec-975a-5341460ba79c\",                        [{\"mode\":\"lines\",\"name\":\"Date\",\"x\":[\"2018-12-05T00:00:00\",\"2018-12-06T00:00:00\",\"2018-12-07T00:00:00\",\"2018-12-10T00:00:00\",\"2018-12-11T00:00:00\",\"2018-12-12T00:00:00\",\"2018-12-13T00:00:00\",\"2018-12-14T00:00:00\",\"2018-12-17T00:00:00\",\"2018-12-18T00:00:00\",\"2018-12-19T00:00:00\",\"2018-12-20T00:00:00\",\"2018-12-21T00:00:00\",\"2018-12-24T00:00:00\",\"2018-12-26T00:00:00\",\"2018-12-27T00:00:00\",\"2018-12-28T00:00:00\",\"2018-12-31T00:00:00\",\"2019-01-01T00:00:00\",\"2019-01-02T00:00:00\",\"2019-01-03T00:00:00\",\"2019-01-04T00:00:00\",\"2019-01-07T00:00:00\",\"2019-01-08T00:00:00\",\"2019-01-09T00:00:00\",\"2019-01-10T00:00:00\",\"2019-01-11T00:00:00\",\"2019-01-14T00:00:00\",\"2019-01-15T00:00:00\",\"2019-01-16T00:00:00\",\"2019-01-17T00:00:00\",\"2019-01-18T00:00:00\",\"2019-01-21T00:00:00\",\"2019-01-22T00:00:00\",\"2019-01-23T00:00:00\",\"2019-01-24T00:00:00\",\"2019-01-25T00:00:00\",\"2019-01-28T00:00:00\",\"2019-01-29T00:00:00\",\"2019-01-30T00:00:00\",\"2019-01-31T00:00:00\",\"2019-02-01T00:00:00\",\"2019-02-04T00:00:00\",\"2019-02-05T00:00:00\",\"2019-02-06T00:00:00\",\"2019-02-07T00:00:00\",\"2019-02-08T00:00:00\",\"2019-02-11T00:00:00\",\"2019-02-12T00:00:00\",\"2019-02-14T00:00:00\",\"2019-02-15T00:00:00\",\"2019-02-18T00:00:00\",\"2019-02-19T00:00:00\",\"2019-02-20T00:00:00\",\"2019-02-21T00:00:00\",\"2019-02-22T00:00:00\",\"2019-02-25T00:00:00\",\"2019-02-26T00:00:00\",\"2019-02-27T00:00:00\",\"2019-02-28T00:00:00\",\"2019-03-01T00:00:00\",\"2019-03-05T00:00:00\",\"2019-03-06T00:00:00\",\"2019-03-07T00:00:00\",\"2019-03-08T00:00:00\",\"2019-03-11T00:00:00\",\"2019-03-12T00:00:00\",\"2019-03-13T00:00:00\",\"2019-03-14T00:00:00\",\"2019-03-15T00:00:00\",\"2019-03-18T00:00:00\",\"2019-03-19T00:00:00\",\"2019-03-20T00:00:00\",\"2019-03-22T00:00:00\",\"2019-03-25T00:00:00\",\"2019-03-26T00:00:00\",\"2019-03-27T00:00:00\",\"2019-03-28T00:00:00\",\"2019-04-01T00:00:00\",\"2019-04-02T00:00:00\",\"2019-04-03T00:00:00\",\"2019-04-04T00:00:00\",\"2019-04-05T00:00:00\",\"2019-04-08T00:00:00\",\"2019-04-09T00:00:00\",\"2019-04-10T00:00:00\",\"2019-04-11T00:00:00\",\"2019-04-12T00:00:00\",\"2019-04-15T00:00:00\",\"2019-04-16T00:00:00\",\"2019-04-18T00:00:00\",\"2019-04-22T00:00:00\",\"2019-04-23T00:00:00\",\"2019-04-24T00:00:00\",\"2019-04-25T00:00:00\",\"2019-04-26T00:00:00\",\"2019-04-30T00:00:00\",\"2019-05-02T00:00:00\",\"2019-05-03T00:00:00\",\"2019-05-06T00:00:00\",\"2019-05-07T00:00:00\",\"2019-05-08T00:00:00\",\"2019-05-09T00:00:00\",\"2019-05-10T00:00:00\",\"2019-05-13T00:00:00\",\"2019-05-14T00:00:00\",\"2019-05-15T00:00:00\",\"2019-05-16T00:00:00\",\"2019-05-17T00:00:00\",\"2019-05-20T00:00:00\",\"2019-05-21T00:00:00\",\"2019-05-22T00:00:00\",\"2019-05-23T00:00:00\",\"2019-05-24T00:00:00\",\"2019-05-27T00:00:00\",\"2019-05-28T00:00:00\",\"2019-05-29T00:00:00\",\"2019-05-30T00:00:00\",\"2019-05-31T00:00:00\",\"2019-06-03T00:00:00\",\"2019-06-04T00:00:00\",\"2019-06-06T00:00:00\",\"2019-06-07T00:00:00\",\"2019-06-10T00:00:00\",\"2019-06-11T00:00:00\",\"2019-06-12T00:00:00\",\"2019-06-13T00:00:00\",\"2019-06-14T00:00:00\",\"2019-06-17T00:00:00\",\"2019-06-18T00:00:00\",\"2019-06-19T00:00:00\",\"2019-06-20T00:00:00\",\"2019-06-21T00:00:00\",\"2019-06-24T00:00:00\",\"2019-06-25T00:00:00\",\"2019-06-26T00:00:00\",\"2019-06-27T00:00:00\",\"2019-06-28T00:00:00\",\"2019-07-01T00:00:00\",\"2019-07-02T00:00:00\",\"2019-07-03T00:00:00\",\"2019-07-04T00:00:00\",\"2019-07-05T00:00:00\",\"2019-07-08T00:00:00\",\"2019-07-09T00:00:00\",\"2019-07-10T00:00:00\",\"2019-07-11T00:00:00\",\"2019-07-12T00:00:00\",\"2019-07-15T00:00:00\",\"2019-07-16T00:00:00\",\"2019-07-17T00:00:00\",\"2019-07-18T00:00:00\",\"2019-07-19T00:00:00\",\"2019-07-22T00:00:00\",\"2019-07-23T00:00:00\",\"2019-07-24T00:00:00\",\"2019-07-25T00:00:00\",\"2019-07-26T00:00:00\",\"2019-07-29T00:00:00\",\"2019-07-30T00:00:00\",\"2019-07-31T00:00:00\",\"2019-08-01T00:00:00\",\"2019-08-02T00:00:00\",\"2019-08-05T00:00:00\",\"2019-08-06T00:00:00\",\"2019-08-07T00:00:00\",\"2019-08-08T00:00:00\",\"2019-08-09T00:00:00\",\"2019-08-13T00:00:00\",\"2019-08-14T00:00:00\",\"2019-08-16T00:00:00\",\"2019-08-19T00:00:00\",\"2019-08-20T00:00:00\",\"2019-08-21T00:00:00\",\"2019-08-22T00:00:00\",\"2019-08-23T00:00:00\",\"2019-08-26T00:00:00\",\"2019-08-27T00:00:00\",\"2019-08-28T00:00:00\",\"2019-08-29T00:00:00\",\"2019-08-30T00:00:00\",\"2019-09-03T00:00:00\",\"2019-09-04T00:00:00\",\"2019-09-05T00:00:00\",\"2019-09-06T00:00:00\",\"2019-09-09T00:00:00\",\"2019-09-11T00:00:00\",\"2019-09-12T00:00:00\",\"2019-09-13T00:00:00\",\"2019-09-16T00:00:00\",\"2019-09-17T00:00:00\",\"2019-09-18T00:00:00\",\"2019-09-19T00:00:00\",\"2019-09-20T00:00:00\",\"2019-09-23T00:00:00\",\"2019-09-24T00:00:00\",\"2019-09-25T00:00:00\",\"2019-09-26T00:00:00\",\"2019-09-27T00:00:00\",\"2019-09-30T00:00:00\",\"2019-10-01T00:00:00\",\"2019-10-03T00:00:00\",\"2019-10-04T00:00:00\",\"2019-10-07T00:00:00\",\"2019-10-09T00:00:00\",\"2019-10-10T00:00:00\",\"2019-10-11T00:00:00\",\"2019-10-14T00:00:00\",\"2019-10-15T00:00:00\",\"2019-10-16T00:00:00\",\"2019-10-17T00:00:00\",\"2019-10-18T00:00:00\",\"2019-10-22T00:00:00\",\"2019-10-23T00:00:00\",\"2019-10-24T00:00:00\",\"2019-10-25T00:00:00\",\"2019-10-27T00:00:00\",\"2019-10-29T00:00:00\",\"2019-10-30T00:00:00\",\"2019-10-31T00:00:00\",\"2019-11-01T00:00:00\",\"2019-11-04T00:00:00\",\"2019-11-05T00:00:00\",\"2019-11-06T00:00:00\",\"2019-11-07T00:00:00\",\"2019-11-08T00:00:00\",\"2019-11-11T00:00:00\",\"2019-11-13T00:00:00\",\"2019-11-14T00:00:00\",\"2019-11-15T00:00:00\",\"2019-11-18T00:00:00\",\"2019-11-19T00:00:00\",\"2019-11-20T00:00:00\",\"2019-11-21T00:00:00\",\"2019-11-22T00:00:00\",\"2019-11-25T00:00:00\",\"2019-11-26T00:00:00\",\"2019-11-27T00:00:00\",\"2019-11-28T00:00:00\",\"2019-11-29T00:00:00\",\"2019-12-02T00:00:00\",\"2019-12-03T00:00:00\",\"2019-12-04T00:00:00\",\"2019-12-05T00:00:00\",\"2019-12-06T00:00:00\",\"2019-12-09T00:00:00\",\"2019-12-10T00:00:00\",\"2019-12-11T00:00:00\",\"2019-12-12T00:00:00\",\"2019-12-13T00:00:00\",\"2019-12-16T00:00:00\",\"2019-12-17T00:00:00\",\"2019-12-18T00:00:00\",\"2019-12-19T00:00:00\",\"2019-12-20T00:00:00\",\"2019-12-23T00:00:00\",\"2019-12-24T00:00:00\",\"2019-12-26T00:00:00\",\"2019-12-27T00:00:00\",\"2019-12-30T00:00:00\",\"2019-12-31T00:00:00\",\"2020-01-01T00:00:00\",\"2020-01-02T00:00:00\",\"2020-01-03T00:00:00\",\"2020-01-06T00:00:00\",\"2020-01-07T00:00:00\",\"2020-01-08T00:00:00\",\"2020-01-09T00:00:00\",\"2020-01-10T00:00:00\",\"2020-01-13T00:00:00\",\"2020-01-14T00:00:00\",\"2020-01-15T00:00:00\",\"2020-01-16T00:00:00\",\"2020-01-17T00:00:00\",\"2020-01-20T00:00:00\",\"2020-01-21T00:00:00\",\"2020-01-22T00:00:00\",\"2020-01-23T00:00:00\",\"2020-01-24T00:00:00\",\"2020-01-27T00:00:00\",\"2020-01-28T00:00:00\",\"2020-01-29T00:00:00\",\"2020-01-30T00:00:00\",\"2020-01-31T00:00:00\",\"2020-02-03T00:00:00\",\"2020-02-04T00:00:00\",\"2020-02-05T00:00:00\",\"2020-02-06T00:00:00\",\"2020-02-07T00:00:00\",\"2020-02-10T00:00:00\",\"2020-02-11T00:00:00\",\"2020-02-12T00:00:00\",\"2020-02-13T00:00:00\",\"2020-02-14T00:00:00\",\"2020-02-17T00:00:00\",\"2020-02-18T00:00:00\",\"2020-02-19T00:00:00\",\"2020-02-20T00:00:00\",\"2020-02-24T00:00:00\",\"2020-02-25T00:00:00\",\"2020-02-26T00:00:00\",\"2020-02-27T00:00:00\",\"2020-02-28T00:00:00\",\"2020-03-02T00:00:00\",\"2020-03-03T00:00:00\",\"2020-03-04T00:00:00\",\"2020-03-05T00:00:00\",\"2020-03-06T00:00:00\",\"2020-03-09T00:00:00\",\"2020-03-11T00:00:00\",\"2020-03-12T00:00:00\",\"2020-03-13T00:00:00\",\"2020-03-16T00:00:00\",\"2020-03-17T00:00:00\",\"2020-03-18T00:00:00\",\"2020-03-19T00:00:00\",\"2020-03-20T00:00:00\",\"2020-03-23T00:00:00\",\"2020-03-24T00:00:00\",\"2020-03-25T00:00:00\",\"2020-03-26T00:00:00\",\"2020-03-27T00:00:00\",\"2020-03-30T00:00:00\",\"2020-03-31T00:00:00\",\"2020-04-01T00:00:00\",\"2020-04-03T00:00:00\",\"2020-04-07T00:00:00\",\"2020-04-08T00:00:00\",\"2020-04-09T00:00:00\",\"2020-04-13T00:00:00\",\"2020-04-15T00:00:00\",\"2020-04-16T00:00:00\",\"2020-04-17T00:00:00\",\"2020-04-20T00:00:00\",\"2020-04-21T00:00:00\",\"2020-04-22T00:00:00\",\"2020-04-23T00:00:00\",\"2020-04-24T00:00:00\",\"2020-04-27T00:00:00\",\"2020-04-28T00:00:00\",\"2020-04-29T00:00:00\",\"2020-04-30T00:00:00\",\"2020-05-04T00:00:00\",\"2020-05-05T00:00:00\",\"2020-05-06T00:00:00\",\"2020-05-07T00:00:00\",\"2020-05-08T00:00:00\",\"2020-05-11T00:00:00\",\"2020-05-12T00:00:00\",\"2020-05-13T00:00:00\",\"2020-05-14T00:00:00\",\"2020-05-15T00:00:00\",\"2020-05-18T00:00:00\",\"2020-05-19T00:00:00\",\"2020-05-20T00:00:00\",\"2020-05-21T00:00:00\",\"2020-05-22T00:00:00\",\"2020-05-26T00:00:00\",\"2020-05-27T00:00:00\",\"2020-05-28T00:00:00\",\"2020-05-29T00:00:00\",\"2020-06-01T00:00:00\",\"2020-06-02T00:00:00\",\"2020-06-03T00:00:00\",\"2020-06-04T00:00:00\",\"2020-06-05T00:00:00\",\"2020-06-08T00:00:00\",\"2020-06-09T00:00:00\",\"2020-06-10T00:00:00\",\"2020-06-11T00:00:00\",\"2020-06-12T00:00:00\",\"2020-06-15T00:00:00\",\"2020-06-16T00:00:00\",\"2020-06-17T00:00:00\",\"2020-06-18T00:00:00\",\"2020-06-19T00:00:00\",\"2020-06-22T00:00:00\",\"2020-06-23T00:00:00\",\"2020-06-24T00:00:00\",\"2020-06-25T00:00:00\",\"2020-06-26T00:00:00\",\"2020-06-29T00:00:00\",\"2020-06-30T00:00:00\",\"2020-07-01T00:00:00\",\"2020-07-02T00:00:00\",\"2020-07-03T00:00:00\",\"2020-07-06T00:00:00\",\"2020-07-07T00:00:00\",\"2020-07-08T00:00:00\",\"2020-07-09T00:00:00\",\"2020-07-10T00:00:00\",\"2020-07-13T00:00:00\",\"2020-07-14T00:00:00\",\"2020-07-15T00:00:00\",\"2020-07-16T00:00:00\",\"2020-07-17T00:00:00\",\"2020-07-20T00:00:00\",\"2020-07-21T00:00:00\",\"2020-07-22T00:00:00\",\"2020-07-23T00:00:00\",\"2020-07-24T00:00:00\",\"2020-07-27T00:00:00\",\"2020-07-28T00:00:00\",\"2020-07-29T00:00:00\",\"2020-07-30T00:00:00\",\"2020-07-31T00:00:00\",\"2020-08-03T00:00:00\",\"2020-08-04T00:00:00\",\"2020-08-05T00:00:00\",\"2020-08-06T00:00:00\",\"2020-08-07T00:00:00\",\"2020-08-10T00:00:00\",\"2020-08-11T00:00:00\",\"2020-08-12T00:00:00\",\"2020-08-13T00:00:00\",\"2020-08-14T00:00:00\",\"2020-08-17T00:00:00\",\"2020-08-18T00:00:00\",\"2020-08-19T00:00:00\",\"2020-08-20T00:00:00\",\"2020-08-21T00:00:00\",\"2020-08-24T00:00:00\",\"2020-08-25T00:00:00\",\"2020-08-26T00:00:00\",\"2020-08-27T00:00:00\",\"2020-08-28T00:00:00\",\"2020-08-31T00:00:00\",\"2020-09-01T00:00:00\",\"2020-09-02T00:00:00\",\"2020-09-03T00:00:00\",\"2020-09-04T00:00:00\",\"2020-09-07T00:00:00\",\"2020-09-08T00:00:00\",\"2020-09-09T00:00:00\",\"2020-09-10T00:00:00\",\"2020-09-11T00:00:00\",\"2020-09-14T00:00:00\",\"2020-09-15T00:00:00\",\"2020-09-16T00:00:00\",\"2020-09-17T00:00:00\",\"2020-09-18T00:00:00\",\"2020-09-21T00:00:00\",\"2020-09-22T00:00:00\",\"2020-09-23T00:00:00\",\"2020-09-24T00:00:00\",\"2020-09-25T00:00:00\",\"2020-09-28T00:00:00\",\"2020-09-29T00:00:00\",\"2020-09-30T00:00:00\",\"2020-10-01T00:00:00\",\"2020-10-05T00:00:00\",\"2020-10-06T00:00:00\",\"2020-10-07T00:00:00\",\"2020-10-08T00:00:00\",\"2020-10-09T00:00:00\",\"2020-10-12T00:00:00\",\"2020-10-13T00:00:00\",\"2020-10-14T00:00:00\",\"2020-10-15T00:00:00\",\"2020-10-16T00:00:00\",\"2020-10-19T00:00:00\",\"2020-10-20T00:00:00\",\"2020-10-21T00:00:00\",\"2020-10-22T00:00:00\",\"2020-10-23T00:00:00\",\"2020-10-26T00:00:00\",\"2020-10-27T00:00:00\",\"2020-10-28T00:00:00\",\"2020-10-29T00:00:00\",\"2020-10-30T00:00:00\",\"2020-11-02T00:00:00\",\"2020-11-03T00:00:00\",\"2020-11-04T00:00:00\",\"2020-11-05T00:00:00\",\"2020-11-06T00:00:00\",\"2020-11-09T00:00:00\",\"2020-11-10T00:00:00\",\"2020-11-11T00:00:00\",\"2020-11-12T00:00:00\",\"2020-11-13T00:00:00\",\"2020-11-14T00:00:00\",\"2020-11-17T00:00:00\",\"2020-11-18T00:00:00\",\"2020-11-19T00:00:00\",\"2020-11-20T00:00:00\",\"2020-11-23T00:00:00\",\"2020-11-24T00:00:00\",\"2020-11-25T00:00:00\",\"2020-11-26T00:00:00\",\"2020-11-27T00:00:00\",\"2020-12-01T00:00:00\",\"2020-12-02T00:00:00\",\"2020-12-03T00:00:00\",\"2020-12-04T00:00:00\",\"2020-12-07T00:00:00\",\"2020-12-08T00:00:00\",\"2020-12-09T00:00:00\",\"2020-12-10T00:00:00\",\"2020-12-11T00:00:00\",\"2020-12-14T00:00:00\",\"2020-12-15T00:00:00\",\"2020-12-16T00:00:00\",\"2020-12-17T00:00:00\",\"2020-12-18T00:00:00\",\"2020-12-21T00:00:00\",\"2020-12-22T00:00:00\",\"2020-12-23T00:00:00\",\"2020-12-24T00:00:00\",\"2020-12-28T00:00:00\",\"2020-12-29T00:00:00\",\"2020-12-30T00:00:00\",\"2020-12-31T00:00:00\",\"2021-01-01T00:00:00\",\"2021-01-04T00:00:00\",\"2021-01-05T00:00:00\",\"2021-01-06T00:00:00\",\"2021-01-07T00:00:00\",\"2021-01-08T00:00:00\",\"2021-01-11T00:00:00\",\"2021-01-12T00:00:00\",\"2021-01-13T00:00:00\",\"2021-01-14T00:00:00\",\"2021-01-15T00:00:00\",\"2021-01-18T00:00:00\",\"2021-01-19T00:00:00\",\"2021-01-20T00:00:00\",\"2021-01-21T00:00:00\",\"2021-01-22T00:00:00\",\"2021-01-25T00:00:00\",\"2021-01-27T00:00:00\",\"2021-01-28T00:00:00\",\"2021-01-29T00:00:00\",\"2021-02-01T00:00:00\",\"2021-02-02T00:00:00\",\"2021-02-03T00:00:00\",\"2021-02-04T00:00:00\",\"2021-02-05T00:00:00\",\"2021-02-08T00:00:00\",\"2021-02-09T00:00:00\",\"2021-02-10T00:00:00\",\"2021-02-11T00:00:00\",\"2021-02-12T00:00:00\",\"2021-02-15T00:00:00\",\"2021-02-16T00:00:00\",\"2021-02-17T00:00:00\",\"2021-02-18T00:00:00\",\"2021-02-19T00:00:00\",\"2021-02-22T00:00:00\",\"2021-02-23T00:00:00\",\"2021-02-24T00:00:00\",\"2021-02-25T00:00:00\",\"2021-02-26T00:00:00\",\"2021-03-01T00:00:00\",\"2021-03-02T00:00:00\",\"2021-03-03T00:00:00\",\"2021-03-04T00:00:00\",\"2021-03-05T00:00:00\",\"2021-03-08T00:00:00\",\"2021-03-09T00:00:00\",\"2021-03-10T00:00:00\",\"2021-03-12T00:00:00\",\"2021-03-15T00:00:00\",\"2021-03-16T00:00:00\",\"2021-03-17T00:00:00\",\"2021-03-18T00:00:00\",\"2021-03-19T00:00:00\",\"2021-03-22T00:00:00\",\"2021-03-23T00:00:00\",\"2021-03-24T00:00:00\",\"2021-03-25T00:00:00\",\"2021-03-26T00:00:00\",\"2021-03-30T00:00:00\",\"2021-03-31T00:00:00\",\"2021-04-01T00:00:00\",\"2021-04-05T00:00:00\",\"2021-04-06T00:00:00\",\"2021-04-07T00:00:00\",\"2021-04-08T00:00:00\",\"2021-04-09T00:00:00\",\"2021-04-12T00:00:00\",\"2021-04-13T00:00:00\",\"2021-04-15T00:00:00\",\"2021-04-16T00:00:00\",\"2021-04-19T00:00:00\",\"2021-04-20T00:00:00\",\"2021-04-22T00:00:00\",\"2021-04-23T00:00:00\",\"2021-04-26T00:00:00\",\"2021-04-27T00:00:00\",\"2021-04-28T00:00:00\",\"2021-04-29T00:00:00\",\"2021-04-30T00:00:00\",\"2021-05-03T00:00:00\",\"2021-05-04T00:00:00\",\"2021-05-05T00:00:00\",\"2021-05-06T00:00:00\",\"2021-05-07T00:00:00\",\"2021-05-10T00:00:00\",\"2021-05-11T00:00:00\",\"2021-05-12T00:00:00\",\"2021-05-14T00:00:00\",\"2021-05-17T00:00:00\",\"2021-05-18T00:00:00\",\"2021-05-19T00:00:00\",\"2021-05-20T00:00:00\",\"2021-05-21T00:00:00\",\"2021-05-24T00:00:00\",\"2021-05-25T00:00:00\",\"2021-05-26T00:00:00\",\"2021-05-27T00:00:00\",\"2021-05-28T00:00:00\",\"2021-05-31T00:00:00\",\"2021-06-01T00:00:00\",\"2021-06-02T00:00:00\",\"2021-06-03T00:00:00\",\"2021-06-04T00:00:00\",\"2021-06-07T00:00:00\",\"2021-06-08T00:00:00\",\"2021-06-09T00:00:00\",\"2021-06-10T00:00:00\",\"2021-06-11T00:00:00\",\"2021-06-14T00:00:00\",\"2021-06-15T00:00:00\",\"2021-06-16T00:00:00\",\"2021-06-17T00:00:00\",\"2021-06-18T00:00:00\",\"2021-06-21T00:00:00\",\"2021-06-22T00:00:00\",\"2021-06-23T00:00:00\",\"2021-06-24T00:00:00\",\"2021-06-25T00:00:00\",\"2021-06-28T00:00:00\",\"2021-06-29T00:00:00\",\"2021-06-30T00:00:00\",\"2021-07-01T00:00:00\",\"2021-07-02T00:00:00\",\"2021-07-05T00:00:00\",\"2021-07-06T00:00:00\",\"2021-07-07T00:00:00\",\"2021-07-08T00:00:00\",\"2021-07-09T00:00:00\",\"2021-07-12T00:00:00\",\"2021-07-13T00:00:00\",\"2021-07-14T00:00:00\",\"2021-07-15T00:00:00\",\"2021-07-16T00:00:00\",\"2021-07-19T00:00:00\",\"2021-07-20T00:00:00\",\"2021-07-22T00:00:00\",\"2021-07-23T00:00:00\",\"2021-07-26T00:00:00\",\"2021-07-27T00:00:00\",\"2021-07-28T00:00:00\",\"2021-07-29T00:00:00\",\"2021-07-30T00:00:00\",\"2021-08-02T00:00:00\",\"2021-08-03T00:00:00\",\"2021-08-04T00:00:00\",\"2021-08-05T00:00:00\",\"2021-08-06T00:00:00\",\"2021-08-09T00:00:00\",\"2021-08-10T00:00:00\",\"2021-08-11T00:00:00\",\"2021-08-12T00:00:00\",\"2021-08-13T00:00:00\",\"2021-08-16T00:00:00\",\"2021-08-17T00:00:00\",\"2021-08-18T00:00:00\",\"2021-08-20T00:00:00\",\"2021-08-23T00:00:00\",\"2021-08-24T00:00:00\",\"2021-08-25T00:00:00\",\"2021-08-26T00:00:00\",\"2021-08-27T00:00:00\",\"2021-08-30T00:00:00\",\"2021-08-31T00:00:00\",\"2021-09-01T00:00:00\",\"2021-09-02T00:00:00\",\"2021-09-03T00:00:00\",\"2021-09-06T00:00:00\",\"2021-09-07T00:00:00\",\"2021-09-08T00:00:00\",\"2021-09-09T00:00:00\",\"2021-09-13T00:00:00\",\"2021-09-14T00:00:00\",\"2021-09-15T00:00:00\",\"2021-09-16T00:00:00\",\"2021-09-17T00:00:00\",\"2021-09-20T00:00:00\",\"2021-09-21T00:00:00\",\"2021-09-22T00:00:00\",\"2021-09-23T00:00:00\",\"2021-09-24T00:00:00\",\"2021-09-27T00:00:00\",\"2021-09-28T00:00:00\",\"2021-09-29T00:00:00\",\"2021-09-30T00:00:00\",\"2021-10-01T00:00:00\",\"2021-10-04T00:00:00\",\"2021-10-05T00:00:00\",\"2021-10-06T00:00:00\",\"2021-10-07T00:00:00\",\"2021-10-08T00:00:00\",\"2021-10-11T00:00:00\",\"2021-10-12T00:00:00\",\"2021-10-13T00:00:00\",\"2021-10-14T00:00:00\",\"2021-10-18T00:00:00\",\"2021-10-19T00:00:00\",\"2021-10-20T00:00:00\",\"2021-10-21T00:00:00\",\"2021-10-22T00:00:00\",\"2021-10-25T00:00:00\",\"2021-10-26T00:00:00\",\"2021-10-27T00:00:00\",\"2021-10-28T00:00:00\",\"2021-10-29T00:00:00\",\"2021-11-01T00:00:00\",\"2021-11-02T00:00:00\",\"2021-11-03T00:00:00\",\"2021-11-04T00:00:00\",\"2021-11-08T00:00:00\",\"2021-11-09T00:00:00\",\"2021-11-10T00:00:00\",\"2021-11-11T00:00:00\",\"2021-11-12T00:00:00\",\"2021-11-15T00:00:00\",\"2021-11-16T00:00:00\",\"2021-11-17T00:00:00\",\"2021-11-18T00:00:00\",\"2021-11-22T00:00:00\",\"2021-11-23T00:00:00\",\"2021-11-24T00:00:00\",\"2021-11-25T00:00:00\",\"2021-11-26T00:00:00\",\"2021-11-29T00:00:00\",\"2021-11-30T00:00:00\",\"2021-12-01T00:00:00\",\"2021-12-02T00:00:00\",\"2021-12-03T00:00:00\",\"2021-12-06T00:00:00\",\"2021-12-07T00:00:00\",\"2021-12-08T00:00:00\",\"2021-12-09T00:00:00\",\"2021-12-10T00:00:00\",\"2021-12-13T00:00:00\",\"2021-12-14T00:00:00\",\"2021-12-15T00:00:00\",\"2021-12-16T00:00:00\",\"2021-12-17T00:00:00\",\"2021-12-20T00:00:00\",\"2021-12-21T00:00:00\",\"2021-12-22T00:00:00\",\"2021-12-23T00:00:00\",\"2021-12-24T00:00:00\",\"2021-12-27T00:00:00\",\"2021-12-28T00:00:00\",\"2021-12-29T00:00:00\",\"2021-12-30T00:00:00\",\"2021-12-31T00:00:00\",\"2022-01-03T00:00:00\",\"2022-01-04T00:00:00\",\"2022-01-05T00:00:00\",\"2022-01-06T00:00:00\",\"2022-01-07T00:00:00\",\"2022-01-10T00:00:00\",\"2022-01-11T00:00:00\",\"2022-01-12T00:00:00\",\"2022-01-13T00:00:00\",\"2022-01-14T00:00:00\",\"2022-01-17T00:00:00\",\"2022-01-18T00:00:00\",\"2022-01-19T00:00:00\",\"2022-01-20T00:00:00\",\"2022-01-21T00:00:00\",\"2022-01-24T00:00:00\",\"2022-01-25T00:00:00\",\"2022-01-27T00:00:00\",\"2022-01-28T00:00:00\",\"2022-01-31T00:00:00\",\"2022-02-01T00:00:00\",\"2022-02-02T00:00:00\",\"2022-02-03T00:00:00\",\"2022-02-04T00:00:00\",\"2022-02-07T00:00:00\",\"2022-02-08T00:00:00\",\"2022-02-09T00:00:00\",\"2022-02-10T00:00:00\",\"2022-02-11T00:00:00\",\"2022-02-14T00:00:00\",\"2022-02-15T00:00:00\",\"2022-02-16T00:00:00\",\"2022-02-17T00:00:00\",\"2022-02-18T00:00:00\",\"2022-02-21T00:00:00\",\"2022-02-22T00:00:00\",\"2022-02-23T00:00:00\",\"2022-02-24T00:00:00\",\"2022-02-25T00:00:00\",\"2022-02-28T00:00:00\",\"2022-03-02T00:00:00\",\"2022-03-03T00:00:00\",\"2022-03-04T00:00:00\",\"2022-03-07T00:00:00\",\"2022-03-08T00:00:00\",\"2022-03-09T00:00:00\",\"2022-03-10T00:00:00\",\"2022-03-11T00:00:00\",\"2022-03-14T00:00:00\",\"2022-03-15T00:00:00\",\"2022-03-16T00:00:00\",\"2022-03-17T00:00:00\",\"2022-03-21T00:00:00\",\"2022-03-22T00:00:00\",\"2022-03-23T00:00:00\",\"2022-03-24T00:00:00\",\"2022-03-25T00:00:00\",\"2022-03-28T00:00:00\",\"2022-03-29T00:00:00\",\"2022-03-30T00:00:00\",\"2022-03-31T00:00:00\",\"2022-04-01T00:00:00\",\"2022-04-04T00:00:00\",\"2022-04-05T00:00:00\",\"2022-04-06T00:00:00\",\"2022-04-07T00:00:00\",\"2022-04-08T00:00:00\",\"2022-04-11T00:00:00\",\"2022-04-12T00:00:00\",\"2022-04-13T00:00:00\",\"2022-04-18T00:00:00\",\"2022-04-19T00:00:00\",\"2022-04-20T00:00:00\",\"2022-04-21T00:00:00\",\"2022-04-22T00:00:00\",\"2022-04-25T00:00:00\",\"2022-04-26T00:00:00\",\"2022-04-27T00:00:00\",\"2022-04-28T00:00:00\",\"2022-04-29T00:00:00\",\"2022-05-02T00:00:00\",\"2022-05-04T00:00:00\",\"2022-05-05T00:00:00\",\"2022-05-06T00:00:00\",\"2022-05-09T00:00:00\",\"2022-05-10T00:00:00\",\"2022-05-11T00:00:00\",\"2022-05-12T00:00:00\",\"2022-05-13T00:00:00\",\"2022-05-16T00:00:00\",\"2022-05-17T00:00:00\",\"2022-05-18T00:00:00\",\"2022-05-19T00:00:00\",\"2022-05-20T00:00:00\",\"2022-05-23T00:00:00\",\"2022-05-24T00:00:00\",\"2022-05-25T00:00:00\",\"2022-05-26T00:00:00\",\"2022-05-27T00:00:00\",\"2022-05-30T00:00:00\",\"2022-05-31T00:00:00\",\"2022-06-01T00:00:00\",\"2022-06-02T00:00:00\",\"2022-06-03T00:00:00\",\"2022-06-06T00:00:00\",\"2022-06-07T00:00:00\",\"2022-06-08T00:00:00\",\"2022-06-09T00:00:00\",\"2022-06-10T00:00:00\",\"2022-06-13T00:00:00\",\"2022-06-14T00:00:00\",\"2022-06-15T00:00:00\",\"2022-06-16T00:00:00\",\"2022-06-17T00:00:00\",\"2022-06-20T00:00:00\",\"2022-06-21T00:00:00\",\"2022-06-22T00:00:00\",\"2022-06-23T00:00:00\",\"2022-06-24T00:00:00\",\"2022-06-27T00:00:00\",\"2022-06-28T00:00:00\",\"2022-06-29T00:00:00\",\"2022-06-30T00:00:00\",\"2022-07-01T00:00:00\",\"2022-07-04T00:00:00\",\"2022-07-05T00:00:00\",\"2022-07-06T00:00:00\",\"2022-07-07T00:00:00\",\"2022-07-08T00:00:00\",\"2022-07-11T00:00:00\",\"2022-07-12T00:00:00\",\"2022-07-13T00:00:00\",\"2022-07-14T00:00:00\",\"2022-07-15T00:00:00\",\"2022-07-18T00:00:00\",\"2022-07-19T00:00:00\",\"2022-07-20T00:00:00\",\"2022-07-21T00:00:00\",\"2022-07-22T00:00:00\",\"2022-07-25T00:00:00\",\"2022-07-26T00:00:00\",\"2022-07-27T00:00:00\",\"2022-07-28T00:00:00\",\"2022-07-29T00:00:00\",\"2022-08-01T00:00:00\",\"2022-08-02T00:00:00\",\"2022-08-03T00:00:00\",\"2022-08-04T00:00:00\",\"2022-08-05T00:00:00\",\"2022-08-08T00:00:00\",\"2022-08-10T00:00:00\",\"2022-08-11T00:00:00\",\"2022-08-12T00:00:00\",\"2022-08-16T00:00:00\",\"2022-08-17T00:00:00\",\"2022-08-18T00:00:00\",\"2022-08-19T00:00:00\",\"2022-08-22T00:00:00\",\"2022-08-23T00:00:00\",\"2022-08-24T00:00:00\",\"2022-08-25T00:00:00\",\"2022-08-26T00:00:00\",\"2022-08-29T00:00:00\",\"2022-08-30T00:00:00\",\"2022-09-01T00:00:00\",\"2022-09-02T00:00:00\",\"2022-09-05T00:00:00\",\"2022-09-06T00:00:00\",\"2022-09-07T00:00:00\",\"2022-09-08T00:00:00\",\"2022-09-09T00:00:00\",\"2022-09-12T00:00:00\",\"2022-09-13T00:00:00\",\"2022-09-14T00:00:00\",\"2022-09-15T00:00:00\",\"2022-09-16T00:00:00\",\"2022-09-19T00:00:00\",\"2022-09-20T00:00:00\",\"2022-09-21T00:00:00\",\"2022-09-22T00:00:00\",\"2022-09-23T00:00:00\",\"2022-09-26T00:00:00\",\"2022-09-27T00:00:00\",\"2022-09-28T00:00:00\",\"2022-09-29T00:00:00\",\"2022-09-30T00:00:00\",\"2022-10-03T00:00:00\",\"2022-10-04T00:00:00\",\"2022-10-06T00:00:00\",\"2022-10-07T00:00:00\",\"2022-10-10T00:00:00\",\"2022-10-11T00:00:00\",\"2022-10-12T00:00:00\",\"2022-10-13T00:00:00\",\"2022-10-14T00:00:00\",\"2022-10-17T00:00:00\",\"2022-10-18T00:00:00\",\"2022-10-19T00:00:00\",\"2022-10-20T00:00:00\",\"2022-10-21T00:00:00\",\"2022-10-24T00:00:00\",\"2022-10-25T00:00:00\",\"2022-10-27T00:00:00\",\"2022-10-28T00:00:00\",\"2022-10-31T00:00:00\",\"2022-11-01T00:00:00\",\"2022-11-02T00:00:00\",\"2022-11-03T00:00:00\",\"2022-11-04T00:00:00\",\"2022-11-07T00:00:00\",\"2022-11-09T00:00:00\",\"2022-11-10T00:00:00\",\"2022-11-11T00:00:00\",\"2022-11-14T00:00:00\",\"2022-11-15T00:00:00\",\"2022-11-16T00:00:00\",\"2022-11-17T00:00:00\",\"2022-11-18T00:00:00\",\"2022-11-21T00:00:00\",\"2022-11-22T00:00:00\",\"2022-11-23T00:00:00\",\"2022-11-24T00:00:00\",\"2022-11-25T00:00:00\",\"2022-11-28T00:00:00\",\"2022-11-29T00:00:00\",\"2022-11-30T00:00:00\",\"2022-12-01T00:00:00\",\"2022-12-02T00:00:00\",\"2022-12-05T00:00:00\",\"2022-12-06T00:00:00\",\"2022-12-07T00:00:00\",\"2022-12-08T00:00:00\",\"2022-12-09T00:00:00\",\"2022-12-12T00:00:00\",\"2022-12-13T00:00:00\",\"2022-12-14T00:00:00\",\"2022-12-15T00:00:00\",\"2022-12-16T00:00:00\",\"2022-12-19T00:00:00\",\"2022-12-20T00:00:00\",\"2022-12-21T00:00:00\",\"2022-12-22T00:00:00\",\"2022-12-23T00:00:00\",\"2022-12-26T00:00:00\",\"2022-12-27T00:00:00\",\"2022-12-28T00:00:00\",\"2022-12-29T00:00:00\",\"2022-12-30T00:00:00\",\"2023-01-02T00:00:00\",\"2023-01-03T00:00:00\",\"2023-01-04T00:00:00\",\"2023-01-05T00:00:00\",\"2023-01-06T00:00:00\",\"2023-01-09T00:00:00\",\"2023-01-10T00:00:00\",\"2023-01-11T00:00:00\",\"2023-01-12T00:00:00\",\"2023-01-13T00:00:00\",\"2023-01-16T00:00:00\",\"2023-01-17T00:00:00\",\"2023-01-18T00:00:00\",\"2023-01-19T00:00:00\",\"2023-01-20T00:00:00\",\"2023-01-23T00:00:00\",\"2023-01-24T00:00:00\",\"2023-01-25T00:00:00\",\"2023-01-27T00:00:00\",\"2023-01-30T00:00:00\",\"2023-01-31T00:00:00\",\"2023-02-01T00:00:00\",\"2023-02-02T00:00:00\",\"2023-02-03T00:00:00\",\"2023-02-06T00:00:00\",\"2023-02-07T00:00:00\",\"2023-02-08T00:00:00\",\"2023-02-09T00:00:00\",\"2023-02-10T00:00:00\",\"2023-02-13T00:00:00\",\"2023-02-14T00:00:00\",\"2023-02-15T00:00:00\",\"2023-02-16T00:00:00\",\"2023-02-17T00:00:00\",\"2023-02-20T00:00:00\",\"2023-02-21T00:00:00\",\"2023-02-22T00:00:00\",\"2023-02-23T00:00:00\",\"2023-02-24T00:00:00\",\"2023-02-27T00:00:00\",\"2023-02-28T00:00:00\",\"2023-03-01T00:00:00\",\"2023-03-02T00:00:00\",\"2023-03-03T00:00:00\",\"2023-03-06T00:00:00\",\"2023-03-08T00:00:00\",\"2023-03-09T00:00:00\",\"2023-03-10T00:00:00\",\"2023-03-13T00:00:00\",\"2023-03-14T00:00:00\",\"2023-03-15T00:00:00\",\"2023-03-16T00:00:00\",\"2023-03-17T00:00:00\",\"2023-03-20T00:00:00\",\"2023-03-21T00:00:00\",\"2023-03-22T00:00:00\",\"2023-03-23T00:00:00\",\"2023-03-24T00:00:00\",\"2023-03-27T00:00:00\",\"2023-03-28T00:00:00\",\"2023-03-29T00:00:00\",\"2023-03-31T00:00:00\",\"2023-04-03T00:00:00\",\"2023-04-05T00:00:00\",\"2023-04-06T00:00:00\",\"2023-04-10T00:00:00\",\"2023-04-11T00:00:00\",\"2023-04-12T00:00:00\",\"2023-04-13T00:00:00\",\"2023-04-17T00:00:00\",\"2023-04-18T00:00:00\",\"2023-04-19T00:00:00\",\"2023-04-20T00:00:00\",\"2023-04-21T00:00:00\",\"2023-04-24T00:00:00\",\"2023-04-25T00:00:00\",\"2023-04-26T00:00:00\",\"2023-04-27T00:00:00\",\"2023-04-28T00:00:00\",\"2023-05-02T00:00:00\",\"2023-05-03T00:00:00\",\"2023-05-04T00:00:00\",\"2023-05-05T00:00:00\",\"2023-05-08T00:00:00\",\"2023-05-09T00:00:00\",\"2023-05-10T00:00:00\",\"2023-05-11T00:00:00\",\"2023-05-12T00:00:00\",\"2023-05-15T00:00:00\",\"2023-05-16T00:00:00\",\"2023-05-17T00:00:00\",\"2023-05-18T00:00:00\",\"2023-05-19T00:00:00\",\"2023-05-22T00:00:00\",\"2023-05-23T00:00:00\",\"2023-05-24T00:00:00\",\"2023-05-25T00:00:00\",\"2023-05-26T00:00:00\",\"2023-05-29T00:00:00\",\"2023-05-30T00:00:00\",\"2023-05-31T00:00:00\",\"2023-06-01T00:00:00\",\"2023-06-02T00:00:00\",\"2023-06-05T00:00:00\",\"2023-06-06T00:00:00\",\"2023-06-07T00:00:00\",\"2023-06-08T00:00:00\",\"2023-06-09T00:00:00\",\"2023-06-12T00:00:00\",\"2023-06-13T00:00:00\",\"2023-06-14T00:00:00\",\"2023-06-15T00:00:00\",\"2023-06-16T00:00:00\",\"2023-06-19T00:00:00\",\"2023-06-20T00:00:00\",\"2023-06-21T00:00:00\",\"2023-06-22T00:00:00\",\"2023-06-23T00:00:00\",\"2023-06-26T00:00:00\",\"2023-06-27T00:00:00\",\"2023-06-28T00:00:00\",\"2023-06-30T00:00:00\",\"2023-07-03T00:00:00\",\"2023-07-04T00:00:00\",\"2023-07-05T00:00:00\",\"2023-07-06T00:00:00\",\"2023-07-07T00:00:00\",\"2023-07-10T00:00:00\",\"2023-07-11T00:00:00\",\"2023-07-12T00:00:00\",\"2023-07-13T00:00:00\",\"2023-07-14T00:00:00\",\"2023-07-17T00:00:00\",\"2023-07-18T00:00:00\",\"2023-07-19T00:00:00\",\"2023-07-20T00:00:00\",\"2023-07-21T00:00:00\",\"2023-07-24T00:00:00\",\"2023-07-25T00:00:00\",\"2023-07-26T00:00:00\",\"2023-07-27T00:00:00\",\"2023-07-28T00:00:00\",\"2023-07-31T00:00:00\",\"2023-08-01T00:00:00\",\"2023-08-02T00:00:00\",\"2023-08-03T00:00:00\",\"2023-08-04T00:00:00\",\"2023-08-07T00:00:00\",\"2023-08-08T00:00:00\",\"2023-08-09T00:00:00\",\"2023-08-10T00:00:00\",\"2023-08-11T00:00:00\",\"2023-08-14T00:00:00\",\"2023-08-16T00:00:00\",\"2023-08-17T00:00:00\",\"2023-08-18T00:00:00\",\"2023-08-21T00:00:00\",\"2023-08-22T00:00:00\",\"2023-08-23T00:00:00\",\"2023-08-24T00:00:00\",\"2023-08-25T00:00:00\",\"2023-08-28T00:00:00\",\"2023-08-29T00:00:00\",\"2023-08-30T00:00:00\",\"2023-08-31T00:00:00\",\"2023-09-01T00:00:00\",\"2023-09-04T00:00:00\",\"2023-09-05T00:00:00\",\"2023-09-06T00:00:00\",\"2023-09-07T00:00:00\",\"2023-09-08T00:00:00\",\"2023-09-11T00:00:00\",\"2023-09-12T00:00:00\",\"2023-09-13T00:00:00\",\"2023-09-14T00:00:00\",\"2023-09-15T00:00:00\",\"2023-09-18T00:00:00\",\"2023-09-20T00:00:00\",\"2023-09-21T00:00:00\",\"2023-09-22T00:00:00\",\"2023-09-25T00:00:00\",\"2023-09-26T00:00:00\",\"2023-09-27T00:00:00\",\"2023-09-28T00:00:00\",\"2023-09-29T00:00:00\",\"2023-10-03T00:00:00\",\"2023-10-04T00:00:00\",\"2023-10-05T00:00:00\",\"2023-10-06T00:00:00\",\"2023-10-09T00:00:00\",\"2023-10-10T00:00:00\",\"2023-10-11T00:00:00\",\"2023-10-12T00:00:00\",\"2023-10-13T00:00:00\",\"2023-10-16T00:00:00\",\"2023-10-17T00:00:00\",\"2023-10-18T00:00:00\",\"2023-10-19T00:00:00\",\"2023-10-20T00:00:00\",\"2023-10-23T00:00:00\",\"2023-10-25T00:00:00\",\"2023-10-26T00:00:00\",\"2023-10-27T00:00:00\",\"2023-10-30T00:00:00\",\"2023-10-31T00:00:00\",\"2023-11-01T00:00:00\",\"2023-11-02T00:00:00\",\"2023-11-03T00:00:00\",\"2023-11-06T00:00:00\",\"2023-11-07T00:00:00\",\"2023-11-08T00:00:00\",\"2023-11-09T00:00:00\",\"2023-11-10T00:00:00\",\"2023-11-13T00:00:00\",\"2023-11-15T00:00:00\",\"2023-11-16T00:00:00\",\"2023-11-17T00:00:00\",\"2023-11-20T00:00:00\",\"2023-11-21T00:00:00\",\"2023-11-22T00:00:00\",\"2023-11-23T00:00:00\",\"2023-11-24T00:00:00\",\"2023-11-28T00:00:00\",\"2023-11-29T00:00:00\",\"2023-11-30T00:00:00\",\"2023-12-01T00:00:00\",\"2023-12-04T00:00:00\",\"2023-12-05T00:00:00\"],\"y\":[169.1999969482422,162.64999389648438,162.39999389648438,157.10000610351562,158.10000610351562,164.10000610351562,166.85000610351562,166.9499969482422,173.9499969482422,174.75,173.89999389648438,176.39999389648438,176.25,172.5,170.89999389648438,168.25,170.85000610351562,172.6999969482422,173.4499969482422,168.5500030517578,166.0500030517578,170.9499969482422,175.35000610351562,179.9499969482422,183.0500030517578,185.75,180.3000030517578,182.39999389648438,185.35000610351562,185.4499969482422,184.89999389648438,183.3000030517578,181.5,180.85000610351562,180.25,175.39999389648438,173.25,172.3000030517578,173.60000610351562,174.60000610351562,181.1999969482422,181.64999389648438,180.25,175.8000030517578,178.5,182.85000610351562,150.6999969482422,152.64999389648438,151.8000030517578,159.85000610351562,161.64999389648438,162.89999389648438,163.75,164.8000030517578,169.6999969482422,174.3000030517578,175.75,182.64999389648438,177.35000610351562,177.4499969482422,180.3000030517578,194.0500030517578,188.8000030517578,189.3000030517578,181.1999969482422,181.85000610351562,184.8000030517578,181.6999969482422,179.5500030517578,180.0,182.25,182.85000610351562,180.1999969482422,175.39999389648438,171.3000030517578,173.10000610351562,169.85000610351562,170.5500030517578,187.35000610351562,202.9499969482422,201.35000610351562,206.14999389648438,205.14999389648438,200.5500030517578,205.89999389648438,216.0500030517578,218.1999969482422,215.9499969482422,231.75,230.5,236.25,234.85000610351562,231.64999389648438,223.60000610351562,221.85000610351562,215.60000610351562,214.3000030517578,207.3000030517578,209.4499969482422,199.8000030517578,190.9499969482422,185.10000610351562,186.35000610351562,185.89999389648438,180.75,184.5,169.4499969482422,175.39999389648438,176.85000610351562,190.14999389648438,176.8000030517578,179.10000610351562,175.14999389648438,182.3000030517578,181.35000610351562,180.25,176.35000610351562,175.14999389648438,172.60000610351562,174.5,173.25,169.6999969482422,169.5,166.1999969482422,170.75,169.0500030517578,167.39999389648438,164.1999969482422,158.75,158.3000030517578,154.64999389648438,159.25,158.89999389648438,159.3000030517578,160.4499969482422,161.10000610351562,165.85000610351562,162.5500030517578,168.0,163.75,162.3000030517578,165.1999969482422,160.1999969482422,154.5500030517578,155.8000030517578,151.64999389648438,156.8000030517578,159.3000030517578,160.9499969482422,170.0,167.89999389648438,160.75,154.85000610351562,156.75,156.1999969482422,151.25,144.3000030517578,147.14999389648438,137.5500030517578,133.4499969482422,135.60000610351562,129.5500030517578,130.6999969482422,123.75,122.5,117.4000015258789,124.05000305175781,122.05000305175781,121.94999694824219,120.9000015258789,121.3499984741211,120.80000305175781,123.8499984741211,112.4000015258789,107.69999694824219,111.05000305175781,110.55000305175781,120.3499984741211,116.3499984741211,114.30000305175781,116.69999694824219,112.6500015258789,109.5,118.05000305175781,121.25,121.9000015258789,134.35000610351562,127.94999694824219,129.5500030517578,128.60000610351562,122.0,121.75,124.19999694824219,133.25,127.9000015258789,130.89999389648438,123.05000305175781,124.5,119.9000015258789,117.44999694824219,115.30000305175781,122.4000015258789,119.6500015258789,117.5,120.9000015258789,116.80000305175781,121.30000305175781,127.8499984741211,126.94999694824219,125.8499984741211,139.5,136.85000610351562,131.75,132.64999389648438,133.5,126.8499984741211,147.6999969482422,172.4499969482422,171.89999389648438,177.6999969482422,175.0500030517578,172.1999969482422,172.0,174.5,171.5,169.0500030517578,172.0,170.60000610351562,167.0500030517578,168.5500030517578,170.10000610351562,167.75,167.39999389648438,164.14999389648438,162.35000610351562,166.10000610351562,163.39999389648438,165.89999389648438,164.8000030517578,161.5,161.0500030517578,158.1999969482422,169.39999389648438,166.10000610351562,161.5,160.5,159.6999969482422,161.8000030517578,173.35000610351562,176.6999969482422,174.9499969482422,180.1999969482422,174.8000030517578,179.14999389648438,175.9499969482422,176.0500030517578,175.5,174.60000610351562,176.14999389648438,183.6999969482422,185.14999389648438,184.4499969482422,193.75,191.10000610351562,185.64999389648438,184.6999969482422,182.5500030517578,192.0,196.35000610351562,196.25,195.85000610351562,200.35000610351562,197.5500030517578,197.3000030517578,195.0,191.39999389648438,185.60000610351562,188.39999389648438,186.5,182.1999969482422,176.10000610351562,188.0500030517578,186.1999969482422,176.60000610351562,163.85000610351562,165.6999969482422,183.75,178.85000610351562,173.60000610351562,168.89999389648438,169.75,170.9499969482422,169.5,169.10000610351562,169.10000610351562,161.60000610351562,158.0500030517578,158.5,150.64999389648438,149.89999389648438,144.5500030517578,145.25,128.9499969482422,125.4000015258789,130.35000610351562,126.19999694824219,125.75,114.19999694824219,105.69999694824219,98.9000015258789,88.0,89.75,82.94999694824219,77.94999694824219,75.5,72.94999694824219,77.30000305175781,66.19999694824219,68.55000305175781,70.25,70.80000305175781,70.69999694824219,68.1500015258789,71.05000305175781,67.94999694824219,65.30000305175781,67.25,67.5999984741211,74.5999984741211,74.25,72.9000015258789,74.6500015258789,76.8499984741211,80.44999694824219,74.6500015258789,75.9000015258789,75.6500015258789,74.19999694824219,75.25,76.94999694824219,78.1500015258789,93.25,83.9000015258789,80.9000015258789,83.19999694824219,82.5,81.05000305175781,86.0999984741211,86.19999694824219,87.19999694824219,83.80000305175781,84.3499984741211,80.6500015258789,81.80000305175781,83.44999694824219,84.0999984741211,82.80000305175781,83.0999984741211,84.55000305175781,87.0,87.0,89.55000305175781,96.5,98.75,98.5,110.75,115.44999694824219,111.44999694824219,111.4000015258789,106.1500015258789,105.30000305175781,100.5,94.75,95.4000015258789,96.3499984741211,102.5,102.6500015258789,104.4000015258789,104.80000305175781,103.80000305175781,101.4000015258789,99.44999694824219,98.25,100.75,101.55000305175781,103.44999694824219,109.0,109.05000305175781,105.3499984741211,106.94999694824219,107.5999984741211,108.0,105.1500015258789,103.19999694824219,102.94999694824219,106.4000015258789,105.05000305175781,108.44999694824219,105.1500015258789,106.05000305175781,103.75,101.69999694824219,106.44999694824219,105.75,103.6500015258789,104.6500015258789,113.05000305175781,111.44999694824219,115.4000015258789,116.80000305175781,119.0999984741211,123.8499984741211,122.30000305175781,125.3499984741211,131.14999389648438,124.5999984741211,123.55000305175781,125.5999984741211,125.1500015258789,121.69999694824219,120.9000015258789,121.19999694824219,127.0999984741211,137.89999389648438,144.25,142.8000030517578,143.1999969482422,143.8000030517578,150.3000030517578,151.85000610351562,147.8000030517578,149.39999389648438,142.3000030517578,140.10000610351562,143.3000030517578,144.3000030517578,148.5500030517578,148.39999389648438,151.4499969482422,147.64999389648438,147.89999389648438,137.4499969482422,133.10000610351562,131.39999389648438,122.80000305175781,127.25,132.85000610351562,131.6999969482422,133.3000030517578,133.5,133.89999389648438,144.75,141.0,140.9499969482422,138.4499969482422,135.89999389648438,134.10000610351562,130.6999969482422,126.94999694824219,127.75,128.25,129.64999389648438,130.25,133.5,137.0,133.6999969482422,135.64999389648438,134.8000030517578,131.89999389648438,132.64999389648438,132.85000610351562,134.10000610351562,135.89999389648438,137.64999389648438,139.0,141.0,146.0,150.9499969482422,151.1999969482422,146.35000610351562,148.85000610351562,158.0,173.5,167.9499969482422,169.10000610351562,170.6999969482422,172.0500030517578,171.4499969482422,173.75,180.35000610351562,179.75,183.60000610351562,184.85000610351562,184.14999389648438,183.5500030517578,181.8000030517578,182.6999969482422,177.60000610351562,178.85000610351562,177.64999389648438,178.89999389648438,182.5500030517578,181.6999969482422,180.5500030517578,164.5500030517578,164.9499969482422,169.1999969482422,175.9499969482422,186.35000610351562,183.4499969482422,184.14999389648438,183.85000610351562,186.5,191.3000030517578,193.1999969482422,195.39999389648438,196.75,198.14999389648438,220.64999389648438,237.8000030517578,242.60000610351562,245.10000610351562,260.29998779296875,245.9499969482422,258.6499938964844,274.8999938964844,290.6000061035156,289.3500061035156,279.1499938964844,267.5,266.79998779296875,262.70001220703125,279.6000061035156,322.0,331.0,326.1499938964844,315.8999938964844,335.95001220703125,325.04998779296875,328.8999938964844,325.0,325.3999938964844,333.3500061035156,329.20001220703125,330.1499938964844,323.8500061035156,311.8500061035156,304.5,324.0,321.6499938964844,333.1499938964844,322.95001220703125,328.29998779296875,345.75,348.5,339.20001220703125,325.1499938964844,321.25,315.20001220703125,321.45001220703125,317.54998779296875,318.54998779296875,319.95001220703125,305.79998779296875,307.0,308.95001220703125,303.04998779296875,307.3999938964844,294.45001220703125,285.54998779296875,296.3999938964844,297.04998779296875,301.79998779296875,307.75,305.04998779296875,307.75,307.79998779296875,313.95001220703125,318.20001220703125,286.54998779296875,302.8500061035156,303.5,310.0,301.3999938964844,298.04998779296875,294.54998779296875,294.0,295.3999938964844,301.5,305.8999938964844,301.8999938964844,293.8500061035156,293.0,289.45001220703125,291.5,301.25,302.75,314.8500061035156,315.54998779296875,326.0,312.25,321.1000061035156,332.45001220703125,314.45001220703125,307.70001220703125,313.1000061035156,311.8500061035156,315.25,315.5,318.6000061035156,318.75,318.75,318.1000061035156,323.0,325.6499938964844,334.95001220703125,345.5,352.75,343.3500061035156,344.75,350.75,355.95001220703125,352.70001220703125,349.3500061035156,345.6499938964844,337.3999938964844,334.29998779296875,337.8999938964844,335.25,334.6499938964844,339.6499938964844,342.79998779296875,341.54998779296875,339.6000061035156,344.25,344.8999938964844,346.1000061035156,316.8999938964844,317.1000061035156,306.3500061035156,306.29998779296875,307.45001220703125,310.95001220703125,309.54998779296875,310.25,311.25,308.8500061035156,302.1499938964844,302.54998779296875,295.54998779296875,293.1499938964844,291.3999938964844,284.45001220703125,292.8999938964844,293.95001220703125,296.8500061035156,303.70001220703125,298.1499938964844,299.70001220703125,300.04998779296875,298.1000061035156,294.20001220703125,295.45001220703125,306.0,307.25,303.70001220703125,297.70001220703125,293.3500061035156,283.1000061035156,276.95001220703125,279.79998779296875,284.3999938964844,284.29998779296875,285.75,291.95001220703125,287.29998779296875,295.25,293.1499938964844,295.54998779296875,297.45001220703125,294.6000061035156,295.25,298.95001220703125,301.20001220703125,306.1000061035156,311.95001220703125,311.6499938964844,308.6000061035156,298.95001220703125,301.95001220703125,310.1000061035156,321.5,317.95001220703125,331.6499938964844,329.29998779296875,330.25,333.3500061035156,333.29998779296875,342.0,344.95001220703125,336.04998779296875,376.5,382.95001220703125,415.75,420.8500061035156,506.8999938964844,497.6000061035156,509.6000061035156,481.8999938964844,486.8999938964844,508.0,490.8999938964844,479.8999938964844,508.6499938964844,497.8999938964844,481.04998779296875,483.70001220703125,485.70001220703125,487.8500061035156,484.8999938964844,489.70001220703125,501.3999938964844,509.6499938964844,510.75,503.45001220703125,507.04998779296875,505.45001220703125,519.0499877929688,530.1500244140625,509.70001220703125,486.1000061035156,495.5,488.6499938964844,492.75,460.20001220703125,461.45001220703125,458.6000061035156,475.25,479.1000061035156,480.1000061035156,467.20001220703125,481.79998779296875,493.8999938964844,493.95001220703125,494.45001220703125,495.3500061035156,489.3999938964844,491.6499938964844,491.95001220703125,470.20001220703125,447.04998779296875,453.6000061035156,470.5,472.3500061035156,467.6000061035156,471.1499938964844,480.20001220703125,476.0,470.3999938964844,482.3999938964844,497.6000061035156,489.6000061035156,489.75,488.8500061035156,490.6000061035156,503.70001220703125,501.29998779296875,507.25,511.95001220703125,509.8999938964844,525.0,510.79998779296875,520.8499755859375,515.7000122070312,501.8500061035156,478.45001220703125,490.54998779296875,494.3999938964844,497.29998779296875,517.75,504.29998779296875,506.3999938964844,504.5,500.6000061035156,494.6000061035156,492.75,501.25,507.45001220703125,498.8500061035156,471.45001220703125,504.0,498.45001220703125,499.95001220703125,493.1499938964844,494.45001220703125,478.25,477.0,427.95001220703125,459.75,454.04998779296875,447.6000061035156,437.1000061035156,417.25,394.0,391.75,405.8999938964844,419.6000061035156,418.1499938964844,411.70001220703125,413.6499938964844,424.8999938964844,433.79998779296875,427.95001220703125,440.3500061035156,435.79998779296875,433.20001220703125,432.1000061035156,432.70001220703125,433.70001220703125,435.6499938964844,433.75,441.1499938964844,446.75,458.04998779296875,456.1499938964844,449.5,452.04998779296875,452.04998779296875,438.29998779296875,431.04998779296875,433.79998779296875,424.95001220703125,440.54998779296875,448.04998779296875,438.8500061035156,425.1499938964844,434.8999938964844,430.25,436.04998779296875,437.6000061035156,432.8500061035156,423.5,426.29998779296875,408.54998779296875,403.95001220703125,391.75,388.1499938964844,372.29998779296875,404.29998779296875,405.3500061035156,424.1499938964844,415.1499938964844,398.6499938964844,418.0,421.45001220703125,425.75,417.0,420.6499938964844,429.6000061035156,442.3999938964844,443.54998779296875,444.6000061035156,439.1499938964844,431.8999938964844,432.3500061035156,435.8500061035156,435.6499938964844,428.5,428.04998779296875,406.70001220703125,405.1499938964844,414.1000061035156,392.95001220703125,388.95001220703125,382.70001220703125,397.6000061035156,393.1000061035156,407.20001220703125,409.29998779296875,414.5,417.1000061035156,416.95001220703125,411.79998779296875,412.70001220703125,408.45001220703125,412.0,416.3500061035156,430.8500061035156,441.54998779296875,437.04998779296875,430.54998779296875,427.1000061035156,428.04998779296875,440.20001220703125,450.8999938964844,449.04998779296875,453.45001220703125,454.8500061035156,454.8999938964844,449.54998779296875,441.1499938964844,444.04998779296875,442.25,449.6000061035156,479.20001220703125,476.25,467.79998779296875,468.8999938964844,465.25,468.25,475.54998779296875,476.6499938964844,477.54998779296875,489.8500061035156,485.3999938964844,484.79998779296875,471.0,454.6000061035156,460.45001220703125,463.20001220703125,459.20001220703125,465.04998779296875,453.3500061035156,471.1000061035156,466.8999938964844,461.75,459.0,457.75,445.8500061035156,442.20001220703125,445.8999938964844,451.0,456.79998779296875,450.20001220703125,447.25,432.5,425.45001220703125,434.25,427.6499938964844,432.20001220703125,423.1000061035156,397.5,398.79998779296875,399.1000061035156,402.25,404.6000061035156,397.6499938964844,407.8999938964844,414.1000061035156,412.1499938964844,395.95001220703125,393.3500061035156,396.54998779296875,399.0,396.25,396.1000061035156,404.25,399.04998779296875,398.1000061035156,398.04998779296875,401.6000061035156,404.54998779296875,407.70001220703125,409.8999938964844,412.75,421.3500061035156,422.1499938964844,416.25,425.3500061035156,435.0,433.1499938964844,412.20001220703125,423.5,433.70001220703125,437.1499938964844,431.54998779296875,423.1499938964844,423.79998779296875,421.1000061035156,424.70001220703125,424.04998779296875,423.3999938964844,433.20001220703125,433.25,433.1499938964844,439.3999938964844,438.25,435.3999938964844,428.75,427.1000061035156,420.1000061035156,417.20001220703125,413.29998779296875,414.1499938964844,418.5,417.8999938964844,416.70001220703125,421.6000061035156,418.0,410.5,402.6000061035156,394.45001220703125,378.3500061035156,384.79998779296875,394.1499938964844,391.29998779296875,385.8999938964844,387.95001220703125,394.79998779296875,393.8999938964844,385.6000061035156,386.8999938964844,382.0,389.45001220703125,412.8999938964844,418.20001220703125,412.25,411.5,413.0,415.29998779296875,408.3999938964844,400.75,403.1499938964844,408.3999938964844,422.1499938964844,419.04998779296875,445.6000061035156,443.6499938964844,452.1000061035156,446.6499938964844,444.79998779296875,445.45001220703125,442.0,435.45001220703125,440.1000061035156,436.75,445.8500061035156,441.04998779296875,440.54998779296875,444.1499938964844,441.6000061035156,439.8999938964844,443.0,436.5,429.45001220703125,433.20001220703125,427.75,417.95001220703125,420.70001220703125,426.0,420.45001220703125,428.0,440.1000061035156,439.29998779296875,432.20001220703125,435.8500061035156,422.3999938964844,416.6499938964844,411.3500061035156,415.70001220703125,419.0,410.75,412.54998779296875,416.1000061035156,419.1499938964844,416.5,412.04998779296875,401.6000061035156,409.20001220703125,420.79998779296875,424.25,426.54998779296875,437.6499938964844,461.29998779296875,458.70001220703125,465.5,469.5,472.1499938964844,473.0,469.3999938964844,476.79998779296875,471.20001220703125,475.20001220703125,473.54998779296875,478.20001220703125,481.6000061035156,484.95001220703125,480.25,483.70001220703125,480.79998779296875,477.1000061035156,500.5,503.6499938964844,509.5,511.6000061035156,515.9500122070312,530.8499755859375,521.1500244140625,515.5,508.45001220703125,524.9500122070312,522.5,528.5,520.2000122070312,514.8499755859375,518.4500122070312,521.4500122070312,518.7999877929688,526.2999877929688,535.2000122070312,535.9000244140625,546.25,555.75,567.9500122070312,559.7000122070312,562.2999877929688,564.1500244140625,562.2000122070312,570.2999877929688,568.4500122070312,569.7999877929688,566.0499877929688,583.25,581.4000244140625,569.3499755859375,559.6500244140625,567.8499755859375,573.0999755859375,573.0999755859375,595.5499877929688,590.7999877929688,591.4500122070312,588.25,600.7999877929688,618.2000122070312,618.6500244140625,628.5,621.4500122070312,620.6500244140625,624.9000244140625,618.5,612.0999755859375,620.5999755859375,621.6500244140625,625.75,629.25,639.4500122070312,641.0999755859375,643.7000122070312,635.2999877929688,644.2999877929688,643.6500244140625,622.6500244140625,618.9500122070312,615.0,609.5,607.2999877929688,622.5499877929688,618.25,611.7999877929688,607.3499755859375,618.75,613.75,615.7999877929688,620.5,620.2000122070312,613.9000244140625,610.9500122070312,605.0999755859375,602.4000244140625,607.1500244140625,605.5499877929688,601.0,611.2000122070312,609.0,611.1500244140625,610.25,614.9000244140625,627.25,634.8499755859375,620.7999877929688,625.9000244140625,624.5999755859375,634.25,640.6500244140625,638.5,627.0499877929688,620.4500122070312,618.7000122070312,619.7999877929688,620.1500244140625,614.0999755859375,630.2000122070312,620.4500122070312,613.5999755859375,619.5999755859375,622.4500122070312,617.3499755859375,630.5499877929688,634.0,636.9500122070312,667.0999755859375,666.2000122070312,655.7000122070312,668.5,668.7999877929688,663.2000122070312,647.3499755859375,637.8499755859375,626.5499877929688,641.0499877929688,628.5,628.6500244140625,627.7000122070312,636.4500122070312,647.5,646.0499877929688,645.0,642.5499877929688,649.3499755859375,651.0499877929688,653.25,671.5499877929688,680.4000244140625,681.5499877929688,674.2999877929688,681.7000122070312,681.2000122070312,679.9500122070312,673.7000122070312,697.5,712.3499755859375,706.4000244140625,705.4500122070312,705.5999755859375,711.5],\"type\":\"scatter\"}],                        {\"title\":{\"text\":\"Tata Stock\"},\"xaxis\":{\"title\":{\"text\":\"Date\"}},\"yaxis\":{\"title\":{\"text\":\"Close\"}},\"template\":{\"data\":{\"histogram2dcontour\":[{\"type\":\"histogram2dcontour\",\"colorbar\":{\"outlinewidth\":0,\"ticks\":\"\"},\"colorscale\":[[0.0,\"#0d0887\"],[0.1111111111111111,\"#46039f\"],[0.2222222222222222,\"#7201a8\"],[0.3333333333333333,\"#9c179e\"],[0.4444444444444444,\"#bd3786\"],[0.5555555555555556,\"#d8576b\"],[0.6666666666666666,\"#ed7953\"],[0.7777777777777778,\"#fb9f3a\"],[0.8888888888888888,\"#fdca26\"],[1.0,\"#f0f921\"]]}],\"choropleth\":[{\"type\":\"choropleth\",\"colorbar\":{\"outlinewidth\":0,\"ticks\":\"\"}}],\"histogram2d\":[{\"type\":\"histogram2d\",\"colorbar\":{\"outlinewidth\":0,\"ticks\":\"\"},\"colorscale\":[[0.0,\"#0d0887\"],[0.1111111111111111,\"#46039f\"],[0.2222222222222222,\"#7201a8\"],[0.3333333333333333,\"#9c179e\"],[0.4444444444444444,\"#bd3786\"],[0.5555555555555556,\"#d8576b\"],[0.6666666666666666,\"#ed7953\"],[0.7777777777777778,\"#fb9f3a\"],[0.8888888888888888,\"#fdca26\"],[1.0,\"#f0f921\"]]}],\"heatmap\":[{\"type\":\"heatmap\",\"colorbar\":{\"outlinewidth\":0,\"ticks\":\"\"},\"colorscale\":[[0.0,\"#0d0887\"],[0.1111111111111111,\"#46039f\"],[0.2222222222222222,\"#7201a8\"],[0.3333333333333333,\"#9c179e\"],[0.4444444444444444,\"#bd3786\"],[0.5555555555555556,\"#d8576b\"],[0.6666666666666666,\"#ed7953\"],[0.7777777777777778,\"#fb9f3a\"],[0.8888888888888888,\"#fdca26\"],[1.0,\"#f0f921\"]]}],\"heatmapgl\":[{\"type\":\"heatmapgl\",\"colorbar\":{\"outlinewidth\":0,\"ticks\":\"\"},\"colorscale\":[[0.0,\"#0d0887\"],[0.1111111111111111,\"#46039f\"],[0.2222222222222222,\"#7201a8\"],[0.3333333333333333,\"#9c179e\"],[0.4444444444444444,\"#bd3786\"],[0.5555555555555556,\"#d8576b\"],[0.6666666666666666,\"#ed7953\"],[0.7777777777777778,\"#fb9f3a\"],[0.8888888888888888,\"#fdca26\"],[1.0,\"#f0f921\"]]}],\"contourcarpet\":[{\"type\":\"contourcarpet\",\"colorbar\":{\"outlinewidth\":0,\"ticks\":\"\"}}],\"contour\":[{\"type\":\"contour\",\"colorbar\":{\"outlinewidth\":0,\"ticks\":\"\"},\"colorscale\":[[0.0,\"#0d0887\"],[0.1111111111111111,\"#46039f\"],[0.2222222222222222,\"#7201a8\"],[0.3333333333333333,\"#9c179e\"],[0.4444444444444444,\"#bd3786\"],[0.5555555555555556,\"#d8576b\"],[0.6666666666666666,\"#ed7953\"],[0.7777777777777778,\"#fb9f3a\"],[0.8888888888888888,\"#fdca26\"],[1.0,\"#f0f921\"]]}],\"surface\":[{\"type\":\"surface\",\"colorbar\":{\"outlinewidth\":0,\"ticks\":\"\"},\"colorscale\":[[0.0,\"#0d0887\"],[0.1111111111111111,\"#46039f\"],[0.2222222222222222,\"#7201a8\"],[0.3333333333333333,\"#9c179e\"],[0.4444444444444444,\"#bd3786\"],[0.5555555555555556,\"#d8576b\"],[0.6666666666666666,\"#ed7953\"],[0.7777777777777778,\"#fb9f3a\"],[0.8888888888888888,\"#fdca26\"],[1.0,\"#f0f921\"]]}],\"mesh3d\":[{\"type\":\"mesh3d\",\"colorbar\":{\"outlinewidth\":0,\"ticks\":\"\"}}],\"scatter\":[{\"fillpattern\":{\"fillmode\":\"overlay\",\"size\":10,\"solidity\":0.2},\"type\":\"scatter\"}],\"parcoords\":[{\"type\":\"parcoords\",\"line\":{\"colorbar\":{\"outlinewidth\":0,\"ticks\":\"\"}}}],\"scatterpolargl\":[{\"type\":\"scatterpolargl\",\"marker\":{\"colorbar\":{\"outlinewidth\":0,\"ticks\":\"\"}}}],\"bar\":[{\"error_x\":{\"color\":\"#2a3f5f\"},\"error_y\":{\"color\":\"#2a3f5f\"},\"marker\":{\"line\":{\"color\":\"#E5ECF6\",\"width\":0.5},\"pattern\":{\"fillmode\":\"overlay\",\"size\":10,\"solidity\":0.2}},\"type\":\"bar\"}],\"scattergeo\":[{\"type\":\"scattergeo\",\"marker\":{\"colorbar\":{\"outlinewidth\":0,\"ticks\":\"\"}}}],\"scatterpolar\":[{\"type\":\"scatterpolar\",\"marker\":{\"colorbar\":{\"outlinewidth\":0,\"ticks\":\"\"}}}],\"histogram\":[{\"marker\":{\"pattern\":{\"fillmode\":\"overlay\",\"size\":10,\"solidity\":0.2}},\"type\":\"histogram\"}],\"scattergl\":[{\"type\":\"scattergl\",\"marker\":{\"colorbar\":{\"outlinewidth\":0,\"ticks\":\"\"}}}],\"scatter3d\":[{\"type\":\"scatter3d\",\"line\":{\"colorbar\":{\"outlinewidth\":0,\"ticks\":\"\"}},\"marker\":{\"colorbar\":{\"outlinewidth\":0,\"ticks\":\"\"}}}],\"scattermapbox\":[{\"type\":\"scattermapbox\",\"marker\":{\"colorbar\":{\"outlinewidth\":0,\"ticks\":\"\"}}}],\"scatterternary\":[{\"type\":\"scatterternary\",\"marker\":{\"colorbar\":{\"outlinewidth\":0,\"ticks\":\"\"}}}],\"scattercarpet\":[{\"type\":\"scattercarpet\",\"marker\":{\"colorbar\":{\"outlinewidth\":0,\"ticks\":\"\"}}}],\"carpet\":[{\"aaxis\":{\"endlinecolor\":\"#2a3f5f\",\"gridcolor\":\"white\",\"linecolor\":\"white\",\"minorgridcolor\":\"white\",\"startlinecolor\":\"#2a3f5f\"},\"baxis\":{\"endlinecolor\":\"#2a3f5f\",\"gridcolor\":\"white\",\"linecolor\":\"white\",\"minorgridcolor\":\"white\",\"startlinecolor\":\"#2a3f5f\"},\"type\":\"carpet\"}],\"table\":[{\"cells\":{\"fill\":{\"color\":\"#EBF0F8\"},\"line\":{\"color\":\"white\"}},\"header\":{\"fill\":{\"color\":\"#C8D4E3\"},\"line\":{\"color\":\"white\"}},\"type\":\"table\"}],\"barpolar\":[{\"marker\":{\"line\":{\"color\":\"#E5ECF6\",\"width\":0.5},\"pattern\":{\"fillmode\":\"overlay\",\"size\":10,\"solidity\":0.2}},\"type\":\"barpolar\"}],\"pie\":[{\"automargin\":true,\"type\":\"pie\"}]},\"layout\":{\"autotypenumbers\":\"strict\",\"colorway\":[\"#636efa\",\"#EF553B\",\"#00cc96\",\"#ab63fa\",\"#FFA15A\",\"#19d3f3\",\"#FF6692\",\"#B6E880\",\"#FF97FF\",\"#FECB52\"],\"font\":{\"color\":\"#2a3f5f\"},\"hovermode\":\"closest\",\"hoverlabel\":{\"align\":\"left\"},\"paper_bgcolor\":\"white\",\"plot_bgcolor\":\"#E5ECF6\",\"polar\":{\"bgcolor\":\"#E5ECF6\",\"angularaxis\":{\"gridcolor\":\"white\",\"linecolor\":\"white\",\"ticks\":\"\"},\"radialaxis\":{\"gridcolor\":\"white\",\"linecolor\":\"white\",\"ticks\":\"\"}},\"ternary\":{\"bgcolor\":\"#E5ECF6\",\"aaxis\":{\"gridcolor\":\"white\",\"linecolor\":\"white\",\"ticks\":\"\"},\"baxis\":{\"gridcolor\":\"white\",\"linecolor\":\"white\",\"ticks\":\"\"},\"caxis\":{\"gridcolor\":\"white\",\"linecolor\":\"white\",\"ticks\":\"\"}},\"coloraxis\":{\"colorbar\":{\"outlinewidth\":0,\"ticks\":\"\"}},\"colorscale\":{\"sequential\":[[0.0,\"#0d0887\"],[0.1111111111111111,\"#46039f\"],[0.2222222222222222,\"#7201a8\"],[0.3333333333333333,\"#9c179e\"],[0.4444444444444444,\"#bd3786\"],[0.5555555555555556,\"#d8576b\"],[0.6666666666666666,\"#ed7953\"],[0.7777777777777778,\"#fb9f3a\"],[0.8888888888888888,\"#fdca26\"],[1.0,\"#f0f921\"]],\"sequentialminus\":[[0.0,\"#0d0887\"],[0.1111111111111111,\"#46039f\"],[0.2222222222222222,\"#7201a8\"],[0.3333333333333333,\"#9c179e\"],[0.4444444444444444,\"#bd3786\"],[0.5555555555555556,\"#d8576b\"],[0.6666666666666666,\"#ed7953\"],[0.7777777777777778,\"#fb9f3a\"],[0.8888888888888888,\"#fdca26\"],[1.0,\"#f0f921\"]],\"diverging\":[[0,\"#8e0152\"],[0.1,\"#c51b7d\"],[0.2,\"#de77ae\"],[0.3,\"#f1b6da\"],[0.4,\"#fde0ef\"],[0.5,\"#f7f7f7\"],[0.6,\"#e6f5d0\"],[0.7,\"#b8e186\"],[0.8,\"#7fbc41\"],[0.9,\"#4d9221\"],[1,\"#276419\"]]},\"xaxis\":{\"gridcolor\":\"white\",\"linecolor\":\"white\",\"ticks\":\"\",\"title\":{\"standoff\":15},\"zerolinecolor\":\"white\",\"automargin\":true,\"zerolinewidth\":2},\"yaxis\":{\"gridcolor\":\"white\",\"linecolor\":\"white\",\"ticks\":\"\",\"title\":{\"standoff\":15},\"zerolinecolor\":\"white\",\"automargin\":true,\"zerolinewidth\":2},\"scene\":{\"xaxis\":{\"backgroundcolor\":\"#E5ECF6\",\"gridcolor\":\"white\",\"linecolor\":\"white\",\"showbackground\":true,\"ticks\":\"\",\"zerolinecolor\":\"white\",\"gridwidth\":2},\"yaxis\":{\"backgroundcolor\":\"#E5ECF6\",\"gridcolor\":\"white\",\"linecolor\":\"white\",\"showbackground\":true,\"ticks\":\"\",\"zerolinecolor\":\"white\",\"gridwidth\":2},\"zaxis\":{\"backgroundcolor\":\"#E5ECF6\",\"gridcolor\":\"white\",\"linecolor\":\"white\",\"showbackground\":true,\"ticks\":\"\",\"zerolinecolor\":\"white\",\"gridwidth\":2}},\"shapedefaults\":{\"line\":{\"color\":\"#2a3f5f\"}},\"annotationdefaults\":{\"arrowcolor\":\"#2a3f5f\",\"arrowhead\":0,\"arrowwidth\":1},\"geo\":{\"bgcolor\":\"white\",\"landcolor\":\"#E5ECF6\",\"subunitcolor\":\"white\",\"showland\":true,\"showlakes\":true,\"lakecolor\":\"white\"},\"title\":{\"x\":0.05},\"mapbox\":{\"style\":\"light\"}}}},                        {\"responsive\": true}                    ).then(function(){\n",
              "                            \n",
              "var gd = document.getElementById('b9f457d1-af2e-49ec-975a-5341460ba79c');\n",
              "var x = new MutationObserver(function (mutations, observer) {{\n",
              "        var display = window.getComputedStyle(gd).display;\n",
              "        if (!display || display === 'none') {{\n",
              "            console.log([gd, 'removed!']);\n",
              "            Plotly.purge(gd);\n",
              "            observer.disconnect();\n",
              "        }}\n",
              "}});\n",
              "\n",
              "// Listen for the removal of the full notebook cells\n",
              "var notebookContainer = gd.closest('#notebook-container');\n",
              "if (notebookContainer) {{\n",
              "    x.observe(notebookContainer, {childList: true});\n",
              "}}\n",
              "\n",
              "// Listen for the clearing of the current output cell\n",
              "var outputEl = gd.closest('.output');\n",
              "if (outputEl) {{\n",
              "    x.observe(outputEl, {childList: true});\n",
              "}}\n",
              "\n",
              "                        })                };                            </script>        </div>\n",
              "</body>\n",
              "</html>"
            ]
          },
          "metadata": {}
        }
      ]
    },
    {
      "cell_type": "code",
      "source": [
        "close_data=df['Close'].values"
      ],
      "metadata": {
        "id": "nnlqFeeHeP3X"
      },
      "execution_count": 62,
      "outputs": []
    },
    {
      "cell_type": "code",
      "source": [
        "close_data"
      ],
      "metadata": {
        "colab": {
          "base_uri": "https://localhost:8080/"
        },
        "id": "YbmEFDVTj151",
        "outputId": "a68fe137-f043-4897-f579-967d3fb25c4d"
      },
      "execution_count": 65,
      "outputs": [
        {
          "output_type": "execute_result",
          "data": {
            "text/plain": [
              "array([[169.19999695],\n",
              "       [162.6499939 ],\n",
              "       [162.3999939 ],\n",
              "       ...,\n",
              "       [705.45001221],\n",
              "       [705.59997559],\n",
              "       [711.5       ]])"
            ]
          },
          "metadata": {},
          "execution_count": 65
        }
      ]
    },
    {
      "cell_type": "code",
      "source": [
        "#reshaping\n",
        "close_data=close_data.reshape(-1,1)"
      ],
      "metadata": {
        "id": "HfLEYWFsjXqW"
      },
      "execution_count": 63,
      "outputs": []
    },
    {
      "cell_type": "code",
      "source": [
        "close_data"
      ],
      "metadata": {
        "colab": {
          "base_uri": "https://localhost:8080/"
        },
        "id": "Lrls49rOjdM6",
        "outputId": "628f4241-8adf-4ff3-d3ae-17e86c946276"
      },
      "execution_count": 64,
      "outputs": [
        {
          "output_type": "execute_result",
          "data": {
            "text/plain": [
              "array([[169.19999695],\n",
              "       [162.6499939 ],\n",
              "       [162.3999939 ],\n",
              "       ...,\n",
              "       [705.45001221],\n",
              "       [705.59997559],\n",
              "       [711.5       ]])"
            ]
          },
          "metadata": {},
          "execution_count": 64
        }
      ]
    },
    {
      "cell_type": "code",
      "source": [
        "split_percentile=0.80\n",
        "split=int(split_percentile*len(close_data))"
      ],
      "metadata": {
        "id": "hISk6dblj06_"
      },
      "execution_count": 68,
      "outputs": []
    },
    {
      "cell_type": "code",
      "source": [
        "split"
      ],
      "metadata": {
        "colab": {
          "base_uri": "https://localhost:8080/"
        },
        "id": "nR7KAKArklF9",
        "outputId": "eb6c3f58-2bca-4b3a-ee74-3047ff874d30"
      },
      "execution_count": 69,
      "outputs": [
        {
          "output_type": "execute_result",
          "data": {
            "text/plain": [
              "988"
            ]
          },
          "metadata": {},
          "execution_count": 69
        }
      ]
    },
    {
      "cell_type": "code",
      "source": [
        "close_train=close_data[:split]\n",
        "close_test=close_data[split:]"
      ],
      "metadata": {
        "id": "Aypp-a3UkmKn"
      },
      "execution_count": 70,
      "outputs": []
    },
    {
      "cell_type": "code",
      "source": [
        "date_train=df['Date'][:split]\n",
        "date_test=df['Date'][split:]"
      ],
      "metadata": {
        "id": "Tr5DWYITlfOR"
      },
      "execution_count": 71,
      "outputs": []
    },
    {
      "cell_type": "code",
      "source": [
        "from keras.models import Sequential\n",
        "from keras.layers import Dense,LSTM\n",
        "from keras.preprocessing.sequence import TimeseriesGenerator"
      ],
      "metadata": {
        "id": "f0y9-icwlph1"
      },
      "execution_count": 72,
      "outputs": []
    },
    {
      "cell_type": "code",
      "source": [
        "look_back=15\n",
        "train_generator=TimeseriesGenerator(close_train,close_train,length=look_back,batch_size=20)"
      ],
      "metadata": {
        "id": "rghtJ1fem5rA"
      },
      "execution_count": 73,
      "outputs": []
    },
    {
      "cell_type": "code",
      "source": [
        "print(train_generator)"
      ],
      "metadata": {
        "colab": {
          "base_uri": "https://localhost:8080/"
        },
        "id": "PXU4ExaPnmxD",
        "outputId": "c7cabecc-c018-4329-9f40-5277528ad1ab"
      },
      "execution_count": 74,
      "outputs": [
        {
          "output_type": "stream",
          "name": "stdout",
          "text": [
            "<keras.src.preprocessing.sequence.TimeseriesGenerator object at 0x7ff135132e90>\n"
          ]
        }
      ]
    },
    {
      "cell_type": "code",
      "source": [
        "test_generator=TimeseriesGenerator(close_test,close_test,length=look_back,batch_size=1)"
      ],
      "metadata": {
        "id": "pHdFuimgojwo"
      },
      "execution_count": 83,
      "outputs": []
    },
    {
      "cell_type": "code",
      "source": [
        "model=Sequential()\n",
        "model.add(LSTM(10,activation='relu',input_shape=(look_back,1)))\n",
        "model.add(Dense(1))"
      ],
      "metadata": {
        "id": "w_VUPvNVnrHt"
      },
      "execution_count": 77,
      "outputs": []
    },
    {
      "cell_type": "code",
      "source": [
        "model.compile(optimizer='adam',loss='mse')"
      ],
      "metadata": {
        "id": "2AH5ovbapItR"
      },
      "execution_count": 79,
      "outputs": []
    },
    {
      "cell_type": "code",
      "source": [
        "model.fit(train_generator,epochs=100)"
      ],
      "metadata": {
        "colab": {
          "base_uri": "https://localhost:8080/"
        },
        "id": "WBWhJV1Ephg3",
        "outputId": "9cf6c7be-ec4c-490c-85b5-55fe096f635b"
      },
      "execution_count": 80,
      "outputs": [
        {
          "output_type": "stream",
          "name": "stdout",
          "text": [
            "Epoch 1/100\n",
            "973/973 [==============================] - 10s 8ms/step - loss: 774.4077\n",
            "Epoch 2/100\n",
            "973/973 [==============================] - 6s 6ms/step - loss: 178.1380\n",
            "Epoch 3/100\n",
            "973/973 [==============================] - 6s 6ms/step - loss: 123.1213\n",
            "Epoch 4/100\n",
            "973/973 [==============================] - 7s 8ms/step - loss: 115.5083\n",
            "Epoch 5/100\n",
            "973/973 [==============================] - 7s 7ms/step - loss: 116.7826\n",
            "Epoch 6/100\n",
            "973/973 [==============================] - 6s 6ms/step - loss: 114.8084\n",
            "Epoch 7/100\n",
            "973/973 [==============================] - 6s 6ms/step - loss: 114.5911\n",
            "Epoch 8/100\n",
            "973/973 [==============================] - 8s 8ms/step - loss: 121.2816\n",
            "Epoch 9/100\n",
            "973/973 [==============================] - 6s 6ms/step - loss: 113.9427\n",
            "Epoch 10/100\n",
            "973/973 [==============================] - 7s 7ms/step - loss: 113.6577\n",
            "Epoch 11/100\n",
            "973/973 [==============================] - 7s 7ms/step - loss: 130.8462\n",
            "Epoch 12/100\n",
            "973/973 [==============================] - 8s 8ms/step - loss: 108.3994\n",
            "Epoch 13/100\n",
            "973/973 [==============================] - 6s 6ms/step - loss: 99.4611\n",
            "Epoch 14/100\n",
            "973/973 [==============================] - 9s 9ms/step - loss: 407.6995\n",
            "Epoch 15/100\n",
            "973/973 [==============================] - 6s 7ms/step - loss: 94.7531\n",
            "Epoch 16/100\n",
            "973/973 [==============================] - 6s 6ms/step - loss: 92.1069\n",
            "Epoch 17/100\n",
            "973/973 [==============================] - 6s 6ms/step - loss: 97.4971\n",
            "Epoch 18/100\n",
            "973/973 [==============================] - 7s 7ms/step - loss: 2497.7822\n",
            "Epoch 19/100\n",
            "973/973 [==============================] - 7s 7ms/step - loss: 108.3593\n",
            "Epoch 20/100\n",
            "973/973 [==============================] - 6s 6ms/step - loss: 108.3449\n",
            "Epoch 21/100\n",
            "973/973 [==============================] - 8s 8ms/step - loss: 1488.0553\n",
            "Epoch 22/100\n",
            "973/973 [==============================] - 6s 7ms/step - loss: 103.5324\n",
            "Epoch 23/100\n",
            "973/973 [==============================] - 7s 7ms/step - loss: 154.6198\n",
            "Epoch 24/100\n",
            "973/973 [==============================] - 6s 6ms/step - loss: 89.5483\n",
            "Epoch 25/100\n",
            "973/973 [==============================] - 6s 6ms/step - loss: 92.5621\n",
            "Epoch 26/100\n",
            "973/973 [==============================] - 6s 6ms/step - loss: 104.0632\n",
            "Epoch 27/100\n",
            "973/973 [==============================] - 8s 8ms/step - loss: 85.8546\n",
            "Epoch 28/100\n",
            "973/973 [==============================] - 6s 6ms/step - loss: 109.0452\n",
            "Epoch 29/100\n",
            "973/973 [==============================] - 6s 6ms/step - loss: 673.5103\n",
            "Epoch 30/100\n",
            "973/973 [==============================] - 7s 7ms/step - loss: 320.1783\n",
            "Epoch 31/100\n",
            "973/973 [==============================] - 7s 7ms/step - loss: 249.6231\n",
            "Epoch 32/100\n",
            "973/973 [==============================] - 6s 6ms/step - loss: 91.5526\n",
            "Epoch 33/100\n",
            "973/973 [==============================] - 6s 6ms/step - loss: 89.6605\n",
            "Epoch 34/100\n",
            "973/973 [==============================] - 8s 8ms/step - loss: 89.4397\n",
            "Epoch 35/100\n",
            "973/973 [==============================] - 7s 7ms/step - loss: 92.2198\n",
            "Epoch 36/100\n",
            "973/973 [==============================] - 6s 6ms/step - loss: 148.1730\n",
            "Epoch 37/100\n",
            "973/973 [==============================] - 6s 7ms/step - loss: 84.6573\n",
            "Epoch 38/100\n",
            "973/973 [==============================] - 7s 7ms/step - loss: 90.0876\n",
            "Epoch 39/100\n",
            "973/973 [==============================] - 7s 7ms/step - loss: 88.3426\n",
            "Epoch 40/100\n",
            "973/973 [==============================] - 6s 6ms/step - loss: 86.4701\n",
            "Epoch 41/100\n",
            "973/973 [==============================] - 6s 6ms/step - loss: 96.3194\n",
            "Epoch 42/100\n",
            "973/973 [==============================] - 7s 8ms/step - loss: 86.4049\n",
            "Epoch 43/100\n",
            "973/973 [==============================] - 8s 8ms/step - loss: 92.3895\n",
            "Epoch 44/100\n",
            "973/973 [==============================] - 7s 7ms/step - loss: 88.4294\n",
            "Epoch 45/100\n",
            "973/973 [==============================] - 7s 7ms/step - loss: 85.7874\n",
            "Epoch 46/100\n",
            "973/973 [==============================] - 6s 6ms/step - loss: 92.6230\n",
            "Epoch 47/100\n",
            "973/973 [==============================] - 6s 7ms/step - loss: 102.1934\n",
            "Epoch 48/100\n",
            "973/973 [==============================] - 6s 6ms/step - loss: 93.2222\n",
            "Epoch 49/100\n",
            "973/973 [==============================] - 7s 7ms/step - loss: 192.4062\n",
            "Epoch 50/100\n",
            "973/973 [==============================] - 7s 7ms/step - loss: 82.9147\n",
            "Epoch 51/100\n",
            "973/973 [==============================] - 6s 6ms/step - loss: 89.6772\n",
            "Epoch 52/100\n",
            "973/973 [==============================] - 6s 6ms/step - loss: 87.5797\n",
            "Epoch 53/100\n",
            "973/973 [==============================] - 6s 6ms/step - loss: 86.2333\n",
            "Epoch 54/100\n",
            "973/973 [==============================] - 7s 7ms/step - loss: 87.6285\n",
            "Epoch 55/100\n",
            "973/973 [==============================] - 6s 6ms/step - loss: 87.9273\n",
            "Epoch 56/100\n",
            "973/973 [==============================] - 7s 7ms/step - loss: 84.2936\n",
            "Epoch 57/100\n",
            "973/973 [==============================] - 7s 7ms/step - loss: 87.0037\n",
            "Epoch 58/100\n",
            "973/973 [==============================] - 6s 7ms/step - loss: 88.5383\n",
            "Epoch 59/100\n",
            "973/973 [==============================] - 6s 6ms/step - loss: 82.8072\n",
            "Epoch 60/100\n",
            "973/973 [==============================] - 6s 6ms/step - loss: 92.5238\n",
            "Epoch 61/100\n",
            "973/973 [==============================] - 7s 7ms/step - loss: 89.8328\n",
            "Epoch 62/100\n",
            "973/973 [==============================] - 7s 7ms/step - loss: 86.4988\n",
            "Epoch 63/100\n",
            "973/973 [==============================] - 6s 6ms/step - loss: 87.2795\n",
            "Epoch 64/100\n",
            "973/973 [==============================] - 6s 6ms/step - loss: 86.7591\n",
            "Epoch 65/100\n",
            "973/973 [==============================] - 6s 6ms/step - loss: 94.5768\n",
            "Epoch 66/100\n",
            "973/973 [==============================] - 7s 7ms/step - loss: 82.4056\n",
            "Epoch 67/100\n",
            "973/973 [==============================] - 7s 7ms/step - loss: 85.7938\n",
            "Epoch 68/100\n",
            "973/973 [==============================] - 6s 6ms/step - loss: 84.7464\n",
            "Epoch 69/100\n",
            "973/973 [==============================] - 6s 6ms/step - loss: 83.1670\n",
            "Epoch 70/100\n",
            "973/973 [==============================] - 6s 7ms/step - loss: 4147.2524\n",
            "Epoch 71/100\n",
            "973/973 [==============================] - 8s 8ms/step - loss: 129.8701\n",
            "Epoch 72/100\n",
            "973/973 [==============================] - 7s 7ms/step - loss: 124.9168\n",
            "Epoch 73/100\n",
            "973/973 [==============================] - 6s 6ms/step - loss: 118.3021\n",
            "Epoch 74/100\n",
            "973/973 [==============================] - 6s 6ms/step - loss: 123.3478\n",
            "Epoch 75/100\n",
            "973/973 [==============================] - 6s 6ms/step - loss: 125.3620\n",
            "Epoch 76/100\n",
            "973/973 [==============================] - 7s 7ms/step - loss: 132.3376\n",
            "Epoch 77/100\n",
            "973/973 [==============================] - 7s 7ms/step - loss: 595.6511\n",
            "Epoch 78/100\n",
            "973/973 [==============================] - 6s 6ms/step - loss: 86.9472\n",
            "Epoch 79/100\n",
            "973/973 [==============================] - 6s 6ms/step - loss: 91.1701\n",
            "Epoch 80/100\n",
            "973/973 [==============================] - 6s 6ms/step - loss: 91.3968\n",
            "Epoch 81/100\n",
            "973/973 [==============================] - 7s 7ms/step - loss: 90.7468\n",
            "Epoch 82/100\n",
            "973/973 [==============================] - 7s 7ms/step - loss: 96.0210\n",
            "Epoch 83/100\n",
            "973/973 [==============================] - 7s 7ms/step - loss: 90.4794\n",
            "Epoch 84/100\n",
            "973/973 [==============================] - 6s 6ms/step - loss: 91.6989\n",
            "Epoch 85/100\n",
            "973/973 [==============================] - 7s 7ms/step - loss: 88.3597\n",
            "Epoch 86/100\n",
            "973/973 [==============================] - 7s 7ms/step - loss: 91.1826\n",
            "Epoch 87/100\n",
            "973/973 [==============================] - 7s 7ms/step - loss: 87.6888\n",
            "Epoch 88/100\n",
            "973/973 [==============================] - 6s 6ms/step - loss: 86.3112\n",
            "Epoch 89/100\n",
            "973/973 [==============================] - 6s 6ms/step - loss: 84.0951\n",
            "Epoch 90/100\n",
            "973/973 [==============================] - 6s 6ms/step - loss: 86.8463\n",
            "Epoch 91/100\n",
            "973/973 [==============================] - 6s 6ms/step - loss: 139.2147\n",
            "Epoch 92/100\n",
            "973/973 [==============================] - 7s 7ms/step - loss: 84.0423\n",
            "Epoch 93/100\n",
            "973/973 [==============================] - 7s 7ms/step - loss: 83.9184\n",
            "Epoch 94/100\n",
            "973/973 [==============================] - 6s 6ms/step - loss: 83.7658\n",
            "Epoch 95/100\n",
            "973/973 [==============================] - 6s 6ms/step - loss: 83.8542\n",
            "Epoch 96/100\n",
            "973/973 [==============================] - 6s 6ms/step - loss: 82.7151\n",
            "Epoch 97/100\n",
            "973/973 [==============================] - 6s 6ms/step - loss: 84.9209\n",
            "Epoch 98/100\n",
            "973/973 [==============================] - 7s 7ms/step - loss: 83.2170\n",
            "Epoch 99/100\n",
            "973/973 [==============================] - 7s 7ms/step - loss: 82.7303\n",
            "Epoch 100/100\n",
            "973/973 [==============================] - 7s 7ms/step - loss: 81.0534\n"
          ]
        },
        {
          "output_type": "execute_result",
          "data": {
            "text/plain": [
              "<keras.src.callbacks.History at 0x7ff132e37b80>"
            ]
          },
          "metadata": {},
          "execution_count": 80
        }
      ]
    },
    {
      "cell_type": "code",
      "source": [
        "prediction=model.predict(test_generator)"
      ],
      "metadata": {
        "colab": {
          "base_uri": "https://localhost:8080/"
        },
        "id": "orTQTVhlpohA",
        "outputId": "f7a52ad5-80e6-4db4-c8d5-da78b07cef88"
      },
      "execution_count": 84,
      "outputs": [
        {
          "output_type": "stream",
          "name": "stdout",
          "text": [
            "233/233 [==============================] - 1s 3ms/step\n"
          ]
        }
      ]
    },
    {
      "cell_type": "code",
      "source": [
        "#reshapeing again for plotting\n",
        "close_train=close_train.reshape((-1))\n",
        "close_test=close_test.reshape((-1))\n",
        "prediction=prediction.reshape((-1))"
      ],
      "metadata": {
        "id": "s8LItMo9uHZX"
      },
      "execution_count": 85,
      "outputs": []
    },
    {
      "cell_type": "code",
      "source": [
        "trace1=pl.Scatter(\n",
        "    x=date_train,\n",
        "    y=close_train,\n",
        "    mode='lines',\n",
        "    name='train_data'\n",
        ")\n",
        "\n",
        "trace2=pl.Scatter(\n",
        "    x=date_test,\n",
        "    y=close_test,\n",
        "    mode='lines',\n",
        "    name='test_data'\n",
        ")\n",
        "\n",
        "trace3=pl.Scatter(\n",
        "    x=date_test,\n",
        "    y=prediction,\n",
        "    mode='lines',\n",
        "    name='prediction',\n",
        "    fillcolor='blue'\n",
        ")\n",
        "\n",
        "layout=pl.Layout(\n",
        "    title='Google Stock',\n",
        "    xaxis={'title':'Date'},\n",
        "    yaxis={'title':'Close'}\n",
        ")\n",
        "\n",
        "fig=pl.Figure(data=[trace1,trace2,trace3],layout=layout)\n",
        "fig.show()"
      ],
      "metadata": {
        "colab": {
          "base_uri": "https://localhost:8080/",
          "height": 542
        },
        "id": "f2sepTtpz_Dp",
        "outputId": "7d97241a-9784-4d1b-fd0e-2661979133b4"
      },
      "execution_count": 86,
      "outputs": [
        {
          "output_type": "display_data",
          "data": {
            "text/html": [
              "<html>\n",
              "<head><meta charset=\"utf-8\" /></head>\n",
              "<body>\n",
              "    <div>            <script src=\"https://cdnjs.cloudflare.com/ajax/libs/mathjax/2.7.5/MathJax.js?config=TeX-AMS-MML_SVG\"></script><script type=\"text/javascript\">if (window.MathJax && window.MathJax.Hub && window.MathJax.Hub.Config) {window.MathJax.Hub.Config({SVG: {font: \"STIX-Web\"}});}</script>                <script type=\"text/javascript\">window.PlotlyConfig = {MathJaxConfig: 'local'};</script>\n",
              "        <script charset=\"utf-8\" src=\"https://cdn.plot.ly/plotly-2.24.1.min.js\"></script>                <div id=\"187f1d12-7b32-4886-a90a-be9876463e93\" class=\"plotly-graph-div\" style=\"height:525px; width:100%;\"></div>            <script type=\"text/javascript\">                                    window.PLOTLYENV=window.PLOTLYENV || {};                                    if (document.getElementById(\"187f1d12-7b32-4886-a90a-be9876463e93\")) {                    Plotly.newPlot(                        \"187f1d12-7b32-4886-a90a-be9876463e93\",                        [{\"mode\":\"lines\",\"name\":\"train_data\",\"x\":[\"2018-12-05T00:00:00\",\"2018-12-06T00:00:00\",\"2018-12-07T00:00:00\",\"2018-12-10T00:00:00\",\"2018-12-11T00:00:00\",\"2018-12-12T00:00:00\",\"2018-12-13T00:00:00\",\"2018-12-14T00:00:00\",\"2018-12-17T00:00:00\",\"2018-12-18T00:00:00\",\"2018-12-19T00:00:00\",\"2018-12-20T00:00:00\",\"2018-12-21T00:00:00\",\"2018-12-24T00:00:00\",\"2018-12-26T00:00:00\",\"2018-12-27T00:00:00\",\"2018-12-28T00:00:00\",\"2018-12-31T00:00:00\",\"2019-01-01T00:00:00\",\"2019-01-02T00:00:00\",\"2019-01-03T00:00:00\",\"2019-01-04T00:00:00\",\"2019-01-07T00:00:00\",\"2019-01-08T00:00:00\",\"2019-01-09T00:00:00\",\"2019-01-10T00:00:00\",\"2019-01-11T00:00:00\",\"2019-01-14T00:00:00\",\"2019-01-15T00:00:00\",\"2019-01-16T00:00:00\",\"2019-01-17T00:00:00\",\"2019-01-18T00:00:00\",\"2019-01-21T00:00:00\",\"2019-01-22T00:00:00\",\"2019-01-23T00:00:00\",\"2019-01-24T00:00:00\",\"2019-01-25T00:00:00\",\"2019-01-28T00:00:00\",\"2019-01-29T00:00:00\",\"2019-01-30T00:00:00\",\"2019-01-31T00:00:00\",\"2019-02-01T00:00:00\",\"2019-02-04T00:00:00\",\"2019-02-05T00:00:00\",\"2019-02-06T00:00:00\",\"2019-02-07T00:00:00\",\"2019-02-08T00:00:00\",\"2019-02-11T00:00:00\",\"2019-02-12T00:00:00\",\"2019-02-14T00:00:00\",\"2019-02-15T00:00:00\",\"2019-02-18T00:00:00\",\"2019-02-19T00:00:00\",\"2019-02-20T00:00:00\",\"2019-02-21T00:00:00\",\"2019-02-22T00:00:00\",\"2019-02-25T00:00:00\",\"2019-02-26T00:00:00\",\"2019-02-27T00:00:00\",\"2019-02-28T00:00:00\",\"2019-03-01T00:00:00\",\"2019-03-05T00:00:00\",\"2019-03-06T00:00:00\",\"2019-03-07T00:00:00\",\"2019-03-08T00:00:00\",\"2019-03-11T00:00:00\",\"2019-03-12T00:00:00\",\"2019-03-13T00:00:00\",\"2019-03-14T00:00:00\",\"2019-03-15T00:00:00\",\"2019-03-18T00:00:00\",\"2019-03-19T00:00:00\",\"2019-03-20T00:00:00\",\"2019-03-22T00:00:00\",\"2019-03-25T00:00:00\",\"2019-03-26T00:00:00\",\"2019-03-27T00:00:00\",\"2019-03-28T00:00:00\",\"2019-04-01T00:00:00\",\"2019-04-02T00:00:00\",\"2019-04-03T00:00:00\",\"2019-04-04T00:00:00\",\"2019-04-05T00:00:00\",\"2019-04-08T00:00:00\",\"2019-04-09T00:00:00\",\"2019-04-10T00:00:00\",\"2019-04-11T00:00:00\",\"2019-04-12T00:00:00\",\"2019-04-15T00:00:00\",\"2019-04-16T00:00:00\",\"2019-04-18T00:00:00\",\"2019-04-22T00:00:00\",\"2019-04-23T00:00:00\",\"2019-04-24T00:00:00\",\"2019-04-25T00:00:00\",\"2019-04-26T00:00:00\",\"2019-04-30T00:00:00\",\"2019-05-02T00:00:00\",\"2019-05-03T00:00:00\",\"2019-05-06T00:00:00\",\"2019-05-07T00:00:00\",\"2019-05-08T00:00:00\",\"2019-05-09T00:00:00\",\"2019-05-10T00:00:00\",\"2019-05-13T00:00:00\",\"2019-05-14T00:00:00\",\"2019-05-15T00:00:00\",\"2019-05-16T00:00:00\",\"2019-05-17T00:00:00\",\"2019-05-20T00:00:00\",\"2019-05-21T00:00:00\",\"2019-05-22T00:00:00\",\"2019-05-23T00:00:00\",\"2019-05-24T00:00:00\",\"2019-05-27T00:00:00\",\"2019-05-28T00:00:00\",\"2019-05-29T00:00:00\",\"2019-05-30T00:00:00\",\"2019-05-31T00:00:00\",\"2019-06-03T00:00:00\",\"2019-06-04T00:00:00\",\"2019-06-06T00:00:00\",\"2019-06-07T00:00:00\",\"2019-06-10T00:00:00\",\"2019-06-11T00:00:00\",\"2019-06-12T00:00:00\",\"2019-06-13T00:00:00\",\"2019-06-14T00:00:00\",\"2019-06-17T00:00:00\",\"2019-06-18T00:00:00\",\"2019-06-19T00:00:00\",\"2019-06-20T00:00:00\",\"2019-06-21T00:00:00\",\"2019-06-24T00:00:00\",\"2019-06-25T00:00:00\",\"2019-06-26T00:00:00\",\"2019-06-27T00:00:00\",\"2019-06-28T00:00:00\",\"2019-07-01T00:00:00\",\"2019-07-02T00:00:00\",\"2019-07-03T00:00:00\",\"2019-07-04T00:00:00\",\"2019-07-05T00:00:00\",\"2019-07-08T00:00:00\",\"2019-07-09T00:00:00\",\"2019-07-10T00:00:00\",\"2019-07-11T00:00:00\",\"2019-07-12T00:00:00\",\"2019-07-15T00:00:00\",\"2019-07-16T00:00:00\",\"2019-07-17T00:00:00\",\"2019-07-18T00:00:00\",\"2019-07-19T00:00:00\",\"2019-07-22T00:00:00\",\"2019-07-23T00:00:00\",\"2019-07-24T00:00:00\",\"2019-07-25T00:00:00\",\"2019-07-26T00:00:00\",\"2019-07-29T00:00:00\",\"2019-07-30T00:00:00\",\"2019-07-31T00:00:00\",\"2019-08-01T00:00:00\",\"2019-08-02T00:00:00\",\"2019-08-05T00:00:00\",\"2019-08-06T00:00:00\",\"2019-08-07T00:00:00\",\"2019-08-08T00:00:00\",\"2019-08-09T00:00:00\",\"2019-08-13T00:00:00\",\"2019-08-14T00:00:00\",\"2019-08-16T00:00:00\",\"2019-08-19T00:00:00\",\"2019-08-20T00:00:00\",\"2019-08-21T00:00:00\",\"2019-08-22T00:00:00\",\"2019-08-23T00:00:00\",\"2019-08-26T00:00:00\",\"2019-08-27T00:00:00\",\"2019-08-28T00:00:00\",\"2019-08-29T00:00:00\",\"2019-08-30T00:00:00\",\"2019-09-03T00:00:00\",\"2019-09-04T00:00:00\",\"2019-09-05T00:00:00\",\"2019-09-06T00:00:00\",\"2019-09-09T00:00:00\",\"2019-09-11T00:00:00\",\"2019-09-12T00:00:00\",\"2019-09-13T00:00:00\",\"2019-09-16T00:00:00\",\"2019-09-17T00:00:00\",\"2019-09-18T00:00:00\",\"2019-09-19T00:00:00\",\"2019-09-20T00:00:00\",\"2019-09-23T00:00:00\",\"2019-09-24T00:00:00\",\"2019-09-25T00:00:00\",\"2019-09-26T00:00:00\",\"2019-09-27T00:00:00\",\"2019-09-30T00:00:00\",\"2019-10-01T00:00:00\",\"2019-10-03T00:00:00\",\"2019-10-04T00:00:00\",\"2019-10-07T00:00:00\",\"2019-10-09T00:00:00\",\"2019-10-10T00:00:00\",\"2019-10-11T00:00:00\",\"2019-10-14T00:00:00\",\"2019-10-15T00:00:00\",\"2019-10-16T00:00:00\",\"2019-10-17T00:00:00\",\"2019-10-18T00:00:00\",\"2019-10-22T00:00:00\",\"2019-10-23T00:00:00\",\"2019-10-24T00:00:00\",\"2019-10-25T00:00:00\",\"2019-10-27T00:00:00\",\"2019-10-29T00:00:00\",\"2019-10-30T00:00:00\",\"2019-10-31T00:00:00\",\"2019-11-01T00:00:00\",\"2019-11-04T00:00:00\",\"2019-11-05T00:00:00\",\"2019-11-06T00:00:00\",\"2019-11-07T00:00:00\",\"2019-11-08T00:00:00\",\"2019-11-11T00:00:00\",\"2019-11-13T00:00:00\",\"2019-11-14T00:00:00\",\"2019-11-15T00:00:00\",\"2019-11-18T00:00:00\",\"2019-11-19T00:00:00\",\"2019-11-20T00:00:00\",\"2019-11-21T00:00:00\",\"2019-11-22T00:00:00\",\"2019-11-25T00:00:00\",\"2019-11-26T00:00:00\",\"2019-11-27T00:00:00\",\"2019-11-28T00:00:00\",\"2019-11-29T00:00:00\",\"2019-12-02T00:00:00\",\"2019-12-03T00:00:00\",\"2019-12-04T00:00:00\",\"2019-12-05T00:00:00\",\"2019-12-06T00:00:00\",\"2019-12-09T00:00:00\",\"2019-12-10T00:00:00\",\"2019-12-11T00:00:00\",\"2019-12-12T00:00:00\",\"2019-12-13T00:00:00\",\"2019-12-16T00:00:00\",\"2019-12-17T00:00:00\",\"2019-12-18T00:00:00\",\"2019-12-19T00:00:00\",\"2019-12-20T00:00:00\",\"2019-12-23T00:00:00\",\"2019-12-24T00:00:00\",\"2019-12-26T00:00:00\",\"2019-12-27T00:00:00\",\"2019-12-30T00:00:00\",\"2019-12-31T00:00:00\",\"2020-01-01T00:00:00\",\"2020-01-02T00:00:00\",\"2020-01-03T00:00:00\",\"2020-01-06T00:00:00\",\"2020-01-07T00:00:00\",\"2020-01-08T00:00:00\",\"2020-01-09T00:00:00\",\"2020-01-10T00:00:00\",\"2020-01-13T00:00:00\",\"2020-01-14T00:00:00\",\"2020-01-15T00:00:00\",\"2020-01-16T00:00:00\",\"2020-01-17T00:00:00\",\"2020-01-20T00:00:00\",\"2020-01-21T00:00:00\",\"2020-01-22T00:00:00\",\"2020-01-23T00:00:00\",\"2020-01-24T00:00:00\",\"2020-01-27T00:00:00\",\"2020-01-28T00:00:00\",\"2020-01-29T00:00:00\",\"2020-01-30T00:00:00\",\"2020-01-31T00:00:00\",\"2020-02-03T00:00:00\",\"2020-02-04T00:00:00\",\"2020-02-05T00:00:00\",\"2020-02-06T00:00:00\",\"2020-02-07T00:00:00\",\"2020-02-10T00:00:00\",\"2020-02-11T00:00:00\",\"2020-02-12T00:00:00\",\"2020-02-13T00:00:00\",\"2020-02-14T00:00:00\",\"2020-02-17T00:00:00\",\"2020-02-18T00:00:00\",\"2020-02-19T00:00:00\",\"2020-02-20T00:00:00\",\"2020-02-24T00:00:00\",\"2020-02-25T00:00:00\",\"2020-02-26T00:00:00\",\"2020-02-27T00:00:00\",\"2020-02-28T00:00:00\",\"2020-03-02T00:00:00\",\"2020-03-03T00:00:00\",\"2020-03-04T00:00:00\",\"2020-03-05T00:00:00\",\"2020-03-06T00:00:00\",\"2020-03-09T00:00:00\",\"2020-03-11T00:00:00\",\"2020-03-12T00:00:00\",\"2020-03-13T00:00:00\",\"2020-03-16T00:00:00\",\"2020-03-17T00:00:00\",\"2020-03-18T00:00:00\",\"2020-03-19T00:00:00\",\"2020-03-20T00:00:00\",\"2020-03-23T00:00:00\",\"2020-03-24T00:00:00\",\"2020-03-25T00:00:00\",\"2020-03-26T00:00:00\",\"2020-03-27T00:00:00\",\"2020-03-30T00:00:00\",\"2020-03-31T00:00:00\",\"2020-04-01T00:00:00\",\"2020-04-03T00:00:00\",\"2020-04-07T00:00:00\",\"2020-04-08T00:00:00\",\"2020-04-09T00:00:00\",\"2020-04-13T00:00:00\",\"2020-04-15T00:00:00\",\"2020-04-16T00:00:00\",\"2020-04-17T00:00:00\",\"2020-04-20T00:00:00\",\"2020-04-21T00:00:00\",\"2020-04-22T00:00:00\",\"2020-04-23T00:00:00\",\"2020-04-24T00:00:00\",\"2020-04-27T00:00:00\",\"2020-04-28T00:00:00\",\"2020-04-29T00:00:00\",\"2020-04-30T00:00:00\",\"2020-05-04T00:00:00\",\"2020-05-05T00:00:00\",\"2020-05-06T00:00:00\",\"2020-05-07T00:00:00\",\"2020-05-08T00:00:00\",\"2020-05-11T00:00:00\",\"2020-05-12T00:00:00\",\"2020-05-13T00:00:00\",\"2020-05-14T00:00:00\",\"2020-05-15T00:00:00\",\"2020-05-18T00:00:00\",\"2020-05-19T00:00:00\",\"2020-05-20T00:00:00\",\"2020-05-21T00:00:00\",\"2020-05-22T00:00:00\",\"2020-05-26T00:00:00\",\"2020-05-27T00:00:00\",\"2020-05-28T00:00:00\",\"2020-05-29T00:00:00\",\"2020-06-01T00:00:00\",\"2020-06-02T00:00:00\",\"2020-06-03T00:00:00\",\"2020-06-04T00:00:00\",\"2020-06-05T00:00:00\",\"2020-06-08T00:00:00\",\"2020-06-09T00:00:00\",\"2020-06-10T00:00:00\",\"2020-06-11T00:00:00\",\"2020-06-12T00:00:00\",\"2020-06-15T00:00:00\",\"2020-06-16T00:00:00\",\"2020-06-17T00:00:00\",\"2020-06-18T00:00:00\",\"2020-06-19T00:00:00\",\"2020-06-22T00:00:00\",\"2020-06-23T00:00:00\",\"2020-06-24T00:00:00\",\"2020-06-25T00:00:00\",\"2020-06-26T00:00:00\",\"2020-06-29T00:00:00\",\"2020-06-30T00:00:00\",\"2020-07-01T00:00:00\",\"2020-07-02T00:00:00\",\"2020-07-03T00:00:00\",\"2020-07-06T00:00:00\",\"2020-07-07T00:00:00\",\"2020-07-08T00:00:00\",\"2020-07-09T00:00:00\",\"2020-07-10T00:00:00\",\"2020-07-13T00:00:00\",\"2020-07-14T00:00:00\",\"2020-07-15T00:00:00\",\"2020-07-16T00:00:00\",\"2020-07-17T00:00:00\",\"2020-07-20T00:00:00\",\"2020-07-21T00:00:00\",\"2020-07-22T00:00:00\",\"2020-07-23T00:00:00\",\"2020-07-24T00:00:00\",\"2020-07-27T00:00:00\",\"2020-07-28T00:00:00\",\"2020-07-29T00:00:00\",\"2020-07-30T00:00:00\",\"2020-07-31T00:00:00\",\"2020-08-03T00:00:00\",\"2020-08-04T00:00:00\",\"2020-08-05T00:00:00\",\"2020-08-06T00:00:00\",\"2020-08-07T00:00:00\",\"2020-08-10T00:00:00\",\"2020-08-11T00:00:00\",\"2020-08-12T00:00:00\",\"2020-08-13T00:00:00\",\"2020-08-14T00:00:00\",\"2020-08-17T00:00:00\",\"2020-08-18T00:00:00\",\"2020-08-19T00:00:00\",\"2020-08-20T00:00:00\",\"2020-08-21T00:00:00\",\"2020-08-24T00:00:00\",\"2020-08-25T00:00:00\",\"2020-08-26T00:00:00\",\"2020-08-27T00:00:00\",\"2020-08-28T00:00:00\",\"2020-08-31T00:00:00\",\"2020-09-01T00:00:00\",\"2020-09-02T00:00:00\",\"2020-09-03T00:00:00\",\"2020-09-04T00:00:00\",\"2020-09-07T00:00:00\",\"2020-09-08T00:00:00\",\"2020-09-09T00:00:00\",\"2020-09-10T00:00:00\",\"2020-09-11T00:00:00\",\"2020-09-14T00:00:00\",\"2020-09-15T00:00:00\",\"2020-09-16T00:00:00\",\"2020-09-17T00:00:00\",\"2020-09-18T00:00:00\",\"2020-09-21T00:00:00\",\"2020-09-22T00:00:00\",\"2020-09-23T00:00:00\",\"2020-09-24T00:00:00\",\"2020-09-25T00:00:00\",\"2020-09-28T00:00:00\",\"2020-09-29T00:00:00\",\"2020-09-30T00:00:00\",\"2020-10-01T00:00:00\",\"2020-10-05T00:00:00\",\"2020-10-06T00:00:00\",\"2020-10-07T00:00:00\",\"2020-10-08T00:00:00\",\"2020-10-09T00:00:00\",\"2020-10-12T00:00:00\",\"2020-10-13T00:00:00\",\"2020-10-14T00:00:00\",\"2020-10-15T00:00:00\",\"2020-10-16T00:00:00\",\"2020-10-19T00:00:00\",\"2020-10-20T00:00:00\",\"2020-10-21T00:00:00\",\"2020-10-22T00:00:00\",\"2020-10-23T00:00:00\",\"2020-10-26T00:00:00\",\"2020-10-27T00:00:00\",\"2020-10-28T00:00:00\",\"2020-10-29T00:00:00\",\"2020-10-30T00:00:00\",\"2020-11-02T00:00:00\",\"2020-11-03T00:00:00\",\"2020-11-04T00:00:00\",\"2020-11-05T00:00:00\",\"2020-11-06T00:00:00\",\"2020-11-09T00:00:00\",\"2020-11-10T00:00:00\",\"2020-11-11T00:00:00\",\"2020-11-12T00:00:00\",\"2020-11-13T00:00:00\",\"2020-11-14T00:00:00\",\"2020-11-17T00:00:00\",\"2020-11-18T00:00:00\",\"2020-11-19T00:00:00\",\"2020-11-20T00:00:00\",\"2020-11-23T00:00:00\",\"2020-11-24T00:00:00\",\"2020-11-25T00:00:00\",\"2020-11-26T00:00:00\",\"2020-11-27T00:00:00\",\"2020-12-01T00:00:00\",\"2020-12-02T00:00:00\",\"2020-12-03T00:00:00\",\"2020-12-04T00:00:00\",\"2020-12-07T00:00:00\",\"2020-12-08T00:00:00\",\"2020-12-09T00:00:00\",\"2020-12-10T00:00:00\",\"2020-12-11T00:00:00\",\"2020-12-14T00:00:00\",\"2020-12-15T00:00:00\",\"2020-12-16T00:00:00\",\"2020-12-17T00:00:00\",\"2020-12-18T00:00:00\",\"2020-12-21T00:00:00\",\"2020-12-22T00:00:00\",\"2020-12-23T00:00:00\",\"2020-12-24T00:00:00\",\"2020-12-28T00:00:00\",\"2020-12-29T00:00:00\",\"2020-12-30T00:00:00\",\"2020-12-31T00:00:00\",\"2021-01-01T00:00:00\",\"2021-01-04T00:00:00\",\"2021-01-05T00:00:00\",\"2021-01-06T00:00:00\",\"2021-01-07T00:00:00\",\"2021-01-08T00:00:00\",\"2021-01-11T00:00:00\",\"2021-01-12T00:00:00\",\"2021-01-13T00:00:00\",\"2021-01-14T00:00:00\",\"2021-01-15T00:00:00\",\"2021-01-18T00:00:00\",\"2021-01-19T00:00:00\",\"2021-01-20T00:00:00\",\"2021-01-21T00:00:00\",\"2021-01-22T00:00:00\",\"2021-01-25T00:00:00\",\"2021-01-27T00:00:00\",\"2021-01-28T00:00:00\",\"2021-01-29T00:00:00\",\"2021-02-01T00:00:00\",\"2021-02-02T00:00:00\",\"2021-02-03T00:00:00\",\"2021-02-04T00:00:00\",\"2021-02-05T00:00:00\",\"2021-02-08T00:00:00\",\"2021-02-09T00:00:00\",\"2021-02-10T00:00:00\",\"2021-02-11T00:00:00\",\"2021-02-12T00:00:00\",\"2021-02-15T00:00:00\",\"2021-02-16T00:00:00\",\"2021-02-17T00:00:00\",\"2021-02-18T00:00:00\",\"2021-02-19T00:00:00\",\"2021-02-22T00:00:00\",\"2021-02-23T00:00:00\",\"2021-02-24T00:00:00\",\"2021-02-25T00:00:00\",\"2021-02-26T00:00:00\",\"2021-03-01T00:00:00\",\"2021-03-02T00:00:00\",\"2021-03-03T00:00:00\",\"2021-03-04T00:00:00\",\"2021-03-05T00:00:00\",\"2021-03-08T00:00:00\",\"2021-03-09T00:00:00\",\"2021-03-10T00:00:00\",\"2021-03-12T00:00:00\",\"2021-03-15T00:00:00\",\"2021-03-16T00:00:00\",\"2021-03-17T00:00:00\",\"2021-03-18T00:00:00\",\"2021-03-19T00:00:00\",\"2021-03-22T00:00:00\",\"2021-03-23T00:00:00\",\"2021-03-24T00:00:00\",\"2021-03-25T00:00:00\",\"2021-03-26T00:00:00\",\"2021-03-30T00:00:00\",\"2021-03-31T00:00:00\",\"2021-04-01T00:00:00\",\"2021-04-05T00:00:00\",\"2021-04-06T00:00:00\",\"2021-04-07T00:00:00\",\"2021-04-08T00:00:00\",\"2021-04-09T00:00:00\",\"2021-04-12T00:00:00\",\"2021-04-13T00:00:00\",\"2021-04-15T00:00:00\",\"2021-04-16T00:00:00\",\"2021-04-19T00:00:00\",\"2021-04-20T00:00:00\",\"2021-04-22T00:00:00\",\"2021-04-23T00:00:00\",\"2021-04-26T00:00:00\",\"2021-04-27T00:00:00\",\"2021-04-28T00:00:00\",\"2021-04-29T00:00:00\",\"2021-04-30T00:00:00\",\"2021-05-03T00:00:00\",\"2021-05-04T00:00:00\",\"2021-05-05T00:00:00\",\"2021-05-06T00:00:00\",\"2021-05-07T00:00:00\",\"2021-05-10T00:00:00\",\"2021-05-11T00:00:00\",\"2021-05-12T00:00:00\",\"2021-05-14T00:00:00\",\"2021-05-17T00:00:00\",\"2021-05-18T00:00:00\",\"2021-05-19T00:00:00\",\"2021-05-20T00:00:00\",\"2021-05-21T00:00:00\",\"2021-05-24T00:00:00\",\"2021-05-25T00:00:00\",\"2021-05-26T00:00:00\",\"2021-05-27T00:00:00\",\"2021-05-28T00:00:00\",\"2021-05-31T00:00:00\",\"2021-06-01T00:00:00\",\"2021-06-02T00:00:00\",\"2021-06-03T00:00:00\",\"2021-06-04T00:00:00\",\"2021-06-07T00:00:00\",\"2021-06-08T00:00:00\",\"2021-06-09T00:00:00\",\"2021-06-10T00:00:00\",\"2021-06-11T00:00:00\",\"2021-06-14T00:00:00\",\"2021-06-15T00:00:00\",\"2021-06-16T00:00:00\",\"2021-06-17T00:00:00\",\"2021-06-18T00:00:00\",\"2021-06-21T00:00:00\",\"2021-06-22T00:00:00\",\"2021-06-23T00:00:00\",\"2021-06-24T00:00:00\",\"2021-06-25T00:00:00\",\"2021-06-28T00:00:00\",\"2021-06-29T00:00:00\",\"2021-06-30T00:00:00\",\"2021-07-01T00:00:00\",\"2021-07-02T00:00:00\",\"2021-07-05T00:00:00\",\"2021-07-06T00:00:00\",\"2021-07-07T00:00:00\",\"2021-07-08T00:00:00\",\"2021-07-09T00:00:00\",\"2021-07-12T00:00:00\",\"2021-07-13T00:00:00\",\"2021-07-14T00:00:00\",\"2021-07-15T00:00:00\",\"2021-07-16T00:00:00\",\"2021-07-19T00:00:00\",\"2021-07-20T00:00:00\",\"2021-07-22T00:00:00\",\"2021-07-23T00:00:00\",\"2021-07-26T00:00:00\",\"2021-07-27T00:00:00\",\"2021-07-28T00:00:00\",\"2021-07-29T00:00:00\",\"2021-07-30T00:00:00\",\"2021-08-02T00:00:00\",\"2021-08-03T00:00:00\",\"2021-08-04T00:00:00\",\"2021-08-05T00:00:00\",\"2021-08-06T00:00:00\",\"2021-08-09T00:00:00\",\"2021-08-10T00:00:00\",\"2021-08-11T00:00:00\",\"2021-08-12T00:00:00\",\"2021-08-13T00:00:00\",\"2021-08-16T00:00:00\",\"2021-08-17T00:00:00\",\"2021-08-18T00:00:00\",\"2021-08-20T00:00:00\",\"2021-08-23T00:00:00\",\"2021-08-24T00:00:00\",\"2021-08-25T00:00:00\",\"2021-08-26T00:00:00\",\"2021-08-27T00:00:00\",\"2021-08-30T00:00:00\",\"2021-08-31T00:00:00\",\"2021-09-01T00:00:00\",\"2021-09-02T00:00:00\",\"2021-09-03T00:00:00\",\"2021-09-06T00:00:00\",\"2021-09-07T00:00:00\",\"2021-09-08T00:00:00\",\"2021-09-09T00:00:00\",\"2021-09-13T00:00:00\",\"2021-09-14T00:00:00\",\"2021-09-15T00:00:00\",\"2021-09-16T00:00:00\",\"2021-09-17T00:00:00\",\"2021-09-20T00:00:00\",\"2021-09-21T00:00:00\",\"2021-09-22T00:00:00\",\"2021-09-23T00:00:00\",\"2021-09-24T00:00:00\",\"2021-09-27T00:00:00\",\"2021-09-28T00:00:00\",\"2021-09-29T00:00:00\",\"2021-09-30T00:00:00\",\"2021-10-01T00:00:00\",\"2021-10-04T00:00:00\",\"2021-10-05T00:00:00\",\"2021-10-06T00:00:00\",\"2021-10-07T00:00:00\",\"2021-10-08T00:00:00\",\"2021-10-11T00:00:00\",\"2021-10-12T00:00:00\",\"2021-10-13T00:00:00\",\"2021-10-14T00:00:00\",\"2021-10-18T00:00:00\",\"2021-10-19T00:00:00\",\"2021-10-20T00:00:00\",\"2021-10-21T00:00:00\",\"2021-10-22T00:00:00\",\"2021-10-25T00:00:00\",\"2021-10-26T00:00:00\",\"2021-10-27T00:00:00\",\"2021-10-28T00:00:00\",\"2021-10-29T00:00:00\",\"2021-11-01T00:00:00\",\"2021-11-02T00:00:00\",\"2021-11-03T00:00:00\",\"2021-11-04T00:00:00\",\"2021-11-08T00:00:00\",\"2021-11-09T00:00:00\",\"2021-11-10T00:00:00\",\"2021-11-11T00:00:00\",\"2021-11-12T00:00:00\",\"2021-11-15T00:00:00\",\"2021-11-16T00:00:00\",\"2021-11-17T00:00:00\",\"2021-11-18T00:00:00\",\"2021-11-22T00:00:00\",\"2021-11-23T00:00:00\",\"2021-11-24T00:00:00\",\"2021-11-25T00:00:00\",\"2021-11-26T00:00:00\",\"2021-11-29T00:00:00\",\"2021-11-30T00:00:00\",\"2021-12-01T00:00:00\",\"2021-12-02T00:00:00\",\"2021-12-03T00:00:00\",\"2021-12-06T00:00:00\",\"2021-12-07T00:00:00\",\"2021-12-08T00:00:00\",\"2021-12-09T00:00:00\",\"2021-12-10T00:00:00\",\"2021-12-13T00:00:00\",\"2021-12-14T00:00:00\",\"2021-12-15T00:00:00\",\"2021-12-16T00:00:00\",\"2021-12-17T00:00:00\",\"2021-12-20T00:00:00\",\"2021-12-21T00:00:00\",\"2021-12-22T00:00:00\",\"2021-12-23T00:00:00\",\"2021-12-24T00:00:00\",\"2021-12-27T00:00:00\",\"2021-12-28T00:00:00\",\"2021-12-29T00:00:00\",\"2021-12-30T00:00:00\",\"2021-12-31T00:00:00\",\"2022-01-03T00:00:00\",\"2022-01-04T00:00:00\",\"2022-01-05T00:00:00\",\"2022-01-06T00:00:00\",\"2022-01-07T00:00:00\",\"2022-01-10T00:00:00\",\"2022-01-11T00:00:00\",\"2022-01-12T00:00:00\",\"2022-01-13T00:00:00\",\"2022-01-14T00:00:00\",\"2022-01-17T00:00:00\",\"2022-01-18T00:00:00\",\"2022-01-19T00:00:00\",\"2022-01-20T00:00:00\",\"2022-01-21T00:00:00\",\"2022-01-24T00:00:00\",\"2022-01-25T00:00:00\",\"2022-01-27T00:00:00\",\"2022-01-28T00:00:00\",\"2022-01-31T00:00:00\",\"2022-02-01T00:00:00\",\"2022-02-02T00:00:00\",\"2022-02-03T00:00:00\",\"2022-02-04T00:00:00\",\"2022-02-07T00:00:00\",\"2022-02-08T00:00:00\",\"2022-02-09T00:00:00\",\"2022-02-10T00:00:00\",\"2022-02-11T00:00:00\",\"2022-02-14T00:00:00\",\"2022-02-15T00:00:00\",\"2022-02-16T00:00:00\",\"2022-02-17T00:00:00\",\"2022-02-18T00:00:00\",\"2022-02-21T00:00:00\",\"2022-02-22T00:00:00\",\"2022-02-23T00:00:00\",\"2022-02-24T00:00:00\",\"2022-02-25T00:00:00\",\"2022-02-28T00:00:00\",\"2022-03-02T00:00:00\",\"2022-03-03T00:00:00\",\"2022-03-04T00:00:00\",\"2022-03-07T00:00:00\",\"2022-03-08T00:00:00\",\"2022-03-09T00:00:00\",\"2022-03-10T00:00:00\",\"2022-03-11T00:00:00\",\"2022-03-14T00:00:00\",\"2022-03-15T00:00:00\",\"2022-03-16T00:00:00\",\"2022-03-17T00:00:00\",\"2022-03-21T00:00:00\",\"2022-03-22T00:00:00\",\"2022-03-23T00:00:00\",\"2022-03-24T00:00:00\",\"2022-03-25T00:00:00\",\"2022-03-28T00:00:00\",\"2022-03-29T00:00:00\",\"2022-03-30T00:00:00\",\"2022-03-31T00:00:00\",\"2022-04-01T00:00:00\",\"2022-04-04T00:00:00\",\"2022-04-05T00:00:00\",\"2022-04-06T00:00:00\",\"2022-04-07T00:00:00\",\"2022-04-08T00:00:00\",\"2022-04-11T00:00:00\",\"2022-04-12T00:00:00\",\"2022-04-13T00:00:00\",\"2022-04-18T00:00:00\",\"2022-04-19T00:00:00\",\"2022-04-20T00:00:00\",\"2022-04-21T00:00:00\",\"2022-04-22T00:00:00\",\"2022-04-25T00:00:00\",\"2022-04-26T00:00:00\",\"2022-04-27T00:00:00\",\"2022-04-28T00:00:00\",\"2022-04-29T00:00:00\",\"2022-05-02T00:00:00\",\"2022-05-04T00:00:00\",\"2022-05-05T00:00:00\",\"2022-05-06T00:00:00\",\"2022-05-09T00:00:00\",\"2022-05-10T00:00:00\",\"2022-05-11T00:00:00\",\"2022-05-12T00:00:00\",\"2022-05-13T00:00:00\",\"2022-05-16T00:00:00\",\"2022-05-17T00:00:00\",\"2022-05-18T00:00:00\",\"2022-05-19T00:00:00\",\"2022-05-20T00:00:00\",\"2022-05-23T00:00:00\",\"2022-05-24T00:00:00\",\"2022-05-25T00:00:00\",\"2022-05-26T00:00:00\",\"2022-05-27T00:00:00\",\"2022-05-30T00:00:00\",\"2022-05-31T00:00:00\",\"2022-06-01T00:00:00\",\"2022-06-02T00:00:00\",\"2022-06-03T00:00:00\",\"2022-06-06T00:00:00\",\"2022-06-07T00:00:00\",\"2022-06-08T00:00:00\",\"2022-06-09T00:00:00\",\"2022-06-10T00:00:00\",\"2022-06-13T00:00:00\",\"2022-06-14T00:00:00\",\"2022-06-15T00:00:00\",\"2022-06-16T00:00:00\",\"2022-06-17T00:00:00\",\"2022-06-20T00:00:00\",\"2022-06-21T00:00:00\",\"2022-06-22T00:00:00\",\"2022-06-23T00:00:00\",\"2022-06-24T00:00:00\",\"2022-06-27T00:00:00\",\"2022-06-28T00:00:00\",\"2022-06-29T00:00:00\",\"2022-06-30T00:00:00\",\"2022-07-01T00:00:00\",\"2022-07-04T00:00:00\",\"2022-07-05T00:00:00\",\"2022-07-06T00:00:00\",\"2022-07-07T00:00:00\",\"2022-07-08T00:00:00\",\"2022-07-11T00:00:00\",\"2022-07-12T00:00:00\",\"2022-07-13T00:00:00\",\"2022-07-14T00:00:00\",\"2022-07-15T00:00:00\",\"2022-07-18T00:00:00\",\"2022-07-19T00:00:00\",\"2022-07-20T00:00:00\",\"2022-07-21T00:00:00\",\"2022-07-22T00:00:00\",\"2022-07-25T00:00:00\",\"2022-07-26T00:00:00\",\"2022-07-27T00:00:00\",\"2022-07-28T00:00:00\",\"2022-07-29T00:00:00\",\"2022-08-01T00:00:00\",\"2022-08-02T00:00:00\",\"2022-08-03T00:00:00\",\"2022-08-04T00:00:00\",\"2022-08-05T00:00:00\",\"2022-08-08T00:00:00\",\"2022-08-10T00:00:00\",\"2022-08-11T00:00:00\",\"2022-08-12T00:00:00\",\"2022-08-16T00:00:00\",\"2022-08-17T00:00:00\",\"2022-08-18T00:00:00\",\"2022-08-19T00:00:00\",\"2022-08-22T00:00:00\",\"2022-08-23T00:00:00\",\"2022-08-24T00:00:00\",\"2022-08-25T00:00:00\",\"2022-08-26T00:00:00\",\"2022-08-29T00:00:00\",\"2022-08-30T00:00:00\",\"2022-09-01T00:00:00\",\"2022-09-02T00:00:00\",\"2022-09-05T00:00:00\",\"2022-09-06T00:00:00\",\"2022-09-07T00:00:00\",\"2022-09-08T00:00:00\",\"2022-09-09T00:00:00\",\"2022-09-12T00:00:00\",\"2022-09-13T00:00:00\",\"2022-09-14T00:00:00\",\"2022-09-15T00:00:00\",\"2022-09-16T00:00:00\",\"2022-09-19T00:00:00\",\"2022-09-20T00:00:00\",\"2022-09-21T00:00:00\",\"2022-09-22T00:00:00\",\"2022-09-23T00:00:00\",\"2022-09-26T00:00:00\",\"2022-09-27T00:00:00\",\"2022-09-28T00:00:00\",\"2022-09-29T00:00:00\",\"2022-09-30T00:00:00\",\"2022-10-03T00:00:00\",\"2022-10-04T00:00:00\",\"2022-10-06T00:00:00\",\"2022-10-07T00:00:00\",\"2022-10-10T00:00:00\",\"2022-10-11T00:00:00\",\"2022-10-12T00:00:00\",\"2022-10-13T00:00:00\",\"2022-10-14T00:00:00\",\"2022-10-17T00:00:00\",\"2022-10-18T00:00:00\",\"2022-10-19T00:00:00\",\"2022-10-20T00:00:00\",\"2022-10-21T00:00:00\",\"2022-10-24T00:00:00\",\"2022-10-25T00:00:00\",\"2022-10-27T00:00:00\",\"2022-10-28T00:00:00\",\"2022-10-31T00:00:00\",\"2022-11-01T00:00:00\",\"2022-11-02T00:00:00\",\"2022-11-03T00:00:00\",\"2022-11-04T00:00:00\",\"2022-11-07T00:00:00\",\"2022-11-09T00:00:00\",\"2022-11-10T00:00:00\",\"2022-11-11T00:00:00\",\"2022-11-14T00:00:00\",\"2022-11-15T00:00:00\",\"2022-11-16T00:00:00\",\"2022-11-17T00:00:00\",\"2022-11-18T00:00:00\",\"2022-11-21T00:00:00\",\"2022-11-22T00:00:00\",\"2022-11-23T00:00:00\",\"2022-11-24T00:00:00\",\"2022-11-25T00:00:00\",\"2022-11-28T00:00:00\",\"2022-11-29T00:00:00\",\"2022-11-30T00:00:00\",\"2022-12-01T00:00:00\",\"2022-12-02T00:00:00\"],\"y\":[169.1999969482422,162.64999389648438,162.39999389648438,157.10000610351562,158.10000610351562,164.10000610351562,166.85000610351562,166.9499969482422,173.9499969482422,174.75,173.89999389648438,176.39999389648438,176.25,172.5,170.89999389648438,168.25,170.85000610351562,172.6999969482422,173.4499969482422,168.5500030517578,166.0500030517578,170.9499969482422,175.35000610351562,179.9499969482422,183.0500030517578,185.75,180.3000030517578,182.39999389648438,185.35000610351562,185.4499969482422,184.89999389648438,183.3000030517578,181.5,180.85000610351562,180.25,175.39999389648438,173.25,172.3000030517578,173.60000610351562,174.60000610351562,181.1999969482422,181.64999389648438,180.25,175.8000030517578,178.5,182.85000610351562,150.6999969482422,152.64999389648438,151.8000030517578,159.85000610351562,161.64999389648438,162.89999389648438,163.75,164.8000030517578,169.6999969482422,174.3000030517578,175.75,182.64999389648438,177.35000610351562,177.4499969482422,180.3000030517578,194.0500030517578,188.8000030517578,189.3000030517578,181.1999969482422,181.85000610351562,184.8000030517578,181.6999969482422,179.5500030517578,180.0,182.25,182.85000610351562,180.1999969482422,175.39999389648438,171.3000030517578,173.10000610351562,169.85000610351562,170.5500030517578,187.35000610351562,202.9499969482422,201.35000610351562,206.14999389648438,205.14999389648438,200.5500030517578,205.89999389648438,216.0500030517578,218.1999969482422,215.9499969482422,231.75,230.5,236.25,234.85000610351562,231.64999389648438,223.60000610351562,221.85000610351562,215.60000610351562,214.3000030517578,207.3000030517578,209.4499969482422,199.8000030517578,190.9499969482422,185.10000610351562,186.35000610351562,185.89999389648438,180.75,184.5,169.4499969482422,175.39999389648438,176.85000610351562,190.14999389648438,176.8000030517578,179.10000610351562,175.14999389648438,182.3000030517578,181.35000610351562,180.25,176.35000610351562,175.14999389648438,172.60000610351562,174.5,173.25,169.6999969482422,169.5,166.1999969482422,170.75,169.0500030517578,167.39999389648438,164.1999969482422,158.75,158.3000030517578,154.64999389648438,159.25,158.89999389648438,159.3000030517578,160.4499969482422,161.10000610351562,165.85000610351562,162.5500030517578,168.0,163.75,162.3000030517578,165.1999969482422,160.1999969482422,154.5500030517578,155.8000030517578,151.64999389648438,156.8000030517578,159.3000030517578,160.9499969482422,170.0,167.89999389648438,160.75,154.85000610351562,156.75,156.1999969482422,151.25,144.3000030517578,147.14999389648438,137.5500030517578,133.4499969482422,135.60000610351562,129.5500030517578,130.6999969482422,123.75,122.5,117.4000015258789,124.05000305175781,122.05000305175781,121.94999694824219,120.9000015258789,121.3499984741211,120.80000305175781,123.8499984741211,112.4000015258789,107.69999694824219,111.05000305175781,110.55000305175781,120.3499984741211,116.3499984741211,114.30000305175781,116.69999694824219,112.6500015258789,109.5,118.05000305175781,121.25,121.9000015258789,134.35000610351562,127.94999694824219,129.5500030517578,128.60000610351562,122.0,121.75,124.19999694824219,133.25,127.9000015258789,130.89999389648438,123.05000305175781,124.5,119.9000015258789,117.44999694824219,115.30000305175781,122.4000015258789,119.6500015258789,117.5,120.9000015258789,116.80000305175781,121.30000305175781,127.8499984741211,126.94999694824219,125.8499984741211,139.5,136.85000610351562,131.75,132.64999389648438,133.5,126.8499984741211,147.6999969482422,172.4499969482422,171.89999389648438,177.6999969482422,175.0500030517578,172.1999969482422,172.0,174.5,171.5,169.0500030517578,172.0,170.60000610351562,167.0500030517578,168.5500030517578,170.10000610351562,167.75,167.39999389648438,164.14999389648438,162.35000610351562,166.10000610351562,163.39999389648438,165.89999389648438,164.8000030517578,161.5,161.0500030517578,158.1999969482422,169.39999389648438,166.10000610351562,161.5,160.5,159.6999969482422,161.8000030517578,173.35000610351562,176.6999969482422,174.9499969482422,180.1999969482422,174.8000030517578,179.14999389648438,175.9499969482422,176.0500030517578,175.5,174.60000610351562,176.14999389648438,183.6999969482422,185.14999389648438,184.4499969482422,193.75,191.10000610351562,185.64999389648438,184.6999969482422,182.5500030517578,192.0,196.35000610351562,196.25,195.85000610351562,200.35000610351562,197.5500030517578,197.3000030517578,195.0,191.39999389648438,185.60000610351562,188.39999389648438,186.5,182.1999969482422,176.10000610351562,188.0500030517578,186.1999969482422,176.60000610351562,163.85000610351562,165.6999969482422,183.75,178.85000610351562,173.60000610351562,168.89999389648438,169.75,170.9499969482422,169.5,169.10000610351562,169.10000610351562,161.60000610351562,158.0500030517578,158.5,150.64999389648438,149.89999389648438,144.5500030517578,145.25,128.9499969482422,125.4000015258789,130.35000610351562,126.19999694824219,125.75,114.19999694824219,105.69999694824219,98.9000015258789,88.0,89.75,82.94999694824219,77.94999694824219,75.5,72.94999694824219,77.30000305175781,66.19999694824219,68.55000305175781,70.25,70.80000305175781,70.69999694824219,68.1500015258789,71.05000305175781,67.94999694824219,65.30000305175781,67.25,67.5999984741211,74.5999984741211,74.25,72.9000015258789,74.6500015258789,76.8499984741211,80.44999694824219,74.6500015258789,75.9000015258789,75.6500015258789,74.19999694824219,75.25,76.94999694824219,78.1500015258789,93.25,83.9000015258789,80.9000015258789,83.19999694824219,82.5,81.05000305175781,86.0999984741211,86.19999694824219,87.19999694824219,83.80000305175781,84.3499984741211,80.6500015258789,81.80000305175781,83.44999694824219,84.0999984741211,82.80000305175781,83.0999984741211,84.55000305175781,87.0,87.0,89.55000305175781,96.5,98.75,98.5,110.75,115.44999694824219,111.44999694824219,111.4000015258789,106.1500015258789,105.30000305175781,100.5,94.75,95.4000015258789,96.3499984741211,102.5,102.6500015258789,104.4000015258789,104.80000305175781,103.80000305175781,101.4000015258789,99.44999694824219,98.25,100.75,101.55000305175781,103.44999694824219,109.0,109.05000305175781,105.3499984741211,106.94999694824219,107.5999984741211,108.0,105.1500015258789,103.19999694824219,102.94999694824219,106.4000015258789,105.05000305175781,108.44999694824219,105.1500015258789,106.05000305175781,103.75,101.69999694824219,106.44999694824219,105.75,103.6500015258789,104.6500015258789,113.05000305175781,111.44999694824219,115.4000015258789,116.80000305175781,119.0999984741211,123.8499984741211,122.30000305175781,125.3499984741211,131.14999389648438,124.5999984741211,123.55000305175781,125.5999984741211,125.1500015258789,121.69999694824219,120.9000015258789,121.19999694824219,127.0999984741211,137.89999389648438,144.25,142.8000030517578,143.1999969482422,143.8000030517578,150.3000030517578,151.85000610351562,147.8000030517578,149.39999389648438,142.3000030517578,140.10000610351562,143.3000030517578,144.3000030517578,148.5500030517578,148.39999389648438,151.4499969482422,147.64999389648438,147.89999389648438,137.4499969482422,133.10000610351562,131.39999389648438,122.80000305175781,127.25,132.85000610351562,131.6999969482422,133.3000030517578,133.5,133.89999389648438,144.75,141.0,140.9499969482422,138.4499969482422,135.89999389648438,134.10000610351562,130.6999969482422,126.94999694824219,127.75,128.25,129.64999389648438,130.25,133.5,137.0,133.6999969482422,135.64999389648438,134.8000030517578,131.89999389648438,132.64999389648438,132.85000610351562,134.10000610351562,135.89999389648438,137.64999389648438,139.0,141.0,146.0,150.9499969482422,151.1999969482422,146.35000610351562,148.85000610351562,158.0,173.5,167.9499969482422,169.10000610351562,170.6999969482422,172.0500030517578,171.4499969482422,173.75,180.35000610351562,179.75,183.60000610351562,184.85000610351562,184.14999389648438,183.5500030517578,181.8000030517578,182.6999969482422,177.60000610351562,178.85000610351562,177.64999389648438,178.89999389648438,182.5500030517578,181.6999969482422,180.5500030517578,164.5500030517578,164.9499969482422,169.1999969482422,175.9499969482422,186.35000610351562,183.4499969482422,184.14999389648438,183.85000610351562,186.5,191.3000030517578,193.1999969482422,195.39999389648438,196.75,198.14999389648438,220.64999389648438,237.8000030517578,242.60000610351562,245.10000610351562,260.29998779296875,245.9499969482422,258.6499938964844,274.8999938964844,290.6000061035156,289.3500061035156,279.1499938964844,267.5,266.79998779296875,262.70001220703125,279.6000061035156,322.0,331.0,326.1499938964844,315.8999938964844,335.95001220703125,325.04998779296875,328.8999938964844,325.0,325.3999938964844,333.3500061035156,329.20001220703125,330.1499938964844,323.8500061035156,311.8500061035156,304.5,324.0,321.6499938964844,333.1499938964844,322.95001220703125,328.29998779296875,345.75,348.5,339.20001220703125,325.1499938964844,321.25,315.20001220703125,321.45001220703125,317.54998779296875,318.54998779296875,319.95001220703125,305.79998779296875,307.0,308.95001220703125,303.04998779296875,307.3999938964844,294.45001220703125,285.54998779296875,296.3999938964844,297.04998779296875,301.79998779296875,307.75,305.04998779296875,307.75,307.79998779296875,313.95001220703125,318.20001220703125,286.54998779296875,302.8500061035156,303.5,310.0,301.3999938964844,298.04998779296875,294.54998779296875,294.0,295.3999938964844,301.5,305.8999938964844,301.8999938964844,293.8500061035156,293.0,289.45001220703125,291.5,301.25,302.75,314.8500061035156,315.54998779296875,326.0,312.25,321.1000061035156,332.45001220703125,314.45001220703125,307.70001220703125,313.1000061035156,311.8500061035156,315.25,315.5,318.6000061035156,318.75,318.75,318.1000061035156,323.0,325.6499938964844,334.95001220703125,345.5,352.75,343.3500061035156,344.75,350.75,355.95001220703125,352.70001220703125,349.3500061035156,345.6499938964844,337.3999938964844,334.29998779296875,337.8999938964844,335.25,334.6499938964844,339.6499938964844,342.79998779296875,341.54998779296875,339.6000061035156,344.25,344.8999938964844,346.1000061035156,316.8999938964844,317.1000061035156,306.3500061035156,306.29998779296875,307.45001220703125,310.95001220703125,309.54998779296875,310.25,311.25,308.8500061035156,302.1499938964844,302.54998779296875,295.54998779296875,293.1499938964844,291.3999938964844,284.45001220703125,292.8999938964844,293.95001220703125,296.8500061035156,303.70001220703125,298.1499938964844,299.70001220703125,300.04998779296875,298.1000061035156,294.20001220703125,295.45001220703125,306.0,307.25,303.70001220703125,297.70001220703125,293.3500061035156,283.1000061035156,276.95001220703125,279.79998779296875,284.3999938964844,284.29998779296875,285.75,291.95001220703125,287.29998779296875,295.25,293.1499938964844,295.54998779296875,297.45001220703125,294.6000061035156,295.25,298.95001220703125,301.20001220703125,306.1000061035156,311.95001220703125,311.6499938964844,308.6000061035156,298.95001220703125,301.95001220703125,310.1000061035156,321.5,317.95001220703125,331.6499938964844,329.29998779296875,330.25,333.3500061035156,333.29998779296875,342.0,344.95001220703125,336.04998779296875,376.5,382.95001220703125,415.75,420.8500061035156,506.8999938964844,497.6000061035156,509.6000061035156,481.8999938964844,486.8999938964844,508.0,490.8999938964844,479.8999938964844,508.6499938964844,497.8999938964844,481.04998779296875,483.70001220703125,485.70001220703125,487.8500061035156,484.8999938964844,489.70001220703125,501.3999938964844,509.6499938964844,510.75,503.45001220703125,507.04998779296875,505.45001220703125,519.0499877929688,530.1500244140625,509.70001220703125,486.1000061035156,495.5,488.6499938964844,492.75,460.20001220703125,461.45001220703125,458.6000061035156,475.25,479.1000061035156,480.1000061035156,467.20001220703125,481.79998779296875,493.8999938964844,493.95001220703125,494.45001220703125,495.3500061035156,489.3999938964844,491.6499938964844,491.95001220703125,470.20001220703125,447.04998779296875,453.6000061035156,470.5,472.3500061035156,467.6000061035156,471.1499938964844,480.20001220703125,476.0,470.3999938964844,482.3999938964844,497.6000061035156,489.6000061035156,489.75,488.8500061035156,490.6000061035156,503.70001220703125,501.29998779296875,507.25,511.95001220703125,509.8999938964844,525.0,510.79998779296875,520.8499755859375,515.7000122070312,501.8500061035156,478.45001220703125,490.54998779296875,494.3999938964844,497.29998779296875,517.75,504.29998779296875,506.3999938964844,504.5,500.6000061035156,494.6000061035156,492.75,501.25,507.45001220703125,498.8500061035156,471.45001220703125,504.0,498.45001220703125,499.95001220703125,493.1499938964844,494.45001220703125,478.25,477.0,427.95001220703125,459.75,454.04998779296875,447.6000061035156,437.1000061035156,417.25,394.0,391.75,405.8999938964844,419.6000061035156,418.1499938964844,411.70001220703125,413.6499938964844,424.8999938964844,433.79998779296875,427.95001220703125,440.3500061035156,435.79998779296875,433.20001220703125,432.1000061035156,432.70001220703125,433.70001220703125,435.6499938964844,433.75,441.1499938964844,446.75,458.04998779296875,456.1499938964844,449.5,452.04998779296875,452.04998779296875,438.29998779296875,431.04998779296875,433.79998779296875,424.95001220703125,440.54998779296875,448.04998779296875,438.8500061035156,425.1499938964844,434.8999938964844,430.25,436.04998779296875,437.6000061035156,432.8500061035156,423.5,426.29998779296875,408.54998779296875,403.95001220703125,391.75,388.1499938964844,372.29998779296875,404.29998779296875,405.3500061035156,424.1499938964844,415.1499938964844,398.6499938964844,418.0,421.45001220703125,425.75,417.0,420.6499938964844,429.6000061035156,442.3999938964844,443.54998779296875,444.6000061035156,439.1499938964844,431.8999938964844,432.3500061035156,435.8500061035156,435.6499938964844,428.5,428.04998779296875,406.70001220703125,405.1499938964844,414.1000061035156,392.95001220703125,388.95001220703125,382.70001220703125,397.6000061035156,393.1000061035156,407.20001220703125,409.29998779296875,414.5,417.1000061035156,416.95001220703125,411.79998779296875,412.70001220703125,408.45001220703125,412.0,416.3500061035156,430.8500061035156,441.54998779296875,437.04998779296875,430.54998779296875,427.1000061035156,428.04998779296875,440.20001220703125,450.8999938964844,449.04998779296875,453.45001220703125,454.8500061035156,454.8999938964844,449.54998779296875,441.1499938964844,444.04998779296875,442.25,449.6000061035156,479.20001220703125,476.25,467.79998779296875,468.8999938964844,465.25,468.25,475.54998779296875,476.6499938964844,477.54998779296875,489.8500061035156,485.3999938964844,484.79998779296875,471.0,454.6000061035156,460.45001220703125,463.20001220703125,459.20001220703125,465.04998779296875,453.3500061035156,471.1000061035156,466.8999938964844,461.75,459.0,457.75,445.8500061035156,442.20001220703125,445.8999938964844,451.0,456.79998779296875,450.20001220703125,447.25,432.5,425.45001220703125,434.25,427.6499938964844,432.20001220703125,423.1000061035156,397.5,398.79998779296875,399.1000061035156,402.25,404.6000061035156,397.6499938964844,407.8999938964844,414.1000061035156,412.1499938964844,395.95001220703125,393.3500061035156,396.54998779296875,399.0,396.25,396.1000061035156,404.25,399.04998779296875,398.1000061035156,398.04998779296875,401.6000061035156,404.54998779296875,407.70001220703125,409.8999938964844,412.75,421.3500061035156,422.1499938964844,416.25,425.3500061035156,435.0,433.1499938964844,412.20001220703125,423.5,433.70001220703125,437.1499938964844,431.54998779296875,423.1499938964844,423.79998779296875,421.1000061035156,424.70001220703125,424.04998779296875,423.3999938964844,433.20001220703125,433.25,433.1499938964844,439.3999938964844,438.25,435.3999938964844],\"type\":\"scatter\"},{\"mode\":\"lines\",\"name\":\"test_data\",\"x\":[\"2022-12-05T00:00:00\",\"2022-12-06T00:00:00\",\"2022-12-07T00:00:00\",\"2022-12-08T00:00:00\",\"2022-12-09T00:00:00\",\"2022-12-12T00:00:00\",\"2022-12-13T00:00:00\",\"2022-12-14T00:00:00\",\"2022-12-15T00:00:00\",\"2022-12-16T00:00:00\",\"2022-12-19T00:00:00\",\"2022-12-20T00:00:00\",\"2022-12-21T00:00:00\",\"2022-12-22T00:00:00\",\"2022-12-23T00:00:00\",\"2022-12-26T00:00:00\",\"2022-12-27T00:00:00\",\"2022-12-28T00:00:00\",\"2022-12-29T00:00:00\",\"2022-12-30T00:00:00\",\"2023-01-02T00:00:00\",\"2023-01-03T00:00:00\",\"2023-01-04T00:00:00\",\"2023-01-05T00:00:00\",\"2023-01-06T00:00:00\",\"2023-01-09T00:00:00\",\"2023-01-10T00:00:00\",\"2023-01-11T00:00:00\",\"2023-01-12T00:00:00\",\"2023-01-13T00:00:00\",\"2023-01-16T00:00:00\",\"2023-01-17T00:00:00\",\"2023-01-18T00:00:00\",\"2023-01-19T00:00:00\",\"2023-01-20T00:00:00\",\"2023-01-23T00:00:00\",\"2023-01-24T00:00:00\",\"2023-01-25T00:00:00\",\"2023-01-27T00:00:00\",\"2023-01-30T00:00:00\",\"2023-01-31T00:00:00\",\"2023-02-01T00:00:00\",\"2023-02-02T00:00:00\",\"2023-02-03T00:00:00\",\"2023-02-06T00:00:00\",\"2023-02-07T00:00:00\",\"2023-02-08T00:00:00\",\"2023-02-09T00:00:00\",\"2023-02-10T00:00:00\",\"2023-02-13T00:00:00\",\"2023-02-14T00:00:00\",\"2023-02-15T00:00:00\",\"2023-02-16T00:00:00\",\"2023-02-17T00:00:00\",\"2023-02-20T00:00:00\",\"2023-02-21T00:00:00\",\"2023-02-22T00:00:00\",\"2023-02-23T00:00:00\",\"2023-02-24T00:00:00\",\"2023-02-27T00:00:00\",\"2023-02-28T00:00:00\",\"2023-03-01T00:00:00\",\"2023-03-02T00:00:00\",\"2023-03-03T00:00:00\",\"2023-03-06T00:00:00\",\"2023-03-08T00:00:00\",\"2023-03-09T00:00:00\",\"2023-03-10T00:00:00\",\"2023-03-13T00:00:00\",\"2023-03-14T00:00:00\",\"2023-03-15T00:00:00\",\"2023-03-16T00:00:00\",\"2023-03-17T00:00:00\",\"2023-03-20T00:00:00\",\"2023-03-21T00:00:00\",\"2023-03-22T00:00:00\",\"2023-03-23T00:00:00\",\"2023-03-24T00:00:00\",\"2023-03-27T00:00:00\",\"2023-03-28T00:00:00\",\"2023-03-29T00:00:00\",\"2023-03-31T00:00:00\",\"2023-04-03T00:00:00\",\"2023-04-05T00:00:00\",\"2023-04-06T00:00:00\",\"2023-04-10T00:00:00\",\"2023-04-11T00:00:00\",\"2023-04-12T00:00:00\",\"2023-04-13T00:00:00\",\"2023-04-17T00:00:00\",\"2023-04-18T00:00:00\",\"2023-04-19T00:00:00\",\"2023-04-20T00:00:00\",\"2023-04-21T00:00:00\",\"2023-04-24T00:00:00\",\"2023-04-25T00:00:00\",\"2023-04-26T00:00:00\",\"2023-04-27T00:00:00\",\"2023-04-28T00:00:00\",\"2023-05-02T00:00:00\",\"2023-05-03T00:00:00\",\"2023-05-04T00:00:00\",\"2023-05-05T00:00:00\",\"2023-05-08T00:00:00\",\"2023-05-09T00:00:00\",\"2023-05-10T00:00:00\",\"2023-05-11T00:00:00\",\"2023-05-12T00:00:00\",\"2023-05-15T00:00:00\",\"2023-05-16T00:00:00\",\"2023-05-17T00:00:00\",\"2023-05-18T00:00:00\",\"2023-05-19T00:00:00\",\"2023-05-22T00:00:00\",\"2023-05-23T00:00:00\",\"2023-05-24T00:00:00\",\"2023-05-25T00:00:00\",\"2023-05-26T00:00:00\",\"2023-05-29T00:00:00\",\"2023-05-30T00:00:00\",\"2023-05-31T00:00:00\",\"2023-06-01T00:00:00\",\"2023-06-02T00:00:00\",\"2023-06-05T00:00:00\",\"2023-06-06T00:00:00\",\"2023-06-07T00:00:00\",\"2023-06-08T00:00:00\",\"2023-06-09T00:00:00\",\"2023-06-12T00:00:00\",\"2023-06-13T00:00:00\",\"2023-06-14T00:00:00\",\"2023-06-15T00:00:00\",\"2023-06-16T00:00:00\",\"2023-06-19T00:00:00\",\"2023-06-20T00:00:00\",\"2023-06-21T00:00:00\",\"2023-06-22T00:00:00\",\"2023-06-23T00:00:00\",\"2023-06-26T00:00:00\",\"2023-06-27T00:00:00\",\"2023-06-28T00:00:00\",\"2023-06-30T00:00:00\",\"2023-07-03T00:00:00\",\"2023-07-04T00:00:00\",\"2023-07-05T00:00:00\",\"2023-07-06T00:00:00\",\"2023-07-07T00:00:00\",\"2023-07-10T00:00:00\",\"2023-07-11T00:00:00\",\"2023-07-12T00:00:00\",\"2023-07-13T00:00:00\",\"2023-07-14T00:00:00\",\"2023-07-17T00:00:00\",\"2023-07-18T00:00:00\",\"2023-07-19T00:00:00\",\"2023-07-20T00:00:00\",\"2023-07-21T00:00:00\",\"2023-07-24T00:00:00\",\"2023-07-25T00:00:00\",\"2023-07-26T00:00:00\",\"2023-07-27T00:00:00\",\"2023-07-28T00:00:00\",\"2023-07-31T00:00:00\",\"2023-08-01T00:00:00\",\"2023-08-02T00:00:00\",\"2023-08-03T00:00:00\",\"2023-08-04T00:00:00\",\"2023-08-07T00:00:00\",\"2023-08-08T00:00:00\",\"2023-08-09T00:00:00\",\"2023-08-10T00:00:00\",\"2023-08-11T00:00:00\",\"2023-08-14T00:00:00\",\"2023-08-16T00:00:00\",\"2023-08-17T00:00:00\",\"2023-08-18T00:00:00\",\"2023-08-21T00:00:00\",\"2023-08-22T00:00:00\",\"2023-08-23T00:00:00\",\"2023-08-24T00:00:00\",\"2023-08-25T00:00:00\",\"2023-08-28T00:00:00\",\"2023-08-29T00:00:00\",\"2023-08-30T00:00:00\",\"2023-08-31T00:00:00\",\"2023-09-01T00:00:00\",\"2023-09-04T00:00:00\",\"2023-09-05T00:00:00\",\"2023-09-06T00:00:00\",\"2023-09-07T00:00:00\",\"2023-09-08T00:00:00\",\"2023-09-11T00:00:00\",\"2023-09-12T00:00:00\",\"2023-09-13T00:00:00\",\"2023-09-14T00:00:00\",\"2023-09-15T00:00:00\",\"2023-09-18T00:00:00\",\"2023-09-20T00:00:00\",\"2023-09-21T00:00:00\",\"2023-09-22T00:00:00\",\"2023-09-25T00:00:00\",\"2023-09-26T00:00:00\",\"2023-09-27T00:00:00\",\"2023-09-28T00:00:00\",\"2023-09-29T00:00:00\",\"2023-10-03T00:00:00\",\"2023-10-04T00:00:00\",\"2023-10-05T00:00:00\",\"2023-10-06T00:00:00\",\"2023-10-09T00:00:00\",\"2023-10-10T00:00:00\",\"2023-10-11T00:00:00\",\"2023-10-12T00:00:00\",\"2023-10-13T00:00:00\",\"2023-10-16T00:00:00\",\"2023-10-17T00:00:00\",\"2023-10-18T00:00:00\",\"2023-10-19T00:00:00\",\"2023-10-20T00:00:00\",\"2023-10-23T00:00:00\",\"2023-10-25T00:00:00\",\"2023-10-26T00:00:00\",\"2023-10-27T00:00:00\",\"2023-10-30T00:00:00\",\"2023-10-31T00:00:00\",\"2023-11-01T00:00:00\",\"2023-11-02T00:00:00\",\"2023-11-03T00:00:00\",\"2023-11-06T00:00:00\",\"2023-11-07T00:00:00\",\"2023-11-08T00:00:00\",\"2023-11-09T00:00:00\",\"2023-11-10T00:00:00\",\"2023-11-13T00:00:00\",\"2023-11-15T00:00:00\",\"2023-11-16T00:00:00\",\"2023-11-17T00:00:00\",\"2023-11-20T00:00:00\",\"2023-11-21T00:00:00\",\"2023-11-22T00:00:00\",\"2023-11-23T00:00:00\",\"2023-11-24T00:00:00\",\"2023-11-28T00:00:00\",\"2023-11-29T00:00:00\",\"2023-11-30T00:00:00\",\"2023-12-01T00:00:00\",\"2023-12-04T00:00:00\",\"2023-12-05T00:00:00\"],\"y\":[428.75,427.1000061035156,420.1000061035156,417.20001220703125,413.29998779296875,414.1499938964844,418.5,417.8999938964844,416.70001220703125,421.6000061035156,418.0,410.5,402.6000061035156,394.45001220703125,378.3500061035156,384.79998779296875,394.1499938964844,391.29998779296875,385.8999938964844,387.95001220703125,394.79998779296875,393.8999938964844,385.6000061035156,386.8999938964844,382.0,389.45001220703125,412.8999938964844,418.20001220703125,412.25,411.5,413.0,415.29998779296875,408.3999938964844,400.75,403.1499938964844,408.3999938964844,422.1499938964844,419.04998779296875,445.6000061035156,443.6499938964844,452.1000061035156,446.6499938964844,444.79998779296875,445.45001220703125,442.0,435.45001220703125,440.1000061035156,436.75,445.8500061035156,441.04998779296875,440.54998779296875,444.1499938964844,441.6000061035156,439.8999938964844,443.0,436.5,429.45001220703125,433.20001220703125,427.75,417.95001220703125,420.70001220703125,426.0,420.45001220703125,428.0,440.1000061035156,439.29998779296875,432.20001220703125,435.8500061035156,422.3999938964844,416.6499938964844,411.3500061035156,415.70001220703125,419.0,410.75,412.54998779296875,416.1000061035156,419.1499938964844,416.5,412.04998779296875,401.6000061035156,409.20001220703125,420.79998779296875,424.25,426.54998779296875,437.6499938964844,461.29998779296875,458.70001220703125,465.5,469.5,472.1499938964844,473.0,469.3999938964844,476.79998779296875,471.20001220703125,475.20001220703125,473.54998779296875,478.20001220703125,481.6000061035156,484.95001220703125,480.25,483.70001220703125,480.79998779296875,477.1000061035156,500.5,503.6499938964844,509.5,511.6000061035156,515.9500122070312,530.8499755859375,521.1500244140625,515.5,508.45001220703125,524.9500122070312,522.5,528.5,520.2000122070312,514.8499755859375,518.4500122070312,521.4500122070312,518.7999877929688,526.2999877929688,535.2000122070312,535.9000244140625,546.25,555.75,567.9500122070312,559.7000122070312,562.2999877929688,564.1500244140625,562.2000122070312,570.2999877929688,568.4500122070312,569.7999877929688,566.0499877929688,583.25,581.4000244140625,569.3499755859375,559.6500244140625,567.8499755859375,573.0999755859375,573.0999755859375,595.5499877929688,590.7999877929688,591.4500122070312,588.25,600.7999877929688,618.2000122070312,618.6500244140625,628.5,621.4500122070312,620.6500244140625,624.9000244140625,618.5,612.0999755859375,620.5999755859375,621.6500244140625,625.75,629.25,639.4500122070312,641.0999755859375,643.7000122070312,635.2999877929688,644.2999877929688,643.6500244140625,622.6500244140625,618.9500122070312,615.0,609.5,607.2999877929688,622.5499877929688,618.25,611.7999877929688,607.3499755859375,618.75,613.75,615.7999877929688,620.5,620.2000122070312,613.9000244140625,610.9500122070312,605.0999755859375,602.4000244140625,607.1500244140625,605.5499877929688,601.0,611.2000122070312,609.0,611.1500244140625,610.25,614.9000244140625,627.25,634.8499755859375,620.7999877929688,625.9000244140625,624.5999755859375,634.25,640.6500244140625,638.5,627.0499877929688,620.4500122070312,618.7000122070312,619.7999877929688,620.1500244140625,614.0999755859375,630.2000122070312,620.4500122070312,613.5999755859375,619.5999755859375,622.4500122070312,617.3499755859375,630.5499877929688,634.0,636.9500122070312,667.0999755859375,666.2000122070312,655.7000122070312,668.5,668.7999877929688,663.2000122070312,647.3499755859375,637.8499755859375,626.5499877929688,641.0499877929688,628.5,628.6500244140625,627.7000122070312,636.4500122070312,647.5,646.0499877929688,645.0,642.5499877929688,649.3499755859375,651.0499877929688,653.25,671.5499877929688,680.4000244140625,681.5499877929688,674.2999877929688,681.7000122070312,681.2000122070312,679.9500122070312,673.7000122070312,697.5,712.3499755859375,706.4000244140625,705.4500122070312,705.5999755859375,711.5],\"type\":\"scatter\"},{\"fillcolor\":\"blue\",\"mode\":\"lines\",\"name\":\"prediction\",\"x\":[\"2022-12-05T00:00:00\",\"2022-12-06T00:00:00\",\"2022-12-07T00:00:00\",\"2022-12-08T00:00:00\",\"2022-12-09T00:00:00\",\"2022-12-12T00:00:00\",\"2022-12-13T00:00:00\",\"2022-12-14T00:00:00\",\"2022-12-15T00:00:00\",\"2022-12-16T00:00:00\",\"2022-12-19T00:00:00\",\"2022-12-20T00:00:00\",\"2022-12-21T00:00:00\",\"2022-12-22T00:00:00\",\"2022-12-23T00:00:00\",\"2022-12-26T00:00:00\",\"2022-12-27T00:00:00\",\"2022-12-28T00:00:00\",\"2022-12-29T00:00:00\",\"2022-12-30T00:00:00\",\"2023-01-02T00:00:00\",\"2023-01-03T00:00:00\",\"2023-01-04T00:00:00\",\"2023-01-05T00:00:00\",\"2023-01-06T00:00:00\",\"2023-01-09T00:00:00\",\"2023-01-10T00:00:00\",\"2023-01-11T00:00:00\",\"2023-01-12T00:00:00\",\"2023-01-13T00:00:00\",\"2023-01-16T00:00:00\",\"2023-01-17T00:00:00\",\"2023-01-18T00:00:00\",\"2023-01-19T00:00:00\",\"2023-01-20T00:00:00\",\"2023-01-23T00:00:00\",\"2023-01-24T00:00:00\",\"2023-01-25T00:00:00\",\"2023-01-27T00:00:00\",\"2023-01-30T00:00:00\",\"2023-01-31T00:00:00\",\"2023-02-01T00:00:00\",\"2023-02-02T00:00:00\",\"2023-02-03T00:00:00\",\"2023-02-06T00:00:00\",\"2023-02-07T00:00:00\",\"2023-02-08T00:00:00\",\"2023-02-09T00:00:00\",\"2023-02-10T00:00:00\",\"2023-02-13T00:00:00\",\"2023-02-14T00:00:00\",\"2023-02-15T00:00:00\",\"2023-02-16T00:00:00\",\"2023-02-17T00:00:00\",\"2023-02-20T00:00:00\",\"2023-02-21T00:00:00\",\"2023-02-22T00:00:00\",\"2023-02-23T00:00:00\",\"2023-02-24T00:00:00\",\"2023-02-27T00:00:00\",\"2023-02-28T00:00:00\",\"2023-03-01T00:00:00\",\"2023-03-02T00:00:00\",\"2023-03-03T00:00:00\",\"2023-03-06T00:00:00\",\"2023-03-08T00:00:00\",\"2023-03-09T00:00:00\",\"2023-03-10T00:00:00\",\"2023-03-13T00:00:00\",\"2023-03-14T00:00:00\",\"2023-03-15T00:00:00\",\"2023-03-16T00:00:00\",\"2023-03-17T00:00:00\",\"2023-03-20T00:00:00\",\"2023-03-21T00:00:00\",\"2023-03-22T00:00:00\",\"2023-03-23T00:00:00\",\"2023-03-24T00:00:00\",\"2023-03-27T00:00:00\",\"2023-03-28T00:00:00\",\"2023-03-29T00:00:00\",\"2023-03-31T00:00:00\",\"2023-04-03T00:00:00\",\"2023-04-05T00:00:00\",\"2023-04-06T00:00:00\",\"2023-04-10T00:00:00\",\"2023-04-11T00:00:00\",\"2023-04-12T00:00:00\",\"2023-04-13T00:00:00\",\"2023-04-17T00:00:00\",\"2023-04-18T00:00:00\",\"2023-04-19T00:00:00\",\"2023-04-20T00:00:00\",\"2023-04-21T00:00:00\",\"2023-04-24T00:00:00\",\"2023-04-25T00:00:00\",\"2023-04-26T00:00:00\",\"2023-04-27T00:00:00\",\"2023-04-28T00:00:00\",\"2023-05-02T00:00:00\",\"2023-05-03T00:00:00\",\"2023-05-04T00:00:00\",\"2023-05-05T00:00:00\",\"2023-05-08T00:00:00\",\"2023-05-09T00:00:00\",\"2023-05-10T00:00:00\",\"2023-05-11T00:00:00\",\"2023-05-12T00:00:00\",\"2023-05-15T00:00:00\",\"2023-05-16T00:00:00\",\"2023-05-17T00:00:00\",\"2023-05-18T00:00:00\",\"2023-05-19T00:00:00\",\"2023-05-22T00:00:00\",\"2023-05-23T00:00:00\",\"2023-05-24T00:00:00\",\"2023-05-25T00:00:00\",\"2023-05-26T00:00:00\",\"2023-05-29T00:00:00\",\"2023-05-30T00:00:00\",\"2023-05-31T00:00:00\",\"2023-06-01T00:00:00\",\"2023-06-02T00:00:00\",\"2023-06-05T00:00:00\",\"2023-06-06T00:00:00\",\"2023-06-07T00:00:00\",\"2023-06-08T00:00:00\",\"2023-06-09T00:00:00\",\"2023-06-12T00:00:00\",\"2023-06-13T00:00:00\",\"2023-06-14T00:00:00\",\"2023-06-15T00:00:00\",\"2023-06-16T00:00:00\",\"2023-06-19T00:00:00\",\"2023-06-20T00:00:00\",\"2023-06-21T00:00:00\",\"2023-06-22T00:00:00\",\"2023-06-23T00:00:00\",\"2023-06-26T00:00:00\",\"2023-06-27T00:00:00\",\"2023-06-28T00:00:00\",\"2023-06-30T00:00:00\",\"2023-07-03T00:00:00\",\"2023-07-04T00:00:00\",\"2023-07-05T00:00:00\",\"2023-07-06T00:00:00\",\"2023-07-07T00:00:00\",\"2023-07-10T00:00:00\",\"2023-07-11T00:00:00\",\"2023-07-12T00:00:00\",\"2023-07-13T00:00:00\",\"2023-07-14T00:00:00\",\"2023-07-17T00:00:00\",\"2023-07-18T00:00:00\",\"2023-07-19T00:00:00\",\"2023-07-20T00:00:00\",\"2023-07-21T00:00:00\",\"2023-07-24T00:00:00\",\"2023-07-25T00:00:00\",\"2023-07-26T00:00:00\",\"2023-07-27T00:00:00\",\"2023-07-28T00:00:00\",\"2023-07-31T00:00:00\",\"2023-08-01T00:00:00\",\"2023-08-02T00:00:00\",\"2023-08-03T00:00:00\",\"2023-08-04T00:00:00\",\"2023-08-07T00:00:00\",\"2023-08-08T00:00:00\",\"2023-08-09T00:00:00\",\"2023-08-10T00:00:00\",\"2023-08-11T00:00:00\",\"2023-08-14T00:00:00\",\"2023-08-16T00:00:00\",\"2023-08-17T00:00:00\",\"2023-08-18T00:00:00\",\"2023-08-21T00:00:00\",\"2023-08-22T00:00:00\",\"2023-08-23T00:00:00\",\"2023-08-24T00:00:00\",\"2023-08-25T00:00:00\",\"2023-08-28T00:00:00\",\"2023-08-29T00:00:00\",\"2023-08-30T00:00:00\",\"2023-08-31T00:00:00\",\"2023-09-01T00:00:00\",\"2023-09-04T00:00:00\",\"2023-09-05T00:00:00\",\"2023-09-06T00:00:00\",\"2023-09-07T00:00:00\",\"2023-09-08T00:00:00\",\"2023-09-11T00:00:00\",\"2023-09-12T00:00:00\",\"2023-09-13T00:00:00\",\"2023-09-14T00:00:00\",\"2023-09-15T00:00:00\",\"2023-09-18T00:00:00\",\"2023-09-20T00:00:00\",\"2023-09-21T00:00:00\",\"2023-09-22T00:00:00\",\"2023-09-25T00:00:00\",\"2023-09-26T00:00:00\",\"2023-09-27T00:00:00\",\"2023-09-28T00:00:00\",\"2023-09-29T00:00:00\",\"2023-10-03T00:00:00\",\"2023-10-04T00:00:00\",\"2023-10-05T00:00:00\",\"2023-10-06T00:00:00\",\"2023-10-09T00:00:00\",\"2023-10-10T00:00:00\",\"2023-10-11T00:00:00\",\"2023-10-12T00:00:00\",\"2023-10-13T00:00:00\",\"2023-10-16T00:00:00\",\"2023-10-17T00:00:00\",\"2023-10-18T00:00:00\",\"2023-10-19T00:00:00\",\"2023-10-20T00:00:00\",\"2023-10-23T00:00:00\",\"2023-10-25T00:00:00\",\"2023-10-26T00:00:00\",\"2023-10-27T00:00:00\",\"2023-10-30T00:00:00\",\"2023-10-31T00:00:00\",\"2023-11-01T00:00:00\",\"2023-11-02T00:00:00\",\"2023-11-03T00:00:00\",\"2023-11-06T00:00:00\",\"2023-11-07T00:00:00\",\"2023-11-08T00:00:00\",\"2023-11-09T00:00:00\",\"2023-11-10T00:00:00\",\"2023-11-13T00:00:00\",\"2023-11-15T00:00:00\",\"2023-11-16T00:00:00\",\"2023-11-17T00:00:00\",\"2023-11-20T00:00:00\",\"2023-11-21T00:00:00\",\"2023-11-22T00:00:00\",\"2023-11-23T00:00:00\",\"2023-11-24T00:00:00\",\"2023-11-28T00:00:00\",\"2023-11-29T00:00:00\",\"2023-11-30T00:00:00\",\"2023-12-01T00:00:00\",\"2023-12-04T00:00:00\",\"2023-12-05T00:00:00\"],\"y\":[378.2083740234375,385.3517761230469,393.8455505371094,390.1803894042969,384.7341613769531,386.5718688964844,392.4284973144531,390.7664489746094,382.7648010253906,384.5118713378906,379.7515563964844,387.140380859375,409.6253356933594,413.9023132324219,408.2286071777344,408.0909118652344,409.74395751953125,411.9892272949219,405.2529602050781,398.3062438964844,401.1121520996094,406.00372314453125,418.9869689941406,415.3194274902344,441.6406555175781,438.9652404785156,447.7566833496094,442.4831848144531,441.1352844238281,441.9637451171875,438.6195983886719,432.5177001953125,437.3894958496094,433.8700866699219,442.71026611328125,437.5187072753906,437.1692810058594,440.7095031738281,438.0538024902344,436.5473937988281,439.6545715332031,433.2167053222656,426.78948974609375,430.8418884277344,425.35626220703125,416.1285095214844,419.2496643066406,424.02642822265625,417.9998474121094,425.350341796875,436.5726623535156,435.2646179199219,428.5299072265625,432.5337219238281,419.4437255859375,414.706298828125,410.0424499511719,414.5222473144531,417.3461608886719,408.9719543457031,410.8160705566406,413.7621154785156,416.0120544433594,413.16455078125,409.0122985839844,399.2482604980469,407.1994934082031,417.9588928222656,420.6608581542969,422.8511047363281,433.8247375488281,456.81097412109375,453.713134765625,461.0055847167969,465.08746337890625,467.82769775390625,468.8157653808594,465.4388122558594,472.9531555175781,467.2271423339844,471.4354248046875,469.69842529296875,474.34893798828125,477.5511779785156,480.7904968261719,476.1710510253906,479.8391418457031,476.9040832519531,473.48443603515625,496.58642578125,498.7826843261719,504.6573791503906,506.8343811035156,511.2955627441406,525.987060546875,516.140869140625,511.3144226074219,504.96612548828125,521.3177490234375,518.0469970703125,524.022705078125,515.79638671875,511.1009216308594,514.8974609375,517.522705078125,514.68505859375,522.0704956054688,530.5014038085938,530.9765014648438,541.3342895507812,550.4935913085938,562.395263671875,554.203857421875,557.4246826171875,559.3173828125,557.4088745117188,565.5113525390625,563.45068359375,564.9528198242188,561.3326416015625,578.3966064453125,575.9721069335938,564.5162353515625,555.96826171875,564.4962158203125,569.0123901367188,568.467529296875,590.378173828125,584.9684448242188,586.0848388671875,583.17138671875,595.71044921875,612.3988037109375,612.4244384765625,622.4893798828125,615.5563354492188,615.3084106445312,619.6312255859375,613.2648315429688,607.4644775390625,616.0377197265625,616.4996948242188,620.3912353515625,623.7255859375,633.7061767578125,635.107177734375,637.8322143554688,629.73193359375,638.997802734375,638.0155639648438,617.8438720703125,615.5905151367188,612.134765625,607.015380859375,605.1074829101562,619.6353759765625,614.00390625,607.313232421875,603.022216796875,614.1405029296875,608.583251953125,610.71044921875,615.2481689453125,614.7908935546875,608.7723388671875,606.3179321289062,600.879638671875,598.5795288085938,603.21826171875,601.238525390625,596.6966552734375,606.53173828125,603.7376708984375,605.9521484375,605.0479736328125,609.6917724609375,621.69384765625,628.819091796875,615.011962890625,620.7877197265625,619.34619140625,628.8551025390625,634.8309326171875,632.636474609375,621.8316650390625,616.210205078125,614.9752807617188,616.093505859375,616.2080078125,610.0963134765625,625.65380859375,615.0670776367188,608.851806640625,615.055419921875,617.39990234375,612.225341796875,625.3408203125,628.2154541015625,631.1260986328125,660.8430786132812,659.1157836914062,649.3544311523438,662.7207641601562,662.65966796875,657.3034057617188,642.44287109375,634.318115234375,624.11669921875,638.7223510742188,625.671875,626.1724853515625,624.79052734375,632.6354370117188,642.1327514648438,640.0614624023438,639.2584228515625,637.05322265625,643.876708984375,645.3134155273438,647.4951782226562,665.5025634765625,673.677978515625,674.8284912109375,668.0687255859375,675.8525390625,675.1619873046875,674.0360107421875,668.1371459960938,691.7501220703125,705.4031982421875,699.2744140625,699.0035400390625,699.431884765625],\"type\":\"scatter\"}],                        {\"title\":{\"text\":\"Google Stock\"},\"xaxis\":{\"title\":{\"text\":\"Date\"}},\"yaxis\":{\"title\":{\"text\":\"Close\"}},\"template\":{\"data\":{\"histogram2dcontour\":[{\"type\":\"histogram2dcontour\",\"colorbar\":{\"outlinewidth\":0,\"ticks\":\"\"},\"colorscale\":[[0.0,\"#0d0887\"],[0.1111111111111111,\"#46039f\"],[0.2222222222222222,\"#7201a8\"],[0.3333333333333333,\"#9c179e\"],[0.4444444444444444,\"#bd3786\"],[0.5555555555555556,\"#d8576b\"],[0.6666666666666666,\"#ed7953\"],[0.7777777777777778,\"#fb9f3a\"],[0.8888888888888888,\"#fdca26\"],[1.0,\"#f0f921\"]]}],\"choropleth\":[{\"type\":\"choropleth\",\"colorbar\":{\"outlinewidth\":0,\"ticks\":\"\"}}],\"histogram2d\":[{\"type\":\"histogram2d\",\"colorbar\":{\"outlinewidth\":0,\"ticks\":\"\"},\"colorscale\":[[0.0,\"#0d0887\"],[0.1111111111111111,\"#46039f\"],[0.2222222222222222,\"#7201a8\"],[0.3333333333333333,\"#9c179e\"],[0.4444444444444444,\"#bd3786\"],[0.5555555555555556,\"#d8576b\"],[0.6666666666666666,\"#ed7953\"],[0.7777777777777778,\"#fb9f3a\"],[0.8888888888888888,\"#fdca26\"],[1.0,\"#f0f921\"]]}],\"heatmap\":[{\"type\":\"heatmap\",\"colorbar\":{\"outlinewidth\":0,\"ticks\":\"\"},\"colorscale\":[[0.0,\"#0d0887\"],[0.1111111111111111,\"#46039f\"],[0.2222222222222222,\"#7201a8\"],[0.3333333333333333,\"#9c179e\"],[0.4444444444444444,\"#bd3786\"],[0.5555555555555556,\"#d8576b\"],[0.6666666666666666,\"#ed7953\"],[0.7777777777777778,\"#fb9f3a\"],[0.8888888888888888,\"#fdca26\"],[1.0,\"#f0f921\"]]}],\"heatmapgl\":[{\"type\":\"heatmapgl\",\"colorbar\":{\"outlinewidth\":0,\"ticks\":\"\"},\"colorscale\":[[0.0,\"#0d0887\"],[0.1111111111111111,\"#46039f\"],[0.2222222222222222,\"#7201a8\"],[0.3333333333333333,\"#9c179e\"],[0.4444444444444444,\"#bd3786\"],[0.5555555555555556,\"#d8576b\"],[0.6666666666666666,\"#ed7953\"],[0.7777777777777778,\"#fb9f3a\"],[0.8888888888888888,\"#fdca26\"],[1.0,\"#f0f921\"]]}],\"contourcarpet\":[{\"type\":\"contourcarpet\",\"colorbar\":{\"outlinewidth\":0,\"ticks\":\"\"}}],\"contour\":[{\"type\":\"contour\",\"colorbar\":{\"outlinewidth\":0,\"ticks\":\"\"},\"colorscale\":[[0.0,\"#0d0887\"],[0.1111111111111111,\"#46039f\"],[0.2222222222222222,\"#7201a8\"],[0.3333333333333333,\"#9c179e\"],[0.4444444444444444,\"#bd3786\"],[0.5555555555555556,\"#d8576b\"],[0.6666666666666666,\"#ed7953\"],[0.7777777777777778,\"#fb9f3a\"],[0.8888888888888888,\"#fdca26\"],[1.0,\"#f0f921\"]]}],\"surface\":[{\"type\":\"surface\",\"colorbar\":{\"outlinewidth\":0,\"ticks\":\"\"},\"colorscale\":[[0.0,\"#0d0887\"],[0.1111111111111111,\"#46039f\"],[0.2222222222222222,\"#7201a8\"],[0.3333333333333333,\"#9c179e\"],[0.4444444444444444,\"#bd3786\"],[0.5555555555555556,\"#d8576b\"],[0.6666666666666666,\"#ed7953\"],[0.7777777777777778,\"#fb9f3a\"],[0.8888888888888888,\"#fdca26\"],[1.0,\"#f0f921\"]]}],\"mesh3d\":[{\"type\":\"mesh3d\",\"colorbar\":{\"outlinewidth\":0,\"ticks\":\"\"}}],\"scatter\":[{\"fillpattern\":{\"fillmode\":\"overlay\",\"size\":10,\"solidity\":0.2},\"type\":\"scatter\"}],\"parcoords\":[{\"type\":\"parcoords\",\"line\":{\"colorbar\":{\"outlinewidth\":0,\"ticks\":\"\"}}}],\"scatterpolargl\":[{\"type\":\"scatterpolargl\",\"marker\":{\"colorbar\":{\"outlinewidth\":0,\"ticks\":\"\"}}}],\"bar\":[{\"error_x\":{\"color\":\"#2a3f5f\"},\"error_y\":{\"color\":\"#2a3f5f\"},\"marker\":{\"line\":{\"color\":\"#E5ECF6\",\"width\":0.5},\"pattern\":{\"fillmode\":\"overlay\",\"size\":10,\"solidity\":0.2}},\"type\":\"bar\"}],\"scattergeo\":[{\"type\":\"scattergeo\",\"marker\":{\"colorbar\":{\"outlinewidth\":0,\"ticks\":\"\"}}}],\"scatterpolar\":[{\"type\":\"scatterpolar\",\"marker\":{\"colorbar\":{\"outlinewidth\":0,\"ticks\":\"\"}}}],\"histogram\":[{\"marker\":{\"pattern\":{\"fillmode\":\"overlay\",\"size\":10,\"solidity\":0.2}},\"type\":\"histogram\"}],\"scattergl\":[{\"type\":\"scattergl\",\"marker\":{\"colorbar\":{\"outlinewidth\":0,\"ticks\":\"\"}}}],\"scatter3d\":[{\"type\":\"scatter3d\",\"line\":{\"colorbar\":{\"outlinewidth\":0,\"ticks\":\"\"}},\"marker\":{\"colorbar\":{\"outlinewidth\":0,\"ticks\":\"\"}}}],\"scattermapbox\":[{\"type\":\"scattermapbox\",\"marker\":{\"colorbar\":{\"outlinewidth\":0,\"ticks\":\"\"}}}],\"scatterternary\":[{\"type\":\"scatterternary\",\"marker\":{\"colorbar\":{\"outlinewidth\":0,\"ticks\":\"\"}}}],\"scattercarpet\":[{\"type\":\"scattercarpet\",\"marker\":{\"colorbar\":{\"outlinewidth\":0,\"ticks\":\"\"}}}],\"carpet\":[{\"aaxis\":{\"endlinecolor\":\"#2a3f5f\",\"gridcolor\":\"white\",\"linecolor\":\"white\",\"minorgridcolor\":\"white\",\"startlinecolor\":\"#2a3f5f\"},\"baxis\":{\"endlinecolor\":\"#2a3f5f\",\"gridcolor\":\"white\",\"linecolor\":\"white\",\"minorgridcolor\":\"white\",\"startlinecolor\":\"#2a3f5f\"},\"type\":\"carpet\"}],\"table\":[{\"cells\":{\"fill\":{\"color\":\"#EBF0F8\"},\"line\":{\"color\":\"white\"}},\"header\":{\"fill\":{\"color\":\"#C8D4E3\"},\"line\":{\"color\":\"white\"}},\"type\":\"table\"}],\"barpolar\":[{\"marker\":{\"line\":{\"color\":\"#E5ECF6\",\"width\":0.5},\"pattern\":{\"fillmode\":\"overlay\",\"size\":10,\"solidity\":0.2}},\"type\":\"barpolar\"}],\"pie\":[{\"automargin\":true,\"type\":\"pie\"}]},\"layout\":{\"autotypenumbers\":\"strict\",\"colorway\":[\"#636efa\",\"#EF553B\",\"#00cc96\",\"#ab63fa\",\"#FFA15A\",\"#19d3f3\",\"#FF6692\",\"#B6E880\",\"#FF97FF\",\"#FECB52\"],\"font\":{\"color\":\"#2a3f5f\"},\"hovermode\":\"closest\",\"hoverlabel\":{\"align\":\"left\"},\"paper_bgcolor\":\"white\",\"plot_bgcolor\":\"#E5ECF6\",\"polar\":{\"bgcolor\":\"#E5ECF6\",\"angularaxis\":{\"gridcolor\":\"white\",\"linecolor\":\"white\",\"ticks\":\"\"},\"radialaxis\":{\"gridcolor\":\"white\",\"linecolor\":\"white\",\"ticks\":\"\"}},\"ternary\":{\"bgcolor\":\"#E5ECF6\",\"aaxis\":{\"gridcolor\":\"white\",\"linecolor\":\"white\",\"ticks\":\"\"},\"baxis\":{\"gridcolor\":\"white\",\"linecolor\":\"white\",\"ticks\":\"\"},\"caxis\":{\"gridcolor\":\"white\",\"linecolor\":\"white\",\"ticks\":\"\"}},\"coloraxis\":{\"colorbar\":{\"outlinewidth\":0,\"ticks\":\"\"}},\"colorscale\":{\"sequential\":[[0.0,\"#0d0887\"],[0.1111111111111111,\"#46039f\"],[0.2222222222222222,\"#7201a8\"],[0.3333333333333333,\"#9c179e\"],[0.4444444444444444,\"#bd3786\"],[0.5555555555555556,\"#d8576b\"],[0.6666666666666666,\"#ed7953\"],[0.7777777777777778,\"#fb9f3a\"],[0.8888888888888888,\"#fdca26\"],[1.0,\"#f0f921\"]],\"sequentialminus\":[[0.0,\"#0d0887\"],[0.1111111111111111,\"#46039f\"],[0.2222222222222222,\"#7201a8\"],[0.3333333333333333,\"#9c179e\"],[0.4444444444444444,\"#bd3786\"],[0.5555555555555556,\"#d8576b\"],[0.6666666666666666,\"#ed7953\"],[0.7777777777777778,\"#fb9f3a\"],[0.8888888888888888,\"#fdca26\"],[1.0,\"#f0f921\"]],\"diverging\":[[0,\"#8e0152\"],[0.1,\"#c51b7d\"],[0.2,\"#de77ae\"],[0.3,\"#f1b6da\"],[0.4,\"#fde0ef\"],[0.5,\"#f7f7f7\"],[0.6,\"#e6f5d0\"],[0.7,\"#b8e186\"],[0.8,\"#7fbc41\"],[0.9,\"#4d9221\"],[1,\"#276419\"]]},\"xaxis\":{\"gridcolor\":\"white\",\"linecolor\":\"white\",\"ticks\":\"\",\"title\":{\"standoff\":15},\"zerolinecolor\":\"white\",\"automargin\":true,\"zerolinewidth\":2},\"yaxis\":{\"gridcolor\":\"white\",\"linecolor\":\"white\",\"ticks\":\"\",\"title\":{\"standoff\":15},\"zerolinecolor\":\"white\",\"automargin\":true,\"zerolinewidth\":2},\"scene\":{\"xaxis\":{\"backgroundcolor\":\"#E5ECF6\",\"gridcolor\":\"white\",\"linecolor\":\"white\",\"showbackground\":true,\"ticks\":\"\",\"zerolinecolor\":\"white\",\"gridwidth\":2},\"yaxis\":{\"backgroundcolor\":\"#E5ECF6\",\"gridcolor\":\"white\",\"linecolor\":\"white\",\"showbackground\":true,\"ticks\":\"\",\"zerolinecolor\":\"white\",\"gridwidth\":2},\"zaxis\":{\"backgroundcolor\":\"#E5ECF6\",\"gridcolor\":\"white\",\"linecolor\":\"white\",\"showbackground\":true,\"ticks\":\"\",\"zerolinecolor\":\"white\",\"gridwidth\":2}},\"shapedefaults\":{\"line\":{\"color\":\"#2a3f5f\"}},\"annotationdefaults\":{\"arrowcolor\":\"#2a3f5f\",\"arrowhead\":0,\"arrowwidth\":1},\"geo\":{\"bgcolor\":\"white\",\"landcolor\":\"#E5ECF6\",\"subunitcolor\":\"white\",\"showland\":true,\"showlakes\":true,\"lakecolor\":\"white\"},\"title\":{\"x\":0.05},\"mapbox\":{\"style\":\"light\"}}}},                        {\"responsive\": true}                    ).then(function(){\n",
              "                            \n",
              "var gd = document.getElementById('187f1d12-7b32-4886-a90a-be9876463e93');\n",
              "var x = new MutationObserver(function (mutations, observer) {{\n",
              "        var display = window.getComputedStyle(gd).display;\n",
              "        if (!display || display === 'none') {{\n",
              "            console.log([gd, 'removed!']);\n",
              "            Plotly.purge(gd);\n",
              "            observer.disconnect();\n",
              "        }}\n",
              "}});\n",
              "\n",
              "// Listen for the removal of the full notebook cells\n",
              "var notebookContainer = gd.closest('#notebook-container');\n",
              "if (notebookContainer) {{\n",
              "    x.observe(notebookContainer, {childList: true});\n",
              "}}\n",
              "\n",
              "// Listen for the clearing of the current output cell\n",
              "var outputEl = gd.closest('.output');\n",
              "if (outputEl) {{\n",
              "    x.observe(outputEl, {childList: true});\n",
              "}}\n",
              "\n",
              "                        })                };                            </script>        </div>\n",
              "</body>\n",
              "</html>"
            ]
          },
          "metadata": {}
        }
      ]
    },
    {
      "cell_type": "code",
      "source": [],
      "metadata": {
        "id": "_47HezGn0CZy"
      },
      "execution_count": null,
      "outputs": []
    }
  ]
}